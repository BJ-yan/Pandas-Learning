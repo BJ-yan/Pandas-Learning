{
 "cells": [
  {
   "cell_type": "code",
<<<<<<< Updated upstream
   "execution_count": 2,
=======
   "execution_count": 3,
>>>>>>> Stashed changes
   "id": "initial_id",
   "metadata": {
    "collapsed": true,
    "ExecuteTime": {
<<<<<<< Updated upstream
     "end_time": "2025-06-03T07:13:48.479222100Z",
     "start_time": "2025-06-03T07:13:48.453107400Z"
=======
     "end_time": "2025-06-04T09:26:43.226983900Z",
     "start_time": "2025-06-04T09:26:42.963609500Z"
>>>>>>> Stashed changes
    }
   },
   "outputs": [],
   "source": [
    "# 导包\n",
    "import pandas as pd\n",
    "import numpy as np"
   ]
  },
  {
   "cell_type": "markdown",
   "source": [
    "# Series对象的创建及常用属性"
   ],
   "metadata": {
    "collapsed": false
   },
   "id": "7ef7b6853650fc3c"
  },
  {
   "cell_type": "code",
   "execution_count": 3,
   "outputs": [
    {
     "name": "stdout",
     "output_type": "stream",
     "text": [
      "0    a\n",
      "1    b\n",
      "2    c\n",
      "dtype: object\n"
     ]
    }
   ],
   "source": [
    "# 方式一： python list - Series 默认索引\n",
    "s1 = pd.Series(['a', 'b', 'c'])\n",
    "print(s1)"
   ],
   "metadata": {
    "collapsed": false,
    "ExecuteTime": {
     "end_time": "2025-06-03T07:13:48.482723400Z",
     "start_time": "2025-06-03T07:13:48.465184600Z"
    }
   },
   "id": "3e4b7b1d797b204a"
  },
  {
   "cell_type": "code",
   "execution_count": 4,
   "outputs": [
    {
     "data": {
      "text/plain": "aa    a\nbb    b\ncc    c\ndtype: object"
     },
     "execution_count": 4,
     "metadata": {},
     "output_type": "execute_result"
    }
   ],
   "source": [
    "# 方式二：python list - Series 指定索引\n",
    "s2 = pd.Series(['a', 'b', 'c'], index = ['aa', 'bb', 'cc'])\n",
    "s2"
   ],
   "metadata": {
    "collapsed": false,
    "ExecuteTime": {
     "end_time": "2025-06-03T07:13:48.638621300Z",
     "start_time": "2025-06-03T07:13:48.474710200Z"
    }
   },
   "id": "f95e20c1b208903a"
  },
  {
   "cell_type": "code",
   "execution_count": 5,
   "outputs": [
    {
     "data": {
      "text/plain": "name       aa\ngender    man\nage        23\ndtype: object"
     },
     "execution_count": 5,
     "metadata": {},
     "output_type": "execute_result"
    }
   ],
   "source": [
    "# 方式三\n",
    "s3 = pd.Series(('aa', 'man', 23), index = ['name', 'gender', 'age'])\n",
    "s3"
   ],
   "metadata": {
    "collapsed": false,
    "ExecuteTime": {
     "end_time": "2025-06-03T07:13:48.639621500Z",
     "start_time": "2025-06-03T07:13:48.482723400Z"
    }
   },
   "id": "2fd02ecb16ecde3e"
  },
  {
   "cell_type": "code",
   "execution_count": 6,
   "outputs": [
    {
     "data": {
      "text/plain": "name       aa\ngender    man\nage        23\ndtype: object"
     },
     "execution_count": 6,
     "metadata": {},
     "output_type": "execute_result"
    }
   ],
   "source": [
    "# 字典转换series\n",
    "s4 = pd.Series({'name':\"aa\", \"gender\":\"man\", \"age\":23})\n",
    "s4"
   ],
   "metadata": {
    "collapsed": false,
    "ExecuteTime": {
     "end_time": "2025-06-03T07:13:48.639621500Z",
     "start_time": "2025-06-03T07:13:48.487726800Z"
    }
   },
   "id": "90e2ea495f13d81b"
  },
  {
   "cell_type": "code",
   "execution_count": 7,
   "outputs": [
    {
     "name": "stdout",
     "output_type": "stream",
     "text": [
      "[0 1 2 3 4] <class 'numpy.ndarray'>\n"
     ]
    },
    {
     "data": {
      "text/plain": "0    0\n1    1\n2    2\n3    3\n4    4\ndtype: int64"
     },
     "execution_count": 7,
     "metadata": {},
     "output_type": "execute_result"
    }
   ],
   "source": [
    "# 方式五 把Numpy ndarray 转换成pandas\n",
    "arr = np.arange(5)\n",
    "print(arr, type(arr))\n",
    "s5 = pd.Series(arr)\n",
    "s5"
   ],
   "metadata": {
    "collapsed": false,
    "ExecuteTime": {
     "end_time": "2025-06-03T07:13:48.639621500Z",
     "start_time": "2025-06-03T07:13:48.494235300Z"
    }
   },
   "id": "e9b9b70c871516e4"
  },
  {
   "cell_type": "markdown",
   "source": [
    "## Series 对象的常用属性"
   ],
   "metadata": {
    "collapsed": false
   },
   "id": "c25425619c05a271"
  },
  {
   "cell_type": "code",
   "execution_count": 8,
   "outputs": [
    {
     "data": {
      "text/plain": "a    0\nb    1\nc    2\nd    3\ne    4\nf    5\ndtype: int64"
     },
     "execution_count": 8,
     "metadata": {},
     "output_type": "execute_result"
    }
   ],
   "source": [
    "#data = 数据 index = 索引\n",
    "s6 = pd.Series(data = [i for i in range(6)], index = [ i for i in \"abcdef\"])\n",
    "s6"
   ],
   "metadata": {
    "collapsed": false,
    "ExecuteTime": {
     "end_time": "2025-06-03T07:13:48.639621500Z",
     "start_time": "2025-06-03T07:13:48.497234800Z"
    }
   },
   "id": "9147284d3feefca7"
  },
  {
   "cell_type": "code",
   "execution_count": 9,
   "outputs": [
    {
     "name": "stdout",
     "output_type": "stream",
     "text": [
      "Index(['a', 'b', 'c', 'd', 'e', 'f'], dtype='object')\n",
      "[0 1 2 3 4 5]\n",
      "3\n"
     ]
    }
   ],
   "source": [
    "# 演示常用属性\n",
    "# 获取索引列\n",
    "print(s6.index)\n",
    "\n",
    "# 获取数值列\n",
    "print(s6.values)\n",
    "\n",
    "#根据索引获取对应的值\n",
    "print(s6['d'])"
   ],
   "metadata": {
    "collapsed": false,
    "ExecuteTime": {
     "end_time": "2025-06-03T07:13:48.641125600Z",
     "start_time": "2025-06-03T07:13:48.505802700Z"
    }
   },
   "id": "a18b1c1897b594ab"
  },
  {
   "cell_type": "markdown",
   "source": [
    "# DataFrame对象创建及常用属性"
   ],
   "metadata": {
    "collapsed": false
   },
   "id": "934b879b0362ec17"
  },
  {
   "cell_type": "code",
   "execution_count": 10,
   "outputs": [
    {
     "data": {
      "text/plain": "           日期  温度  湿度\na  2024-12-19   8  65\nb  2024-12-20   5  70\nc  2024-12-21   7  60",
      "text/html": "<div>\n<style scoped>\n    .dataframe tbody tr th:only-of-type {\n        vertical-align: middle;\n    }\n\n    .dataframe tbody tr th {\n        vertical-align: top;\n    }\n\n    .dataframe thead th {\n        text-align: right;\n    }\n</style>\n<table border=\"1\" class=\"dataframe\">\n  <thead>\n    <tr style=\"text-align: right;\">\n      <th></th>\n      <th>日期</th>\n      <th>温度</th>\n      <th>湿度</th>\n    </tr>\n  </thead>\n  <tbody>\n    <tr>\n      <th>a</th>\n      <td>2024-12-19</td>\n      <td>8</td>\n      <td>65</td>\n    </tr>\n    <tr>\n      <th>b</th>\n      <td>2024-12-20</td>\n      <td>5</td>\n      <td>70</td>\n    </tr>\n    <tr>\n      <th>c</th>\n      <td>2024-12-21</td>\n      <td>7</td>\n      <td>60</td>\n    </tr>\n  </tbody>\n</table>\n</div>"
     },
     "execution_count": 10,
     "metadata": {},
     "output_type": "execute_result"
    }
   ],
   "source": [
    "# 字典 - DataFrame\n",
    "# 定义数据集\n",
    "data_dict = {\n",
    "    '日期' : ['2024-12-19', '2024-12-20', '2024-12-21'],\n",
    "    '温度' : [8, 5, 7],\n",
    "    '湿度' : [65, 70, 60]\n",
    "}\n",
    "\n",
    "#字典中的每一对kv 对应了dataframe的一列\n",
    "df1 = pd.DataFrame(data = data_dict, index = ['a', 'b', 'c']) # 默认索引\n",
    "df1\n"
   ],
   "metadata": {
    "collapsed": false,
    "ExecuteTime": {
     "end_time": "2025-06-03T07:13:48.671483100Z",
     "start_time": "2025-06-03T07:13:48.509801200Z"
    }
   },
   "id": "d8271d7d826bfb00"
  },
  {
   "cell_type": "code",
   "execution_count": 11,
   "outputs": [
    {
     "data": {
      "text/plain": "           日期  温度  湿度\nA  2024-12-19   8  65\nB  2024-12-20   5  70\nC  2024-12-21   7  50",
      "text/html": "<div>\n<style scoped>\n    .dataframe tbody tr th:only-of-type {\n        vertical-align: middle;\n    }\n\n    .dataframe tbody tr th {\n        vertical-align: top;\n    }\n\n    .dataframe thead th {\n        text-align: right;\n    }\n</style>\n<table border=\"1\" class=\"dataframe\">\n  <thead>\n    <tr style=\"text-align: right;\">\n      <th></th>\n      <th>日期</th>\n      <th>温度</th>\n      <th>湿度</th>\n    </tr>\n  </thead>\n  <tbody>\n    <tr>\n      <th>A</th>\n      <td>2024-12-19</td>\n      <td>8</td>\n      <td>65</td>\n    </tr>\n    <tr>\n      <th>B</th>\n      <td>2024-12-20</td>\n      <td>5</td>\n      <td>70</td>\n    </tr>\n    <tr>\n      <th>C</th>\n      <td>2024-12-21</td>\n      <td>7</td>\n      <td>50</td>\n    </tr>\n  </tbody>\n</table>\n</div>"
     },
     "execution_count": 11,
     "metadata": {},
     "output_type": "execute_result"
    }
   ],
   "source": [
    "#方式二：\n",
    "# 列表 + 元组, 列表的每个数据是一行\n",
    "data_list = [\n",
    "    (\"2024-12-19\", 8, 65),\n",
    "    (\"2024-12-20\", 5, 70),\n",
    "    (\"2024-12-21\", 7, 50)\n",
    "]\n",
    "\n",
    "df2 = pd.DataFrame(data = data_list, columns = [\"日期\", \"温度\", \"湿度\"], index = ['A', 'B', \"C\"])\n",
    "# df2\n",
    "df2.sort_index()\n",
    "df2"
   ],
   "metadata": {
    "collapsed": false,
    "ExecuteTime": {
     "end_time": "2025-06-03T07:13:48.673486800Z",
     "start_time": "2025-06-03T07:13:48.519433900Z"
    }
   },
   "id": "dc45e4844b7f4fb2"
  },
  {
   "cell_type": "code",
   "execution_count": 12,
   "outputs": [
    {
     "name": "stdout",
     "output_type": "stream",
     "text": [
      "2\n"
     ]
    }
   ],
   "source": [
    "arr = np.array([[1,2], [3,4]])\n",
    "print(arr.ndim)"
   ],
   "metadata": {
    "collapsed": false,
    "ExecuteTime": {
     "end_time": "2025-06-03T07:13:48.673486800Z",
     "start_time": "2025-06-03T07:13:48.525827200Z"
    }
   },
   "id": "48937e67d1acf684"
  },
  {
   "cell_type": "code",
   "execution_count": 7,
   "outputs": [
    {
     "data": {
      "text/plain": "      日          月    湿度\n0  aaa1  [1, 2, 3]  AAA1\n1  aaa1  [1, 2, 3]  AAA1\n2  aaa1  [1, 2, 3]  AAA1",
      "text/html": "<div>\n<style scoped>\n    .dataframe tbody tr th:only-of-type {\n        vertical-align: middle;\n    }\n\n    .dataframe tbody tr th {\n        vertical-align: top;\n    }\n\n    .dataframe thead th {\n        text-align: right;\n    }\n</style>\n<table border=\"1\" class=\"dataframe\">\n  <thead>\n    <tr style=\"text-align: right;\">\n      <th></th>\n      <th>日</th>\n      <th>月</th>\n      <th>湿度</th>\n    </tr>\n  </thead>\n  <tbody>\n    <tr>\n      <th>0</th>\n      <td>aaa1</td>\n      <td>[1, 2, 3]</td>\n      <td>AAA1</td>\n    </tr>\n    <tr>\n      <th>1</th>\n      <td>aaa1</td>\n      <td>[1, 2, 3]</td>\n      <td>AAA1</td>\n    </tr>\n    <tr>\n      <th>2</th>\n      <td>aaa1</td>\n      <td>[1, 2, 3]</td>\n      <td>AAA1</td>\n    </tr>\n  </tbody>\n</table>\n</div>"
     },
     "execution_count": 7,
     "metadata": {},
     "output_type": "execute_result"
    }
   ],
   "source": [
    "# 加入是列表 + 列表， 元组 + 元组呢\n",
    "\n",
    "data_list = [\n",
    "    [\"aaa\", 1, \"AAA\"],\n",
    "    [\"bbb\", 2, \"BBB\"],\n",
    "    [\"ccc\", 3, \"CCC\"],\n",
    "]\n",
    "\n",
    "df3 = pd.DataFrame(data = data_list, columns = [\"日\", \"月\", \"湿度\"])\n",
    "df3\n"
   ],
   "metadata": {
    "collapsed": false,
    "ExecuteTime": {
     "end_time": "2025-06-04T09:35:00.454731900Z",
     "start_time": "2025-06-04T09:35:00.429436300Z"
    }
   },
   "id": "643327e852c291f6"
  },
  {
   "cell_type": "code",
   "execution_count": null,
   "outputs": [],
   "source": [
    "data_list = (\n",
    "    (\"aaa1\", [1, 2, 3], \"AAA1\"),\n",
    "    (\"aaa1\", [1, 2, 3], \"AAA1\"),\n",
    "    (\"aaa1\", [1, 2, 3], \"AAA1\"),\n",
    ")\n",
    "df3 = pd.DataFrame(data = data_list, columns = [\"日\", \"月\", \"湿度\"])\n",
    "df3"
   ],
   "metadata": {
    "collapsed": false
   },
   "id": "fff6af195f5407e7"
  },
  {
   "cell_type": "code",
   "execution_count": 14,
   "outputs": [
    {
     "data": {
      "text/plain": "          年         月         日\n0 -1.127645 -0.547019  1.098884\n1  0.471453  1.122870  0.994800",
      "text/html": "<div>\n<style scoped>\n    .dataframe tbody tr th:only-of-type {\n        vertical-align: middle;\n    }\n\n    .dataframe tbody tr th {\n        vertical-align: top;\n    }\n\n    .dataframe thead th {\n        text-align: right;\n    }\n</style>\n<table border=\"1\" class=\"dataframe\">\n  <thead>\n    <tr style=\"text-align: right;\">\n      <th></th>\n      <th>年</th>\n      <th>月</th>\n      <th>日</th>\n    </tr>\n  </thead>\n  <tbody>\n    <tr>\n      <th>0</th>\n      <td>-1.127645</td>\n      <td>-0.547019</td>\n      <td>1.098884</td>\n    </tr>\n    <tr>\n      <th>1</th>\n      <td>0.471453</td>\n      <td>1.122870</td>\n      <td>0.994800</td>\n    </tr>\n  </tbody>\n</table>\n</div>"
     },
     "execution_count": 14,
     "metadata": {},
     "output_type": "execute_result"
    }
   ],
   "source": [
    "data = (np.random.randn(2, 3))\n",
    "df4 = pd.DataFrame(data = data, columns = ['年', '月', '日'])\n",
    "df4"
   ],
   "metadata": {
    "collapsed": false,
    "ExecuteTime": {
     "end_time": "2025-06-04T09:38:55.653055100Z",
     "start_time": "2025-06-04T09:38:55.621808400Z"
    }
   },
   "id": "1583a9ecc0c26812"
  },
  {
   "cell_type": "markdown",
   "source": [
    "# dataFrame的属性"
   ],
   "metadata": {
    "collapsed": false
   },
   "id": "78b84828b707d6c"
  },
  {
   "cell_type": "code",
<<<<<<< Updated upstream
   "execution_count": 13,
=======
   "execution_count": 15,
>>>>>>> Stashed changes
   "outputs": [
    {
     "name": "stdout",
     "output_type": "stream",
     "text": [
      "    0   1   2   3   4\n",
<<<<<<< Updated upstream
      "0  99  97  81  60  57\n",
      "1  75  94  65  49  88\n",
      "2  58  63  96  42  40\n",
      "3  90  86  91  70  66\n",
      "4  76  96  62  42  67\n",
      "5  55  82  95  53  70\n",
      "6  83  96  43  41  65\n",
      "7  80  44  83  75  57\n",
      "8  50  73  59  69  90\n",
      "9  69  93  58  60  79\n",
      "      语   外   物   化   生\n",
      "同学0  99  97  81  60  57\n",
      "同学1  75  94  65  49  88\n",
      "同学2  58  63  96  42  40\n",
      "同学3  90  86  91  70  66\n",
      "同学4  76  96  62  42  67\n",
      "同学5  55  82  95  53  70\n",
      "同学6  83  96  43  41  65\n",
      "同学7  80  44  83  75  57\n",
      "同学8  50  73  59  69  90\n",
      "同学9  69  93  58  60  79\n"
=======
      "0  45  66  95  43  42\n",
      "1  50  86  56  69  46\n",
      "2  57  45  74  74  42\n",
      "3  68  69  68  54  89\n",
      "4  47  70  49  65  91\n",
      "5  77  94  43  94  98\n",
      "6  42  59  87  47  61\n",
      "7  61  98  57  63  82\n",
      "8  46  75  80  72  54\n",
      "9  71  70  74  75  54\n",
      "      语   外   物   化   生\n",
      "同学0  45  66  95  43  42\n",
      "同学1  50  86  56  69  46\n",
      "同学2  57  45  74  74  42\n",
      "同学3  68  69  68  54  89\n",
      "同学4  47  70  49  65  91\n",
      "同学5  77  94  43  94  98\n",
      "同学6  42  59  87  47  61\n",
      "同学7  61  98  57  63  82\n",
      "同学8  46  75  80  72  54\n",
      "同学9  71  70  74  75  54\n"
>>>>>>> Stashed changes
     ]
    }
   ],
   "source": [
    "# 创建dataframe对象，10个学生的五科成绩\n",
    "score_data = np.random.randint(40, 100, size = (10, 5))\n",
    "score_data\n",
    "\n",
    "# 创建对应的data \n",
    "score_df = pd.DataFrame(score_data)\n",
    "print(score_df)\n",
    "\n",
    "# 处理列名，行索引\n",
    "col_name = [\"语\", \"外\", \"物\", \"化\", \"生\"]\n",
    "idx_names = ['同学' + str(i) for i in range(score_df.shape[0])]\n",
    "score_df.columns = col_name\n",
    "score_df.index = idx_names\n",
    "\n",
    "print(score_df)"
   ],
   "metadata": {
    "collapsed": false,
    "ExecuteTime": {
<<<<<<< Updated upstream
     "end_time": "2025-06-03T07:13:48.673486800Z",
     "start_time": "2025-06-03T07:13:48.536962500Z"
=======
     "end_time": "2025-06-04T09:45:28.883678100Z",
     "start_time": "2025-06-04T09:45:28.825648Z"
>>>>>>> Stashed changes
    }
   },
   "id": "9edcdb7db23ac3d0"
  },
  {
   "cell_type": "markdown",
   "source": [
    "# DataFrame常用方法"
   ],
   "metadata": {
    "collapsed": false
   },
   "id": "4673fc7347ddeec3"
  },
  {
   "cell_type": "code",
<<<<<<< Updated upstream
   "execution_count": 14,
   "outputs": [
    {
     "data": {
      "text/plain": "      语   外   物   化   生\n同学0  99  97  81  60  57\n同学1  75  94  65  49  88\n同学2  58  63  96  42  40\n同学3  90  86  91  70  66\n同学4  76  96  62  42  67",
      "text/html": "<div>\n<style scoped>\n    .dataframe tbody tr th:only-of-type {\n        vertical-align: middle;\n    }\n\n    .dataframe tbody tr th {\n        vertical-align: top;\n    }\n\n    .dataframe thead th {\n        text-align: right;\n    }\n</style>\n<table border=\"1\" class=\"dataframe\">\n  <thead>\n    <tr style=\"text-align: right;\">\n      <th></th>\n      <th>语</th>\n      <th>外</th>\n      <th>物</th>\n      <th>化</th>\n      <th>生</th>\n    </tr>\n  </thead>\n  <tbody>\n    <tr>\n      <th>同学0</th>\n      <td>99</td>\n      <td>97</td>\n      <td>81</td>\n      <td>60</td>\n      <td>57</td>\n    </tr>\n    <tr>\n      <th>同学1</th>\n      <td>75</td>\n      <td>94</td>\n      <td>65</td>\n      <td>49</td>\n      <td>88</td>\n    </tr>\n    <tr>\n      <th>同学2</th>\n      <td>58</td>\n      <td>63</td>\n      <td>96</td>\n      <td>42</td>\n      <td>40</td>\n    </tr>\n    <tr>\n      <th>同学3</th>\n      <td>90</td>\n      <td>86</td>\n      <td>91</td>\n      <td>70</td>\n      <td>66</td>\n    </tr>\n    <tr>\n      <th>同学4</th>\n      <td>76</td>\n      <td>96</td>\n      <td>62</td>\n      <td>42</td>\n      <td>67</td>\n    </tr>\n  </tbody>\n</table>\n</div>"
     },
     "execution_count": 14,
=======
   "execution_count": 16,
   "outputs": [
    {
     "data": {
      "text/plain": "      语   外   物   化   生\n同学0  45  66  95  43  42\n同学1  50  86  56  69  46\n同学2  57  45  74  74  42\n同学3  68  69  68  54  89\n同学4  47  70  49  65  91",
      "text/html": "<div>\n<style scoped>\n    .dataframe tbody tr th:only-of-type {\n        vertical-align: middle;\n    }\n\n    .dataframe tbody tr th {\n        vertical-align: top;\n    }\n\n    .dataframe thead th {\n        text-align: right;\n    }\n</style>\n<table border=\"1\" class=\"dataframe\">\n  <thead>\n    <tr style=\"text-align: right;\">\n      <th></th>\n      <th>语</th>\n      <th>外</th>\n      <th>物</th>\n      <th>化</th>\n      <th>生</th>\n    </tr>\n  </thead>\n  <tbody>\n    <tr>\n      <th>同学0</th>\n      <td>45</td>\n      <td>66</td>\n      <td>95</td>\n      <td>43</td>\n      <td>42</td>\n    </tr>\n    <tr>\n      <th>同学1</th>\n      <td>50</td>\n      <td>86</td>\n      <td>56</td>\n      <td>69</td>\n      <td>46</td>\n    </tr>\n    <tr>\n      <th>同学2</th>\n      <td>57</td>\n      <td>45</td>\n      <td>74</td>\n      <td>74</td>\n      <td>42</td>\n    </tr>\n    <tr>\n      <th>同学3</th>\n      <td>68</td>\n      <td>69</td>\n      <td>68</td>\n      <td>54</td>\n      <td>89</td>\n    </tr>\n    <tr>\n      <th>同学4</th>\n      <td>47</td>\n      <td>70</td>\n      <td>49</td>\n      <td>65</td>\n      <td>91</td>\n    </tr>\n  </tbody>\n</table>\n</div>"
     },
     "execution_count": 16,
>>>>>>> Stashed changes
     "metadata": {},
     "output_type": "execute_result"
    }
   ],
   "source": [
    "score_df.head()"
   ],
   "metadata": {
    "collapsed": false,
    "ExecuteTime": {
<<<<<<< Updated upstream
     "end_time": "2025-06-03T07:13:48.676774100Z",
     "start_time": "2025-06-03T07:13:48.539962900Z"
=======
     "end_time": "2025-06-04T09:45:31.764067300Z",
     "start_time": "2025-06-04T09:45:31.723400700Z"
>>>>>>> Stashed changes
    }
   },
   "id": "5f3e16774b838134"
  },
  {
   "cell_type": "code",
<<<<<<< Updated upstream
   "execution_count": 15,
   "outputs": [
    {
     "data": {
      "text/plain": "      语   外   物   化   生\n同学5  55  82  95  53  70\n同学6  83  96  43  41  65\n同学7  80  44  83  75  57\n同学8  50  73  59  69  90\n同学9  69  93  58  60  79",
      "text/html": "<div>\n<style scoped>\n    .dataframe tbody tr th:only-of-type {\n        vertical-align: middle;\n    }\n\n    .dataframe tbody tr th {\n        vertical-align: top;\n    }\n\n    .dataframe thead th {\n        text-align: right;\n    }\n</style>\n<table border=\"1\" class=\"dataframe\">\n  <thead>\n    <tr style=\"text-align: right;\">\n      <th></th>\n      <th>语</th>\n      <th>外</th>\n      <th>物</th>\n      <th>化</th>\n      <th>生</th>\n    </tr>\n  </thead>\n  <tbody>\n    <tr>\n      <th>同学5</th>\n      <td>55</td>\n      <td>82</td>\n      <td>95</td>\n      <td>53</td>\n      <td>70</td>\n    </tr>\n    <tr>\n      <th>同学6</th>\n      <td>83</td>\n      <td>96</td>\n      <td>43</td>\n      <td>41</td>\n      <td>65</td>\n    </tr>\n    <tr>\n      <th>同学7</th>\n      <td>80</td>\n      <td>44</td>\n      <td>83</td>\n      <td>75</td>\n      <td>57</td>\n    </tr>\n    <tr>\n      <th>同学8</th>\n      <td>50</td>\n      <td>73</td>\n      <td>59</td>\n      <td>69</td>\n      <td>90</td>\n    </tr>\n    <tr>\n      <th>同学9</th>\n      <td>69</td>\n      <td>93</td>\n      <td>58</td>\n      <td>60</td>\n      <td>79</td>\n    </tr>\n  </tbody>\n</table>\n</div>"
     },
     "execution_count": 15,
=======
   "execution_count": 17,
   "outputs": [
    {
     "data": {
      "text/plain": "      语   外   物   化   生\n同学5  77  94  43  94  98\n同学6  42  59  87  47  61\n同学7  61  98  57  63  82\n同学8  46  75  80  72  54\n同学9  71  70  74  75  54",
      "text/html": "<div>\n<style scoped>\n    .dataframe tbody tr th:only-of-type {\n        vertical-align: middle;\n    }\n\n    .dataframe tbody tr th {\n        vertical-align: top;\n    }\n\n    .dataframe thead th {\n        text-align: right;\n    }\n</style>\n<table border=\"1\" class=\"dataframe\">\n  <thead>\n    <tr style=\"text-align: right;\">\n      <th></th>\n      <th>语</th>\n      <th>外</th>\n      <th>物</th>\n      <th>化</th>\n      <th>生</th>\n    </tr>\n  </thead>\n  <tbody>\n    <tr>\n      <th>同学5</th>\n      <td>77</td>\n      <td>94</td>\n      <td>43</td>\n      <td>94</td>\n      <td>98</td>\n    </tr>\n    <tr>\n      <th>同学6</th>\n      <td>42</td>\n      <td>59</td>\n      <td>87</td>\n      <td>47</td>\n      <td>61</td>\n    </tr>\n    <tr>\n      <th>同学7</th>\n      <td>61</td>\n      <td>98</td>\n      <td>57</td>\n      <td>63</td>\n      <td>82</td>\n    </tr>\n    <tr>\n      <th>同学8</th>\n      <td>46</td>\n      <td>75</td>\n      <td>80</td>\n      <td>72</td>\n      <td>54</td>\n    </tr>\n    <tr>\n      <th>同学9</th>\n      <td>71</td>\n      <td>70</td>\n      <td>74</td>\n      <td>75</td>\n      <td>54</td>\n    </tr>\n  </tbody>\n</table>\n</div>"
     },
     "execution_count": 17,
>>>>>>> Stashed changes
     "metadata": {},
     "output_type": "execute_result"
    }
   ],
   "source": [
    "score_df.tail()"
   ],
   "metadata": {
    "collapsed": false,
    "ExecuteTime": {
<<<<<<< Updated upstream
     "end_time": "2025-06-03T07:13:48.678010200Z",
     "start_time": "2025-06-03T07:13:48.544476100Z"
=======
     "end_time": "2025-06-04T09:45:35.006178200Z",
     "start_time": "2025-06-04T09:45:34.980923500Z"
>>>>>>> Stashed changes
    }
   },
   "id": "f1ae6dc237a18ee6"
  },
  {
   "cell_type": "code",
<<<<<<< Updated upstream
   "execution_count": 16,
   "outputs": [
    {
     "data": {
      "text/plain": "               语         外          物          化          生\ncount  10.000000  10.00000  10.000000  10.000000  10.000000\nmean   73.500000  82.40000  73.300000  56.100000  67.900000\nstd    15.700318  17.58282  18.275971  12.617889  15.088259\nmin    50.000000  44.00000  43.000000  41.000000  40.000000\n25%    60.750000  75.25000  59.750000  43.750000  59.000000\n50%    75.500000  89.50000  73.000000  56.500000  66.500000\n75%    82.250000  95.50000  89.000000  66.750000  76.750000\nmax    99.000000  97.00000  96.000000  75.000000  90.000000",
      "text/html": "<div>\n<style scoped>\n    .dataframe tbody tr th:only-of-type {\n        vertical-align: middle;\n    }\n\n    .dataframe tbody tr th {\n        vertical-align: top;\n    }\n\n    .dataframe thead th {\n        text-align: right;\n    }\n</style>\n<table border=\"1\" class=\"dataframe\">\n  <thead>\n    <tr style=\"text-align: right;\">\n      <th></th>\n      <th>语</th>\n      <th>外</th>\n      <th>物</th>\n      <th>化</th>\n      <th>生</th>\n    </tr>\n  </thead>\n  <tbody>\n    <tr>\n      <th>count</th>\n      <td>10.000000</td>\n      <td>10.00000</td>\n      <td>10.000000</td>\n      <td>10.000000</td>\n      <td>10.000000</td>\n    </tr>\n    <tr>\n      <th>mean</th>\n      <td>73.500000</td>\n      <td>82.40000</td>\n      <td>73.300000</td>\n      <td>56.100000</td>\n      <td>67.900000</td>\n    </tr>\n    <tr>\n      <th>std</th>\n      <td>15.700318</td>\n      <td>17.58282</td>\n      <td>18.275971</td>\n      <td>12.617889</td>\n      <td>15.088259</td>\n    </tr>\n    <tr>\n      <th>min</th>\n      <td>50.000000</td>\n      <td>44.00000</td>\n      <td>43.000000</td>\n      <td>41.000000</td>\n      <td>40.000000</td>\n    </tr>\n    <tr>\n      <th>25%</th>\n      <td>60.750000</td>\n      <td>75.25000</td>\n      <td>59.750000</td>\n      <td>43.750000</td>\n      <td>59.000000</td>\n    </tr>\n    <tr>\n      <th>50%</th>\n      <td>75.500000</td>\n      <td>89.50000</td>\n      <td>73.000000</td>\n      <td>56.500000</td>\n      <td>66.500000</td>\n    </tr>\n    <tr>\n      <th>75%</th>\n      <td>82.250000</td>\n      <td>95.50000</td>\n      <td>89.000000</td>\n      <td>66.750000</td>\n      <td>76.750000</td>\n    </tr>\n    <tr>\n      <th>max</th>\n      <td>99.000000</td>\n      <td>97.00000</td>\n      <td>96.000000</td>\n      <td>75.000000</td>\n      <td>90.000000</td>\n    </tr>\n  </tbody>\n</table>\n</div>"
     },
     "execution_count": 16,
=======
   "execution_count": 18,
   "outputs": [
    {
     "data": {
      "text/plain": "              语          外          物          化          生\ncount  10.00000  10.000000  10.000000  10.000000  10.000000\nmean   56.40000  73.200000  68.300000  65.600000  65.900000\nstd    12.33063  15.991664  16.852629  14.968114  21.855332\nmin    42.00000  45.000000  43.000000  43.000000  42.000000\n25%    46.25000  66.750000  56.250000  56.250000  48.000000\n50%    53.50000  70.000000  71.000000  67.000000  57.500000\n75%    66.25000  83.250000  78.500000  73.500000  87.250000\nmax    77.00000  98.000000  95.000000  94.000000  98.000000",
      "text/html": "<div>\n<style scoped>\n    .dataframe tbody tr th:only-of-type {\n        vertical-align: middle;\n    }\n\n    .dataframe tbody tr th {\n        vertical-align: top;\n    }\n\n    .dataframe thead th {\n        text-align: right;\n    }\n</style>\n<table border=\"1\" class=\"dataframe\">\n  <thead>\n    <tr style=\"text-align: right;\">\n      <th></th>\n      <th>语</th>\n      <th>外</th>\n      <th>物</th>\n      <th>化</th>\n      <th>生</th>\n    </tr>\n  </thead>\n  <tbody>\n    <tr>\n      <th>count</th>\n      <td>10.00000</td>\n      <td>10.000000</td>\n      <td>10.000000</td>\n      <td>10.000000</td>\n      <td>10.000000</td>\n    </tr>\n    <tr>\n      <th>mean</th>\n      <td>56.40000</td>\n      <td>73.200000</td>\n      <td>68.300000</td>\n      <td>65.600000</td>\n      <td>65.900000</td>\n    </tr>\n    <tr>\n      <th>std</th>\n      <td>12.33063</td>\n      <td>15.991664</td>\n      <td>16.852629</td>\n      <td>14.968114</td>\n      <td>21.855332</td>\n    </tr>\n    <tr>\n      <th>min</th>\n      <td>42.00000</td>\n      <td>45.000000</td>\n      <td>43.000000</td>\n      <td>43.000000</td>\n      <td>42.000000</td>\n    </tr>\n    <tr>\n      <th>25%</th>\n      <td>46.25000</td>\n      <td>66.750000</td>\n      <td>56.250000</td>\n      <td>56.250000</td>\n      <td>48.000000</td>\n    </tr>\n    <tr>\n      <th>50%</th>\n      <td>53.50000</td>\n      <td>70.000000</td>\n      <td>71.000000</td>\n      <td>67.000000</td>\n      <td>57.500000</td>\n    </tr>\n    <tr>\n      <th>75%</th>\n      <td>66.25000</td>\n      <td>83.250000</td>\n      <td>78.500000</td>\n      <td>73.500000</td>\n      <td>87.250000</td>\n    </tr>\n    <tr>\n      <th>max</th>\n      <td>77.00000</td>\n      <td>98.000000</td>\n      <td>95.000000</td>\n      <td>94.000000</td>\n      <td>98.000000</td>\n    </tr>\n  </tbody>\n</table>\n</div>"
     },
     "execution_count": 18,
>>>>>>> Stashed changes
     "metadata": {},
     "output_type": "execute_result"
    }
   ],
   "source": [
    "score_df.describe()"
   ],
   "metadata": {
    "collapsed": false,
    "ExecuteTime": {
<<<<<<< Updated upstream
     "end_time": "2025-06-03T07:13:48.680014700Z",
     "start_time": "2025-06-03T07:13:48.567072600Z"
=======
     "end_time": "2025-06-04T09:45:55.531012100Z",
     "start_time": "2025-06-04T09:45:55.518612300Z"
>>>>>>> Stashed changes
    }
   },
   "id": "955e200f9c12d0fd"
  },
  {
   "cell_type": "code",
<<<<<<< Updated upstream
   "execution_count": 17,
=======
   "execution_count": 19,
>>>>>>> Stashed changes
   "outputs": [
    {
     "name": "stdout",
     "output_type": "stream",
     "text": [
      "<class 'pandas.core.frame.DataFrame'>\n",
      "Index: 10 entries, 同学0 to 同学9\n",
      "Data columns (total 5 columns):\n",
      " #   Column  Non-Null Count  Dtype\n",
      "---  ------  --------------  -----\n",
      " 0   语       10 non-null     int64\n",
      " 1   外       10 non-null     int64\n",
      " 2   物       10 non-null     int64\n",
      " 3   化       10 non-null     int64\n",
      " 4   生       10 non-null     int64\n",
      "dtypes: int64(5)\n",
      "memory usage: 480.0+ bytes\n"
     ]
    }
   ],
   "source": [
    "score_df.info()"
   ],
   "metadata": {
    "collapsed": false,
    "ExecuteTime": {
<<<<<<< Updated upstream
     "end_time": "2025-06-03T07:13:48.681517900Z",
     "start_time": "2025-06-03T07:13:48.567072600Z"
=======
     "end_time": "2025-06-04T09:46:44.873085400Z",
     "start_time": "2025-06-04T09:46:44.817535800Z"
>>>>>>> Stashed changes
    }
   },
   "id": "7b3df31f06969e1a"
  }
 ],
 "metadata": {
  "kernelspec": {
   "display_name": "Python 3",
   "language": "python",
   "name": "python3"
  },
  "language_info": {
   "codemirror_mode": {
    "name": "ipython",
    "version": 2
   },
   "file_extension": ".py",
   "mimetype": "text/x-python",
   "name": "python",
   "nbconvert_exporter": "python",
   "pygments_lexer": "ipython2",
   "version": "2.7.6"
  }
 },
 "nbformat": 4,
 "nbformat_minor": 5
}
