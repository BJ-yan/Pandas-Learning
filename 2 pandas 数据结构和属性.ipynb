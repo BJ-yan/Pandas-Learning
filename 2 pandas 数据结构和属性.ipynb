{
 "cells": [
  {
   "cell_type": "code",
   "execution_count": null,
   "id": "initial_id",
   "metadata": {
    "collapsed": true
   },
   "outputs": [],
   "source": [
    "# 导包\n",
    "import pandas as pd\n",
    "import numpy as np"
   ]
  },
  {
   "cell_type": "markdown",
   "source": [
    "# Series对象的创建及常用属性"
   ],
   "metadata": {
    "collapsed": false
   },
   "id": "7ef7b6853650fc3c"
  },
  {
   "cell_type": "code",
   "execution_count": null,
   "outputs": [],
   "source": [
    "# 方式一： python list - Series 默认索引\n",
    "s1 = pd.Series(['a', 'b', 'c'])\n",
    "print(s1)"
   ],
   "metadata": {
    "collapsed": false
   },
   "id": "3e4b7b1d797b204a"
  },
  {
   "cell_type": "code",
   "execution_count": null,
   "outputs": [],
   "source": [
    "# 方式二：python list - Series 指定索引\n",
    "s2 = pd.Series(['a', 'b', 'c'], index = ['aa', 'bb', 'cc'])\n",
    "s2"
   ],
   "metadata": {
    "collapsed": false
   },
   "id": "f95e20c1b208903a"
  },
  {
   "cell_type": "code",
   "execution_count": null,
   "outputs": [],
   "source": [
    "# 方式三\n",
    "s3 = pd.Series(('aa', 'man', 23), index = ['name', 'gender', 'age'])\n",
    "s3"
   ],
   "metadata": {
    "collapsed": false
   },
   "id": "2fd02ecb16ecde3e"
  },
  {
   "cell_type": "code",
   "execution_count": null,
   "outputs": [],
   "source": [
    "# 字典转换series\n",
    "s4 = pd.Series({'name':\"aa\", \"gender\":\"man\", \"age\":23})\n",
    "s4"
   ],
   "metadata": {
    "collapsed": false
   },
   "id": "90e2ea495f13d81b"
  },
  {
   "cell_type": "code",
   "execution_count": null,
   "outputs": [],
   "source": [
    "# 方式五 把Numpy ndarray 转换成pandas\n",
    "arr = np.arange(5)\n",
    "print(arr, type(arr))\n",
    "s5 = pd.Series(arr)\n",
    "s5"
   ],
   "metadata": {
    "collapsed": false
   },
   "id": "e9b9b70c871516e4"
  },
  {
   "cell_type": "markdown",
   "source": [
    "## Series 对象的常用属性"
   ],
   "metadata": {
    "collapsed": false
   },
   "id": "c25425619c05a271"
  },
  {
   "cell_type": "code",
   "execution_count": null,
   "outputs": [],
   "source": [
    "#data = 数据 index = 索引\n",
    "s6 = pd.Series(data = [i for i in range(6)], index = [ i for i in \"abcdef\"])\n",
    "s6"
   ],
   "metadata": {
    "collapsed": false
   },
   "id": "9147284d3feefca7"
  },
  {
   "cell_type": "code",
   "execution_count": null,
   "outputs": [],
   "source": [
    "# 演示常用属性\n",
    "# 获取索引列\n",
    "print(s6.index)\n",
    "\n",
    "# 获取数值列\n",
    "print(s6.values)\n",
    "\n",
    "#根据索引获取对应的值\n",
    "print(s6['d'])"
   ],
   "metadata": {
    "collapsed": false
   },
   "id": "a18b1c1897b594ab"
  },
  {
   "cell_type": "markdown",
   "source": [
    "# DataFrame对象创建及常用属性"
   ],
   "metadata": {
    "collapsed": false
   },
   "id": "934b879b0362ec17"
  },
  {
   "cell_type": "code",
   "execution_count": null,
   "outputs": [],
   "source": [
    "# 字典 - DataFrame\n",
    "# 定义数据集\n",
    "data_dict = {\n",
    "    '日期' : ['2024-12-19', '2024-12-20', '2024-12-21'],\n",
    "    '温度' : [8, 5, 7],\n",
    "    '湿度' : [65, 70, 60]\n",
    "}\n",
    "\n",
    "#字典中的每一对kv 对应了dataframe的一列\n",
    "df1 = pd.DataFrame(data = data_dict, index = ['a', 'b', 'c']) # 默认索引\n",
    "df1\n"
   ],
   "metadata": {
    "collapsed": false
   },
   "id": "d8271d7d826bfb00"
  },
  {
   "cell_type": "code",
   "execution_count": null,
   "outputs": [],
   "source": [
    "#方式二：\n",
    "# 列表 + 元组, 列表的每个数据是一行\n",
    "data_list = [\n",
    "    (\"2024-12-19\", 8, 65),\n",
    "    (\"2024-12-20\", 5, 70),\n",
    "    (\"2024-12-21\", 7, 50)\n",
    "]\n",
    "\n",
    "df2 = pd.DataFrame(data = data_list, columns = [\"日期\", \"温度\", \"湿度\"], index = ['A', 'B', \"C\"])\n",
    "# df2\n",
    "df2.sort_index()\n",
    "df2"
   ],
   "metadata": {
    "collapsed": false
   },
   "id": "dc45e4844b7f4fb2"
  },
  {
   "cell_type": "code",
   "execution_count": null,
   "outputs": [],
   "source": [
    "arr = np.array([[1,2], [3,4]])\n",
    "print(arr.ndim)"
   ],
   "metadata": {
    "collapsed": false
   },
   "id": "48937e67d1acf684"
  },
  {
   "cell_type": "markdown",
   "source": [
    "# dataFrame的属性"
   ],
   "metadata": {
    "collapsed": false
   },
   "id": "78b84828b707d6c"
  },
  {
   "cell_type": "code",
   "execution_count": 50,
   "outputs": [
    {
     "name": "stdout",
     "output_type": "stream",
     "text": [
      "    0   1   2   3   4\n",
      "0  54  80  66  46  45\n",
      "1  61  48  51  94  55\n",
      "2  90  41  89  56  91\n",
      "3  77  84  88  71  59\n",
      "4  95  42  83  77  98\n",
      "5  77  53  90  65  80\n",
      "6  52  86  71  61  80\n",
      "7  69  49  63  62  61\n",
      "8  74  96  46  83  76\n",
      "9  42  50  85  50  88\n",
      "      语   外   物   化   生\n",
      "同学0  54  80  66  46  45\n",
      "同学1  61  48  51  94  55\n",
      "同学2  90  41  89  56  91\n",
      "同学3  77  84  88  71  59\n",
      "同学4  95  42  83  77  98\n",
      "同学5  77  53  90  65  80\n",
      "同学6  52  86  71  61  80\n",
      "同学7  69  49  63  62  61\n",
      "同学8  74  96  46  83  76\n",
      "同学9  42  50  85  50  88\n"
     ]
    }
   ],
   "source": [
    "# 创建dataframe对象，10个学生的五科成绩\n",
    "score_data = np.random.randint(40, 100, size = (10, 5))\n",
    "score_data\n",
    "\n",
    "# 创建对应的data \n",
    "score_df = pd.DataFrame(score_data)\n",
    "print(score_df)\n",
    "\n",
    "# 处理列名，行索引\n",
    "col_name = [\"语\", \"外\", \"物\", \"化\", \"生\"]\n",
    "idx_names = ['同学' + str(i) for i in range(score_df.shape[0])]\n",
    "score_df.columns = col_name\n",
    "score_df.index = idx_names\n",
    "\n",
    "print(score_df)"
   ],
   "metadata": {
    "collapsed": false,
    "ExecuteTime": {
     "end_time": "2025-05-29T09:43:27.799397700Z",
     "start_time": "2025-05-29T09:43:27.748312600Z"
    }
   },
   "id": "9edcdb7db23ac3d0"
  }
 ],
 "metadata": {
  "kernelspec": {
   "display_name": "Python 3",
   "language": "python",
   "name": "python3"
  },
  "language_info": {
   "codemirror_mode": {
    "name": "ipython",
    "version": 2
   },
   "file_extension": ".py",
   "mimetype": "text/x-python",
   "name": "python",
   "nbconvert_exporter": "python",
   "pygments_lexer": "ipython2",
   "version": "2.7.6"
  }
 },
 "nbformat": 4,
 "nbformat_minor": 5
}
