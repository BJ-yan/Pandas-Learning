{
 "cells": [
  {
   "cell_type": "code",
   "execution_count": null,
   "id": "initial_id",
   "metadata": {
    "collapsed": true,
    "is_executing": true
   },
   "outputs": [],
   "source": [
    "# Pandas"
   ]
  },
  {
   "cell_type": "code",
   "execution_count": 35,
   "outputs": [
    {
     "name": "stdout",
     "output_type": "stream",
     "text": [
      "/root\n"
     ]
    },
    {
     "data": {
      "text/plain": "   year country           GDP\n0  1960      美国  543300000000\n1  1960      英国   73233967692\n2  1960      法国   62225478000\n3  1960      中国   59716467625\n4  1960      日本   44307342950\n5  1960     加拿大   40461721692\n6  1960     意大利   40385288344\n7  1960      印度   37029883875\n8  1960    澳大利亚   18577668271\n9  1960      瑞典   15822585033",
      "text/html": "<div>\n<style scoped>\n    .dataframe tbody tr th:only-of-type {\n        vertical-align: middle;\n    }\n\n    .dataframe tbody tr th {\n        vertical-align: top;\n    }\n\n    .dataframe thead th {\n        text-align: right;\n    }\n</style>\n<table border=\"1\" class=\"dataframe\">\n  <thead>\n    <tr style=\"text-align: right;\">\n      <th></th>\n      <th>year</th>\n      <th>country</th>\n      <th>GDP</th>\n    </tr>\n  </thead>\n  <tbody>\n    <tr>\n      <th>0</th>\n      <td>1960</td>\n      <td>美国</td>\n      <td>543300000000</td>\n    </tr>\n    <tr>\n      <th>1</th>\n      <td>1960</td>\n      <td>英国</td>\n      <td>73233967692</td>\n    </tr>\n    <tr>\n      <th>2</th>\n      <td>1960</td>\n      <td>法国</td>\n      <td>62225478000</td>\n    </tr>\n    <tr>\n      <th>3</th>\n      <td>1960</td>\n      <td>中国</td>\n      <td>59716467625</td>\n    </tr>\n    <tr>\n      <th>4</th>\n      <td>1960</td>\n      <td>日本</td>\n      <td>44307342950</td>\n    </tr>\n    <tr>\n      <th>5</th>\n      <td>1960</td>\n      <td>加拿大</td>\n      <td>40461721692</td>\n    </tr>\n    <tr>\n      <th>6</th>\n      <td>1960</td>\n      <td>意大利</td>\n      <td>40385288344</td>\n    </tr>\n    <tr>\n      <th>7</th>\n      <td>1960</td>\n      <td>印度</td>\n      <td>37029883875</td>\n    </tr>\n    <tr>\n      <th>8</th>\n      <td>1960</td>\n      <td>澳大利亚</td>\n      <td>18577668271</td>\n    </tr>\n    <tr>\n      <th>9</th>\n      <td>1960</td>\n      <td>瑞典</td>\n      <td>15822585033</td>\n    </tr>\n  </tbody>\n</table>\n</div>"
     },
     "execution_count": 35,
     "metadata": {},
     "output_type": "execute_result"
    }
   ],
   "source": [
    "import pandas as pd\n",
    "import numpy as np\n",
    "import os\n",
    "import matplotlib as plt\n",
    "plt.rcParams['font.sans-serif'] = ['SimHei']\n",
    "plt.rcParams['axes.unicode_minus'] = False\n",
    "\n",
    "print(os.getcwd())\n",
    "# 采集 读取csv文件，获取dataframe对象\n",
    "# 远程地址\n",
    "df = pd.read_csv(\"./data/pandas/1960-2019全球GDP数据.csv\", encoding = 'gbk')\n",
    "# 本地地址\n",
    "df.head(10) #默认查看前5条数据，加入参数可指定查看行数"
   ],
   "metadata": {
    "collapsed": false,
    "ExecuteTime": {
     "end_time": "2025-05-29T07:24:32.860407600Z",
     "start_time": "2025-05-29T07:24:32.813315900Z"
    }
   },
   "id": "6c0a2933a7ea99f7"
  },
  {
   "cell_type": "markdown",
   "source": [
    "## 2. 绘制中国的近年GDP变化曲线"
   ],
   "metadata": {
    "collapsed": false
   },
   "id": "aebe8db831055853"
  },
  {
   "cell_type": "code",
   "execution_count": null,
   "outputs": [],
   "source": [
    "china_df = df[df.country == '中国']\n",
    "\n",
    "# 打印\n",
    "china_df.head()"
   ],
   "metadata": {
    "collapsed": false
   },
   "id": "e5c8fcbab1dca57b"
  },
  {
   "cell_type": "code",
   "execution_count": null,
   "outputs": [],
   "source": [
    "# 设置年份year列 为索引列\n",
    "# china_df.set_index('year', inplace = False)\n",
    "china_df.GDP.plot()"
   ],
   "metadata": {
    "collapsed": false
   },
   "id": "168d9340ddfc03d7"
  },
  {
   "cell_type": "code",
   "execution_count": null,
   "outputs": [],
   "source": [
    "china_df.plot()"
   ],
   "metadata": {
    "collapsed": false
   },
   "id": "d7f4f3275e318d2e"
  },
  {
   "cell_type": "markdown",
   "source": [
    "## 分别查询中、美、日三国的GDP数据，并绘制GDP变化曲线，进行对比"
   ],
   "metadata": {
    "collapsed": false
   },
   "id": "93960fca2d2156f4"
  },
  {
   "cell_type": "code",
   "execution_count": 22,
   "outputs": [
    {
     "name": "stdout",
     "output_type": "stream",
     "text": [
      "     country          GDP\n",
      "year                     \n",
      "1960      中国  59716467625\n",
      "1961      中国  50056868957\n",
      "1962      中国  47209359005\n",
      "1963      中国  50706799902\n",
      "1964      中国  59708343488\n",
      "     country           GDP\n",
      "year                      \n",
      "1960      美国  543300000000\n",
      "1961      美国  563300000000\n",
      "1962      美国  605100000000\n",
      "1963      美国  638600000000\n",
      "1964      美国  685800000000\n",
      "     country          GDP\n",
      "year                     \n",
      "1960      日本  44307342950\n",
      "1961      日本  53508617739\n",
      "1962      日本  60723018683\n",
      "1963      日本  69498131797\n",
      "1964      日本  81749006381\n"
     ]
    }
   ],
   "source": [
    "china_df = df[df.country == '中国'].set_index('year')\n",
    "usa_df = df[df.country == '美国'].set_index('year')\n",
    "jap_df = df[df.country == '日本'].set_index('year')\n",
    "\n",
    "print(china_df.head())\n",
    "print(usa_df.head())\n",
    "print(jap_df.head())"
   ],
   "metadata": {
    "collapsed": false,
    "ExecuteTime": {
     "end_time": "2025-05-29T07:04:03.683911Z",
     "start_time": "2025-05-29T07:04:03.628853300Z"
    }
   },
   "id": "2b6814385649297e"
  },
  {
   "cell_type": "code",
   "execution_count": 24,
   "outputs": [
    {
     "data": {
      "text/plain": "<AxesSubplot:xlabel='year'>"
     },
     "execution_count": 24,
     "metadata": {},
     "output_type": "execute_result"
    },
    {
     "data": {
      "text/plain": "<Figure size 432x288 with 1 Axes>",
      "image/png": "[encoded data removed]"
     },
     "metadata": {
      "needs_background": "light"
     },
     "output_type": "display_data"
    }
   ],
   "source": [
    "# 绘制3国曲线\n",
    "china_df.GDP.plot()\n",
    "usa_df.GDP.plot()\n",
    "jap_df.GDP.plot()"
   ],
   "metadata": {
    "collapsed": false,
    "ExecuteTime": {
     "end_time": "2025-05-29T07:06:26.341751900Z",
     "start_time": "2025-05-29T07:06:26.152603600Z"
    }
   },
   "id": "4982a8cab181699"
  },
  {
   "cell_type": "markdown",
   "source": [
    "## 绘制中加入图例"
   ],
   "metadata": {
    "collapsed": false
   },
   "id": "494dbeddf843761e"
  },
  {
   "cell_type": "code",
   "execution_count": 27,
   "outputs": [
    {
     "data": {
      "text/plain": "<AxesSubplot:xlabel='year'>"
     },
     "execution_count": 27,
     "metadata": {},
     "output_type": "execute_result"
    },
    {
     "data": {
      "text/plain": "<Figure size 432x288 with 1 Axes>",
      "image/png": "[encoded data removed]"
     },
     "metadata": {
      "needs_background": "light"
     },
     "output_type": "display_data"
    }
   ],
   "source": [
    "#颜色区分\\增加图例\n",
    "china_df.GDP.plot(color = 'red', legend = True)\n",
    "usa_df.GDP.plot(color = 'blue', legend = True)\n",
    "jap_df.GDP.plot(color = 'yellow', legend = True)\n"
   ],
   "metadata": {
    "collapsed": false,
    "ExecuteTime": {
     "end_time": "2025-05-29T07:12:15.573700600Z",
     "start_time": "2025-05-29T07:12:15.378772700Z"
    }
   },
   "id": "8c116ef9b0b069b7"
  },
  {
   "cell_type": "code",
   "execution_count": 33,
   "outputs": [
    {
     "name": "stdout",
     "output_type": "stream",
     "text": [
      "     country        China\n",
      "year                     \n",
      "1960      中国  59716467625\n",
      "1961      中国  50056868957\n",
      "1962      中国  47209359005\n",
      "1963      中国  50706799902\n",
      "1964      中国  59708343488\n",
      "     country           USA\n",
      "year                      \n",
      "1960      美国  543300000000\n",
      "1961      美国  563300000000\n",
      "1962      美国  605100000000\n",
      "1963      美国  638600000000\n",
      "1964      美国  685800000000\n",
      "     country        Japan\n",
      "year                     \n",
      "1960      日本  44307342950\n",
      "1961      日本  53508617739\n",
      "1962      日本  60723018683\n",
      "1963      日本  69498131797\n",
      "1964      日本  81749006381\n"
     ]
    },
    {
     "data": {
      "text/plain": "<AxesSubplot:xlabel='year'>"
     },
     "execution_count": 33,
     "metadata": {},
     "output_type": "execute_result"
    },
    {
     "data": {
      "text/plain": "<Figure size 432x288 with 1 Axes>",
      "image/png": "[encoded data removed]"
     },
     "metadata": {
      "needs_background": "light"
     },
     "output_type": "display_data"
    }
   ],
   "source": [
    "# 图例改名\n",
    "china_df.rename(columns = {'GDP':'China'}, inplace = True)\n",
    "usa_df.rename(columns = {'GDP':'USA'}, inplace = True)\n",
    "jap_df.rename(columns = {'GDP':'Japan'}, inplace = True)\n",
    "\n",
    "print(china_df.head())\n",
    "print(usa_df.head())\n",
    "print(jap_df.head())\n",
    "\n",
    "china_df.China.plot(color = 'red', legend = True)\n",
    "usa_df.USA.plot(color = 'blue', legend = True)\n",
    "jap_df.Japan.plot(color = 'yellow', legend = True)"
   ],
   "metadata": {
    "collapsed": false,
    "ExecuteTime": {
     "end_time": "2025-05-29T07:18:53.741894300Z",
     "start_time": "2025-05-29T07:18:53.558373600Z"
    }
   },
   "id": "fac2d084c464eb33"
  },
  {
   "cell_type": "markdown",
   "source": [
    "## 中文图例"
   ],
   "metadata": {
    "collapsed": false
   },
   "id": "ea0cd41343d50958"
  },
  {
   "cell_type": "code",
   "execution_count": 37,
   "outputs": [
    {
     "name": "stdout",
     "output_type": "stream",
     "text": [
      "     country           中国\n",
      "year                     \n",
      "1960      中国  59716467625\n",
      "1961      中国  50056868957\n",
      "1962      中国  47209359005\n",
      "1963      中国  50706799902\n",
      "1964      中国  59708343488\n",
      "     country            美国\n",
      "year                      \n",
      "1960      美国  543300000000\n",
      "1961      美国  563300000000\n",
      "1962      美国  605100000000\n",
      "1963      美国  638600000000\n",
      "1964      美国  685800000000\n",
      "     country           日本\n",
      "year                     \n",
      "1960      日本  44307342950\n",
      "1961      日本  53508617739\n",
      "1962      日本  60723018683\n",
      "1963      日本  69498131797\n",
      "1964      日本  81749006381\n"
     ]
    },
    {
     "data": {
      "text/plain": "<AxesSubplot:xlabel='year'>"
     },
     "execution_count": 37,
     "metadata": {},
     "output_type": "execute_result"
    },
    {
     "data": {
      "text/plain": "<Figure size 432x288 with 1 Axes>",
      "image/png": "[encoded data removed]"
     },
     "metadata": {
      "needs_background": "light"
     },
     "output_type": "display_data"
    }
   ],
   "source": [
    "\n",
    "# 图例改名\n",
    "china_df.rename(columns = {'China':'中国'}, inplace = True)\n",
    "usa_df.rename(columns = {'USA':'美国'}, inplace = True)\n",
    "jap_df.rename(columns = {'Japan':'日本'}, inplace = True)\n",
    "\n",
    "print(china_df.head())\n",
    "print(usa_df.head())\n",
    "print(jap_df.head())\n",
    "\n",
    "china_df.中国.plot(color = 'red', legend = True)\n",
    "usa_df.美国.plot(color = 'blue', legend = True)\n",
    "jap_df.日本.plot(color = 'yellow', legend = True)"
   ],
   "metadata": {
    "collapsed": false,
    "ExecuteTime": {
     "end_time": "2025-05-29T07:25:11.421256700Z",
     "start_time": "2025-05-29T07:25:11.151773600Z"
    }
   },
   "id": "3d261c93c53746e5"
  },
  {
   "cell_type": "code",
   "execution_count": null,
   "outputs": [],
   "source": [],
   "metadata": {
    "collapsed": false
   },
   "id": "1fd0b46b1a15f254"
  }
 ],
 "metadata": {
  "kernelspec": {
   "display_name": "Python 3",
   "language": "python",
   "name": "python3"
  },
  "language_info": {
   "codemirror_mode": {
    "name": "ipython",
    "version": 2
   },
   "file_extension": ".py",
   "mimetype": "text/x-python",
   "name": "python",
   "nbconvert_exporter": "python",
   "pygments_lexer": "ipython2",
   "version": "2.7.6"
  }
 },
 "nbformat": 4,
 "nbformat_minor": 5
}
