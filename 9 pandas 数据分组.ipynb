{
 "cells": [
  {
   "cell_type": "code",
   "execution_count": 3,
   "id": "initial_id",
   "metadata": {
    "collapsed": true,
    "ExecuteTime": {
     "end_time": "2025-06-05T16:18:31.814359500Z",
     "start_time": "2025-06-05T16:18:31.747976300Z"
    }
   },
   "outputs": [
    {
     "data": {
      "text/plain": "       store_id city channel gender_group age_group  wkd_ind product  \\\n0           658   深圳      线下       Female     25-29  Weekday    当季新品   \n1           146   杭州      线下       Female     25-29  Weekday      运动   \n2            70   深圳      线下         Male      >=60  Weekday      T恤   \n3           658   深圳      线下       Female     25-29  Weekday      T恤   \n4           229   深圳      线下         Male     20-24  Weekend      袜子   \n...         ...  ...     ...          ...       ...      ...     ...   \n22288       146   杭州      线下       Female     30-34  Weekday      短裤   \n22289       430   成都      线下       Female     25-29  Weekend      T恤   \n22290       449   武汉      线下       Female     35-39  Weekday      T恤   \n22291       758   杭州      线下       Female     20-24  Weekday      袜子   \n22292       616   成都      线下         Male     30-34  Weekday    当季新品   \n\n       customer  revenue  order  quant  unit_cost  \n0             4    796.0      4      4         59  \n1             1    149.0      1      1         49  \n2             2    178.0      2      2         49  \n3             1     59.0      1      1         49  \n4             2     65.0      2      3          9  \n...         ...      ...    ...    ...        ...  \n22288         1     80.0      1      2         19  \n22289         1     79.0      1      1         49  \n22290         1    158.0      1      2         49  \n22291         1     26.0      1      1          9  \n22292         1     79.0      1      1         59  \n\n[22293 rows x 12 columns]",
      "text/html": "<div>\n<style scoped>\n    .dataframe tbody tr th:only-of-type {\n        vertical-align: middle;\n    }\n\n    .dataframe tbody tr th {\n        vertical-align: top;\n    }\n\n    .dataframe thead th {\n        text-align: right;\n    }\n</style>\n<table border=\"1\" class=\"dataframe\">\n  <thead>\n    <tr style=\"text-align: right;\">\n      <th></th>\n      <th>store_id</th>\n      <th>city</th>\n      <th>channel</th>\n      <th>gender_group</th>\n      <th>age_group</th>\n      <th>wkd_ind</th>\n      <th>product</th>\n      <th>customer</th>\n      <th>revenue</th>\n      <th>order</th>\n      <th>quant</th>\n      <th>unit_cost</th>\n    </tr>\n  </thead>\n  <tbody>\n    <tr>\n      <th>0</th>\n      <td>658</td>\n      <td>深圳</td>\n      <td>线下</td>\n      <td>Female</td>\n      <td>25-29</td>\n      <td>Weekday</td>\n      <td>当季新品</td>\n      <td>4</td>\n      <td>796.0</td>\n      <td>4</td>\n      <td>4</td>\n      <td>59</td>\n    </tr>\n    <tr>\n      <th>1</th>\n      <td>146</td>\n      <td>杭州</td>\n      <td>线下</td>\n      <td>Female</td>\n      <td>25-29</td>\n      <td>Weekday</td>\n      <td>运动</td>\n      <td>1</td>\n      <td>149.0</td>\n      <td>1</td>\n      <td>1</td>\n      <td>49</td>\n    </tr>\n    <tr>\n      <th>2</th>\n      <td>70</td>\n      <td>深圳</td>\n      <td>线下</td>\n      <td>Male</td>\n      <td>&gt;=60</td>\n      <td>Weekday</td>\n      <td>T恤</td>\n      <td>2</td>\n      <td>178.0</td>\n      <td>2</td>\n      <td>2</td>\n      <td>49</td>\n    </tr>\n    <tr>\n      <th>3</th>\n      <td>658</td>\n      <td>深圳</td>\n      <td>线下</td>\n      <td>Female</td>\n      <td>25-29</td>\n      <td>Weekday</td>\n      <td>T恤</td>\n      <td>1</td>\n      <td>59.0</td>\n      <td>1</td>\n      <td>1</td>\n      <td>49</td>\n    </tr>\n    <tr>\n      <th>4</th>\n      <td>229</td>\n      <td>深圳</td>\n      <td>线下</td>\n      <td>Male</td>\n      <td>20-24</td>\n      <td>Weekend</td>\n      <td>袜子</td>\n      <td>2</td>\n      <td>65.0</td>\n      <td>2</td>\n      <td>3</td>\n      <td>9</td>\n    </tr>\n    <tr>\n      <th>...</th>\n      <td>...</td>\n      <td>...</td>\n      <td>...</td>\n      <td>...</td>\n      <td>...</td>\n      <td>...</td>\n      <td>...</td>\n      <td>...</td>\n      <td>...</td>\n      <td>...</td>\n      <td>...</td>\n      <td>...</td>\n    </tr>\n    <tr>\n      <th>22288</th>\n      <td>146</td>\n      <td>杭州</td>\n      <td>线下</td>\n      <td>Female</td>\n      <td>30-34</td>\n      <td>Weekday</td>\n      <td>短裤</td>\n      <td>1</td>\n      <td>80.0</td>\n      <td>1</td>\n      <td>2</td>\n      <td>19</td>\n    </tr>\n    <tr>\n      <th>22289</th>\n      <td>430</td>\n      <td>成都</td>\n      <td>线下</td>\n      <td>Female</td>\n      <td>25-29</td>\n      <td>Weekend</td>\n      <td>T恤</td>\n      <td>1</td>\n      <td>79.0</td>\n      <td>1</td>\n      <td>1</td>\n      <td>49</td>\n    </tr>\n    <tr>\n      <th>22290</th>\n      <td>449</td>\n      <td>武汉</td>\n      <td>线下</td>\n      <td>Female</td>\n      <td>35-39</td>\n      <td>Weekday</td>\n      <td>T恤</td>\n      <td>1</td>\n      <td>158.0</td>\n      <td>1</td>\n      <td>2</td>\n      <td>49</td>\n    </tr>\n    <tr>\n      <th>22291</th>\n      <td>758</td>\n      <td>杭州</td>\n      <td>线下</td>\n      <td>Female</td>\n      <td>20-24</td>\n      <td>Weekday</td>\n      <td>袜子</td>\n      <td>1</td>\n      <td>26.0</td>\n      <td>1</td>\n      <td>1</td>\n      <td>9</td>\n    </tr>\n    <tr>\n      <th>22292</th>\n      <td>616</td>\n      <td>成都</td>\n      <td>线下</td>\n      <td>Male</td>\n      <td>30-34</td>\n      <td>Weekday</td>\n      <td>当季新品</td>\n      <td>1</td>\n      <td>79.0</td>\n      <td>1</td>\n      <td>1</td>\n      <td>59</td>\n    </tr>\n  </tbody>\n</table>\n<p>22293 rows × 12 columns</p>\n</div>"
     },
     "execution_count": 3,
     "metadata": {},
     "output_type": "execute_result"
    }
   ],
   "source": [
    "import pandas as pd\n",
    "\n",
    "df = pd.read_csv(\"pandasData/uniqlo.csv\")\n",
    "df"
   ]
  },
  {
   "cell_type": "code",
   "execution_count": 9,
   "outputs": [
    {
     "name": "stdout",
     "output_type": "stream",
     "text": [
      "       store_id city channel gender_group age_group  wkd_ind product  \\\n",
      "0           658   深圳      线下       Female     25-29  Weekday    当季新品   \n",
      "1           146   杭州      线下       Female     25-29  Weekday      运动   \n",
      "3           658   深圳      线下       Female     25-29  Weekday      T恤   \n",
      "5            28   武汉      线上       Female     35-39  Weekend      T恤   \n",
      "6           649   杭州      线下       Female     25-29  Weekend      短裤   \n",
      "...         ...  ...     ...          ...       ...      ...     ...   \n",
      "22287       519   杭州      线下       Female     20-24  Weekday      T恤   \n",
      "22288       146   杭州      线下       Female     30-34  Weekday      短裤   \n",
      "22289       430   成都      线下       Female     25-29  Weekend      T恤   \n",
      "22290       449   武汉      线下       Female     35-39  Weekday      T恤   \n",
      "22291       758   杭州      线下       Female     20-24  Weekday      袜子   \n",
      "\n",
      "       customer  revenue  order  quant  unit_cost  \n",
      "0             4    796.0      4      4         59  \n",
      "1             1    149.0      1      1         49  \n",
      "3             1     59.0      1      1         49  \n",
      "5             1     97.0      1      1         49  \n",
      "6             1     33.0      1      1         19  \n",
      "...         ...      ...    ...    ...        ...  \n",
      "22287         3    347.0      3      3         49  \n",
      "22288         1     80.0      1      2         19  \n",
      "22289         1     79.0      1      1         49  \n",
      "22290         1    158.0      1      2         49  \n",
      "22291         1     26.0      1      1          9  \n",
      "\n",
      "[14208 rows x 12 columns]\n",
      "<pandas.core.groupby.generic.SeriesGroupBy object at 0x7feef42bb190>\n"
     ]
    }
   ],
   "source": [
    "# 基于一列\n",
    "df_gb = df.groupby(\"gender_group\")\n",
    "df_gb\n",
    "print(df_gb.get_group('Female'))\n",
    "print(df_gb['city'])"
   ],
   "metadata": {
    "collapsed": false,
    "ExecuteTime": {
     "end_time": "2025-06-05T16:21:56.416444100Z",
     "start_time": "2025-06-05T16:21:56.401442600Z"
    }
   },
   "id": "93452b4313bbc1c1"
  },
  {
   "cell_type": "code",
   "execution_count": 17,
   "outputs": [
    {
     "data": {
      "text/plain": "                   store_id channel age_group  wkd_ind product  customer  \\\ngender_group city                                                          \nFemale       上海         135      线下     30-34  Weekend    当季新品         1   \n             北京          21      线下     45-49  Weekend      毛衣         1   \n             南京          19      线下     35-39  Weekend      T恤         4   \n             广州         231      线下     35-39  Weekend      T恤         3   \n             成都         360      线下     25-29  Weekday      T恤         1   \n             杭州         146      线下     25-29  Weekday      运动         1   \n             武汉          28      线上     35-39  Weekend      T恤         1   \n             深圳         658      线下     25-29  Weekday    当季新品         4   \n             西安         802      线下     35-39  Weekday      短裤         1   \n             重庆         437      线下     20-24  Weekday      T恤         1   \nMale         上海         142      线下     25-29  Weekday      毛衣         1   \n             北京          21      线下     20-24  Weekday      T恤         1   \n             南京          19      线下       <20  Weekend      T恤         1   \n             广州         420      线上      >=60  Weekday      T恤         1   \n             成都         430      线下     35-39  Weekend      裙子         1   \n             杭州         520      线下      >=60  Weekend      T恤         2   \n             武汉          32      线上     35-39  Weekend      短裤         2   \n             深圳          70      线下      >=60  Weekday      T恤         2   \n             西安         648      线下     20-24  Weekend      T恤         1   \n             重庆         208      线下     20-24  Weekend      配件         1   \nUnkown       上海         135      线下    Unkown  Weekday      T恤         2   \n             北京          21      线下    Unkown  Weekend      配件         1   \n             南京          19      线下    Unkown  Weekend      T恤         1   \n             广州         399      线下    Unkown  Weekday      T恤         1   \n             成都         605      线下    Unkown  Weekday      T恤         1   \n             杭州         248      线下    Unkown  Weekday    当季新品         1   \n             武汉          46      线下    Unkown  Weekend      配件         1   \n             深圳         658      线下    Unkown  Weekday      袜子         1   \n             西安         648      线下    Unkown  Weekend      T恤         1   \n             重庆         437      线下    Unkown  Weekend      T恤         1   \n\n                   revenue  order  quant  unit_cost  \ngender_group city                                    \nFemale       上海      49.00      1      1         59  \n             北京     199.00      1      1         99  \n             南京     176.00      4      4         49  \n             广州     114.00      3      3         49  \n             成都      79.00      1      1         49  \n             杭州     149.00      1      1         49  \n             武汉      97.00      1      1         49  \n             深圳     796.00      4      4         59  \n             西安      39.00      1      1         19  \n             重庆     129.00      1      1         49  \nMale         上海     190.67      1      1         99  \n             北京      55.33      1      1         49  \n             南京     198.00      1      2         49  \n             广州      39.00      1      1         49  \n             成都      79.00      1      1         59  \n             杭州     158.00      2      2         49  \n             武汉      79.00      2      2         19  \n             深圳     178.00      2      2         49  \n             西安      59.00      1      1         49  \n             重庆     149.00      1      1         29  \nUnkown       上海     197.00      2      3         49  \n             北京      79.00      1      1         29  \n             南京      79.00      1      1         49  \n             广州      99.00      1      1         49  \n             成都      79.00      1      1         49  \n             杭州      79.00      1      1         59  \n             武汉      59.00      1      1         29  \n             深圳      79.00      1      1          9  \n             西安      79.00      1      1         49  \n             重庆      99.00      1      1         49  ",
      "text/html": "<div>\n<style scoped>\n    .dataframe tbody tr th:only-of-type {\n        vertical-align: middle;\n    }\n\n    .dataframe tbody tr th {\n        vertical-align: top;\n    }\n\n    .dataframe thead th {\n        text-align: right;\n    }\n</style>\n<table border=\"1\" class=\"dataframe\">\n  <thead>\n    <tr style=\"text-align: right;\">\n      <th></th>\n      <th></th>\n      <th>store_id</th>\n      <th>channel</th>\n      <th>age_group</th>\n      <th>wkd_ind</th>\n      <th>product</th>\n      <th>customer</th>\n      <th>revenue</th>\n      <th>order</th>\n      <th>quant</th>\n      <th>unit_cost</th>\n    </tr>\n    <tr>\n      <th>gender_group</th>\n      <th>city</th>\n      <th></th>\n      <th></th>\n      <th></th>\n      <th></th>\n      <th></th>\n      <th></th>\n      <th></th>\n      <th></th>\n      <th></th>\n      <th></th>\n    </tr>\n  </thead>\n  <tbody>\n    <tr>\n      <th rowspan=\"10\" valign=\"top\">Female</th>\n      <th>上海</th>\n      <td>135</td>\n      <td>线下</td>\n      <td>30-34</td>\n      <td>Weekend</td>\n      <td>当季新品</td>\n      <td>1</td>\n      <td>49.00</td>\n      <td>1</td>\n      <td>1</td>\n      <td>59</td>\n    </tr>\n    <tr>\n      <th>北京</th>\n      <td>21</td>\n      <td>线下</td>\n      <td>45-49</td>\n      <td>Weekend</td>\n      <td>毛衣</td>\n      <td>1</td>\n      <td>199.00</td>\n      <td>1</td>\n      <td>1</td>\n      <td>99</td>\n    </tr>\n    <tr>\n      <th>南京</th>\n      <td>19</td>\n      <td>线下</td>\n      <td>35-39</td>\n      <td>Weekend</td>\n      <td>T恤</td>\n      <td>4</td>\n      <td>176.00</td>\n      <td>4</td>\n      <td>4</td>\n      <td>49</td>\n    </tr>\n    <tr>\n      <th>广州</th>\n      <td>231</td>\n      <td>线下</td>\n      <td>35-39</td>\n      <td>Weekend</td>\n      <td>T恤</td>\n      <td>3</td>\n      <td>114.00</td>\n      <td>3</td>\n      <td>3</td>\n      <td>49</td>\n    </tr>\n    <tr>\n      <th>成都</th>\n      <td>360</td>\n      <td>线下</td>\n      <td>25-29</td>\n      <td>Weekday</td>\n      <td>T恤</td>\n      <td>1</td>\n      <td>79.00</td>\n      <td>1</td>\n      <td>1</td>\n      <td>49</td>\n    </tr>\n    <tr>\n      <th>杭州</th>\n      <td>146</td>\n      <td>线下</td>\n      <td>25-29</td>\n      <td>Weekday</td>\n      <td>运动</td>\n      <td>1</td>\n      <td>149.00</td>\n      <td>1</td>\n      <td>1</td>\n      <td>49</td>\n    </tr>\n    <tr>\n      <th>武汉</th>\n      <td>28</td>\n      <td>线上</td>\n      <td>35-39</td>\n      <td>Weekend</td>\n      <td>T恤</td>\n      <td>1</td>\n      <td>97.00</td>\n      <td>1</td>\n      <td>1</td>\n      <td>49</td>\n    </tr>\n    <tr>\n      <th>深圳</th>\n      <td>658</td>\n      <td>线下</td>\n      <td>25-29</td>\n      <td>Weekday</td>\n      <td>当季新品</td>\n      <td>4</td>\n      <td>796.00</td>\n      <td>4</td>\n      <td>4</td>\n      <td>59</td>\n    </tr>\n    <tr>\n      <th>西安</th>\n      <td>802</td>\n      <td>线下</td>\n      <td>35-39</td>\n      <td>Weekday</td>\n      <td>短裤</td>\n      <td>1</td>\n      <td>39.00</td>\n      <td>1</td>\n      <td>1</td>\n      <td>19</td>\n    </tr>\n    <tr>\n      <th>重庆</th>\n      <td>437</td>\n      <td>线下</td>\n      <td>20-24</td>\n      <td>Weekday</td>\n      <td>T恤</td>\n      <td>1</td>\n      <td>129.00</td>\n      <td>1</td>\n      <td>1</td>\n      <td>49</td>\n    </tr>\n    <tr>\n      <th rowspan=\"10\" valign=\"top\">Male</th>\n      <th>上海</th>\n      <td>142</td>\n      <td>线下</td>\n      <td>25-29</td>\n      <td>Weekday</td>\n      <td>毛衣</td>\n      <td>1</td>\n      <td>190.67</td>\n      <td>1</td>\n      <td>1</td>\n      <td>99</td>\n    </tr>\n    <tr>\n      <th>北京</th>\n      <td>21</td>\n      <td>线下</td>\n      <td>20-24</td>\n      <td>Weekday</td>\n      <td>T恤</td>\n      <td>1</td>\n      <td>55.33</td>\n      <td>1</td>\n      <td>1</td>\n      <td>49</td>\n    </tr>\n    <tr>\n      <th>南京</th>\n      <td>19</td>\n      <td>线下</td>\n      <td>&lt;20</td>\n      <td>Weekend</td>\n      <td>T恤</td>\n      <td>1</td>\n      <td>198.00</td>\n      <td>1</td>\n      <td>2</td>\n      <td>49</td>\n    </tr>\n    <tr>\n      <th>广州</th>\n      <td>420</td>\n      <td>线上</td>\n      <td>&gt;=60</td>\n      <td>Weekday</td>\n      <td>T恤</td>\n      <td>1</td>\n      <td>39.00</td>\n      <td>1</td>\n      <td>1</td>\n      <td>49</td>\n    </tr>\n    <tr>\n      <th>成都</th>\n      <td>430</td>\n      <td>线下</td>\n      <td>35-39</td>\n      <td>Weekend</td>\n      <td>裙子</td>\n      <td>1</td>\n      <td>79.00</td>\n      <td>1</td>\n      <td>1</td>\n      <td>59</td>\n    </tr>\n    <tr>\n      <th>杭州</th>\n      <td>520</td>\n      <td>线下</td>\n      <td>&gt;=60</td>\n      <td>Weekend</td>\n      <td>T恤</td>\n      <td>2</td>\n      <td>158.00</td>\n      <td>2</td>\n      <td>2</td>\n      <td>49</td>\n    </tr>\n    <tr>\n      <th>武汉</th>\n      <td>32</td>\n      <td>线上</td>\n      <td>35-39</td>\n      <td>Weekend</td>\n      <td>短裤</td>\n      <td>2</td>\n      <td>79.00</td>\n      <td>2</td>\n      <td>2</td>\n      <td>19</td>\n    </tr>\n    <tr>\n      <th>深圳</th>\n      <td>70</td>\n      <td>线下</td>\n      <td>&gt;=60</td>\n      <td>Weekday</td>\n      <td>T恤</td>\n      <td>2</td>\n      <td>178.00</td>\n      <td>2</td>\n      <td>2</td>\n      <td>49</td>\n    </tr>\n    <tr>\n      <th>西安</th>\n      <td>648</td>\n      <td>线下</td>\n      <td>20-24</td>\n      <td>Weekend</td>\n      <td>T恤</td>\n      <td>1</td>\n      <td>59.00</td>\n      <td>1</td>\n      <td>1</td>\n      <td>49</td>\n    </tr>\n    <tr>\n      <th>重庆</th>\n      <td>208</td>\n      <td>线下</td>\n      <td>20-24</td>\n      <td>Weekend</td>\n      <td>配件</td>\n      <td>1</td>\n      <td>149.00</td>\n      <td>1</td>\n      <td>1</td>\n      <td>29</td>\n    </tr>\n    <tr>\n      <th rowspan=\"10\" valign=\"top\">Unkown</th>\n      <th>上海</th>\n      <td>135</td>\n      <td>线下</td>\n      <td>Unkown</td>\n      <td>Weekday</td>\n      <td>T恤</td>\n      <td>2</td>\n      <td>197.00</td>\n      <td>2</td>\n      <td>3</td>\n      <td>49</td>\n    </tr>\n    <tr>\n      <th>北京</th>\n      <td>21</td>\n      <td>线下</td>\n      <td>Unkown</td>\n      <td>Weekend</td>\n      <td>配件</td>\n      <td>1</td>\n      <td>79.00</td>\n      <td>1</td>\n      <td>1</td>\n      <td>29</td>\n    </tr>\n    <tr>\n      <th>南京</th>\n      <td>19</td>\n      <td>线下</td>\n      <td>Unkown</td>\n      <td>Weekend</td>\n      <td>T恤</td>\n      <td>1</td>\n      <td>79.00</td>\n      <td>1</td>\n      <td>1</td>\n      <td>49</td>\n    </tr>\n    <tr>\n      <th>广州</th>\n      <td>399</td>\n      <td>线下</td>\n      <td>Unkown</td>\n      <td>Weekday</td>\n      <td>T恤</td>\n      <td>1</td>\n      <td>99.00</td>\n      <td>1</td>\n      <td>1</td>\n      <td>49</td>\n    </tr>\n    <tr>\n      <th>成都</th>\n      <td>605</td>\n      <td>线下</td>\n      <td>Unkown</td>\n      <td>Weekday</td>\n      <td>T恤</td>\n      <td>1</td>\n      <td>79.00</td>\n      <td>1</td>\n      <td>1</td>\n      <td>49</td>\n    </tr>\n    <tr>\n      <th>杭州</th>\n      <td>248</td>\n      <td>线下</td>\n      <td>Unkown</td>\n      <td>Weekday</td>\n      <td>当季新品</td>\n      <td>1</td>\n      <td>79.00</td>\n      <td>1</td>\n      <td>1</td>\n      <td>59</td>\n    </tr>\n    <tr>\n      <th>武汉</th>\n      <td>46</td>\n      <td>线下</td>\n      <td>Unkown</td>\n      <td>Weekend</td>\n      <td>配件</td>\n      <td>1</td>\n      <td>59.00</td>\n      <td>1</td>\n      <td>1</td>\n      <td>29</td>\n    </tr>\n    <tr>\n      <th>深圳</th>\n      <td>658</td>\n      <td>线下</td>\n      <td>Unkown</td>\n      <td>Weekday</td>\n      <td>袜子</td>\n      <td>1</td>\n      <td>79.00</td>\n      <td>1</td>\n      <td>1</td>\n      <td>9</td>\n    </tr>\n    <tr>\n      <th>西安</th>\n      <td>648</td>\n      <td>线下</td>\n      <td>Unkown</td>\n      <td>Weekend</td>\n      <td>T恤</td>\n      <td>1</td>\n      <td>79.00</td>\n      <td>1</td>\n      <td>1</td>\n      <td>49</td>\n    </tr>\n    <tr>\n      <th>重庆</th>\n      <td>437</td>\n      <td>线下</td>\n      <td>Unkown</td>\n      <td>Weekend</td>\n      <td>T恤</td>\n      <td>1</td>\n      <td>99.00</td>\n      <td>1</td>\n      <td>1</td>\n      <td>49</td>\n    </tr>\n  </tbody>\n</table>\n</div>"
     },
     "execution_count": 17,
     "metadata": {},
     "output_type": "execute_result"
    }
   ],
   "source": [
    "# 基于多列\n",
    "df_gb = df.groupby(['gender_group', 'city'])\n",
    "\n",
    "# print(df_gb.get_group(('Female', \"上海\")))\n",
    "\n",
    "df_gb.first()\n",
    "# df_gb.get_group(('Female', '上海'))"
   ],
   "metadata": {
    "collapsed": false,
    "ExecuteTime": {
     "end_time": "2025-06-05T16:30:47.987068600Z",
     "start_time": "2025-06-05T16:30:47.966558Z"
    }
   },
   "id": "cb75e40c33c91b9a"
  },
  {
   "cell_type": "code",
   "execution_count": 20,
   "outputs": [
    {
     "data": {
      "text/plain": "                           revenue  unit_cost\ngender_group age_group                       \nFemale       20-24      186.065417  46.481698\n             25-29      211.620850  45.942308\n             30-34      198.173440  45.901024\n             35-39      175.427702  47.235294\n             40-44      132.516288  46.863421\n             45-49      152.184291  46.860636\n             50-54      162.117947  48.209040\n             55-59      136.958741  46.832168\n             <20        128.237071  46.928571\n             >=60       125.006618  49.367647\n             Unkown     100.909091  46.272727\nMale         20-24      131.822045  44.015432\n             25-29      143.603966  44.178571\n             30-34      134.524853  45.557487\n             35-39      117.688289  46.216940\n             40-44       97.552063  45.715789\n             45-49       98.698989  46.689531\n             50-54       90.028369  46.092199\n             55-59      139.416941  47.588235\n             <20        113.621500  43.166667\n             >=60       129.024408  46.521441\n             Unkown     116.900000  58.000000\nUnkown       35-39       79.000000  49.000000\n             40-44       99.000000  49.000000\n             Unkown      85.559138  41.758621",
      "text/html": "<div>\n<style scoped>\n    .dataframe tbody tr th:only-of-type {\n        vertical-align: middle;\n    }\n\n    .dataframe tbody tr th {\n        vertical-align: top;\n    }\n\n    .dataframe thead th {\n        text-align: right;\n    }\n</style>\n<table border=\"1\" class=\"dataframe\">\n  <thead>\n    <tr style=\"text-align: right;\">\n      <th></th>\n      <th></th>\n      <th>revenue</th>\n      <th>unit_cost</th>\n    </tr>\n    <tr>\n      <th>gender_group</th>\n      <th>age_group</th>\n      <th></th>\n      <th></th>\n    </tr>\n  </thead>\n  <tbody>\n    <tr>\n      <th rowspan=\"11\" valign=\"top\">Female</th>\n      <th>20-24</th>\n      <td>186.065417</td>\n      <td>46.481698</td>\n    </tr>\n    <tr>\n      <th>25-29</th>\n      <td>211.620850</td>\n      <td>45.942308</td>\n    </tr>\n    <tr>\n      <th>30-34</th>\n      <td>198.173440</td>\n      <td>45.901024</td>\n    </tr>\n    <tr>\n      <th>35-39</th>\n      <td>175.427702</td>\n      <td>47.235294</td>\n    </tr>\n    <tr>\n      <th>40-44</th>\n      <td>132.516288</td>\n      <td>46.863421</td>\n    </tr>\n    <tr>\n      <th>45-49</th>\n      <td>152.184291</td>\n      <td>46.860636</td>\n    </tr>\n    <tr>\n      <th>50-54</th>\n      <td>162.117947</td>\n      <td>48.209040</td>\n    </tr>\n    <tr>\n      <th>55-59</th>\n      <td>136.958741</td>\n      <td>46.832168</td>\n    </tr>\n    <tr>\n      <th>&lt;20</th>\n      <td>128.237071</td>\n      <td>46.928571</td>\n    </tr>\n    <tr>\n      <th>&gt;=60</th>\n      <td>125.006618</td>\n      <td>49.367647</td>\n    </tr>\n    <tr>\n      <th>Unkown</th>\n      <td>100.909091</td>\n      <td>46.272727</td>\n    </tr>\n    <tr>\n      <th rowspan=\"11\" valign=\"top\">Male</th>\n      <th>20-24</th>\n      <td>131.822045</td>\n      <td>44.015432</td>\n    </tr>\n    <tr>\n      <th>25-29</th>\n      <td>143.603966</td>\n      <td>44.178571</td>\n    </tr>\n    <tr>\n      <th>30-34</th>\n      <td>134.524853</td>\n      <td>45.557487</td>\n    </tr>\n    <tr>\n      <th>35-39</th>\n      <td>117.688289</td>\n      <td>46.216940</td>\n    </tr>\n    <tr>\n      <th>40-44</th>\n      <td>97.552063</td>\n      <td>45.715789</td>\n    </tr>\n    <tr>\n      <th>45-49</th>\n      <td>98.698989</td>\n      <td>46.689531</td>\n    </tr>\n    <tr>\n      <th>50-54</th>\n      <td>90.028369</td>\n      <td>46.092199</td>\n    </tr>\n    <tr>\n      <th>55-59</th>\n      <td>139.416941</td>\n      <td>47.588235</td>\n    </tr>\n    <tr>\n      <th>&lt;20</th>\n      <td>113.621500</td>\n      <td>43.166667</td>\n    </tr>\n    <tr>\n      <th>&gt;=60</th>\n      <td>129.024408</td>\n      <td>46.521441</td>\n    </tr>\n    <tr>\n      <th>Unkown</th>\n      <td>116.900000</td>\n      <td>58.000000</td>\n    </tr>\n    <tr>\n      <th rowspan=\"3\" valign=\"top\">Unkown</th>\n      <th>35-39</th>\n      <td>79.000000</td>\n      <td>49.000000</td>\n    </tr>\n    <tr>\n      <th>40-44</th>\n      <td>99.000000</td>\n      <td>49.000000</td>\n    </tr>\n    <tr>\n      <th>Unkown</th>\n      <td>85.559138</td>\n      <td>41.758621</td>\n    </tr>\n  </tbody>\n</table>\n</div>"
     },
     "execution_count": 20,
     "metadata": {},
     "output_type": "execute_result"
    }
   ],
   "source": [
    "#分组聚合\n",
    "df.groupby([\"gender_group\", \"age_group\"]).agg({\n",
    "    \"revenue\" : \"mean\",\n",
    "    \"unit_cost\" : \"mean\",\n",
    "    \"revenue\" : \"sum\",\n",
    "    \"unit_cost\" : \"sum\",\n",
    "})"
   ],
   "metadata": {
    "collapsed": false,
    "ExecuteTime": {
     "end_time": "2025-06-05T16:35:06.440674500Z",
     "start_time": "2025-06-05T16:35:06.416065300Z"
    }
   },
   "id": "b692caa35ae0cabf"
  },
  {
   "cell_type": "code",
   "execution_count": null,
   "outputs": [],
   "source": [],
   "metadata": {
    "collapsed": false
   },
   "id": "b1886219f1742b71"
  }
 ],
 "metadata": {
  "kernelspec": {
   "display_name": "Python 3",
   "language": "python",
   "name": "python3"
  },
  "language_info": {
   "codemirror_mode": {
    "name": "ipython",
    "version": 2
   },
   "file_extension": ".py",
   "mimetype": "text/x-python",
   "name": "python",
   "nbconvert_exporter": "python",
   "pygments_lexer": "ipython2",
   "version": "2.7.6"
  }
 },
 "nbformat": 4,
 "nbformat_minor": 5
}
