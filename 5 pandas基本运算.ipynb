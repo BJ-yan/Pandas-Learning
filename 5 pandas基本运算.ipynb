{
 "cells": [
  {
   "cell_type": "code",
   "execution_count": 1,
   "id": "initial_id",
   "metadata": {
    "collapsed": true,
    "ExecuteTime": {
     "end_time": "2025-06-05T12:33:52.684844500Z",
     "start_time": "2025-06-05T12:33:52.379190900Z"
    }
   },
   "outputs": [],
   "source": [
    "import pandas as pd\n",
    "import os\n",
    "\n",
    "os.curdir\n",
    "os.chdir('./pandasData')"
   ]
  },
  {
   "cell_type": "code",
   "execution_count": 2,
   "outputs": [
    {
     "data": {
      "text/plain": "             open   high  close    low     volume  price_change  p_change  \\\n2018-02-27  23.53  25.88  24.16  23.53   95578.03          0.63      2.68   \n2018-02-26  22.80  23.78  23.53  22.80   60985.11          0.69      3.02   \n2018-02-23  22.88  23.37  22.82  22.71   52914.01          0.54      2.42   \n2018-02-22  22.25  22.76  22.28  22.02   36105.01          0.36      1.64   \n2018-02-14  21.49  21.99  21.92  21.48   23331.04          0.44      2.05   \n...           ...    ...    ...    ...        ...           ...       ...   \n2015-03-06  13.17  14.48  14.28  13.13  179831.72          1.12      8.51   \n2015-03-05  12.88  13.45  13.16  12.87   93180.39          0.26      2.02   \n2015-03-04  12.80  12.92  12.90  12.61   67075.44          0.20      1.57   \n2015-03-03  12.52  13.06  12.70  12.52  139071.61          0.18      1.44   \n2015-03-02  12.25  12.67  12.52  12.20   96291.73          0.32      2.62   \n\n               ma5    ma10    ma20      v_ma5     v_ma10     v_ma20  turnover  \n2018-02-27  22.942  22.142  22.875   53782.64   46738.65   55576.11      2.39  \n2018-02-26  22.406  21.955  22.942   40827.52   42736.34   56007.50      1.53  \n2018-02-23  21.938  21.929  23.022   35119.58   41871.97   56372.85      1.32  \n2018-02-22  21.446  21.909  23.137   35397.58   39904.78   60149.60      0.90  \n2018-02-14  21.366  21.923  23.253   33590.21   42935.74   61716.11      0.58  \n...            ...     ...     ...        ...        ...        ...       ...  \n2015-03-06  13.112  13.112  13.112  115090.18  115090.18  115090.18      6.16  \n2015-03-05  12.820  12.820  12.820   98904.79   98904.79   98904.79      3.19  \n2015-03-04  12.707  12.707  12.707  100812.93  100812.93  100812.93      2.30  \n2015-03-03  12.610  12.610  12.610  117681.67  117681.67  117681.67      4.76  \n2015-03-02  12.520  12.520  12.520   96291.73   96291.73   96291.73      3.30  \n\n[643 rows x 14 columns]",
      "text/html": "<div>\n<style scoped>\n    .dataframe tbody tr th:only-of-type {\n        vertical-align: middle;\n    }\n\n    .dataframe tbody tr th {\n        vertical-align: top;\n    }\n\n    .dataframe thead th {\n        text-align: right;\n    }\n</style>\n<table border=\"1\" class=\"dataframe\">\n  <thead>\n    <tr style=\"text-align: right;\">\n      <th></th>\n      <th>open</th>\n      <th>high</th>\n      <th>close</th>\n      <th>low</th>\n      <th>volume</th>\n      <th>price_change</th>\n      <th>p_change</th>\n      <th>ma5</th>\n      <th>ma10</th>\n      <th>ma20</th>\n      <th>v_ma5</th>\n      <th>v_ma10</th>\n      <th>v_ma20</th>\n      <th>turnover</th>\n    </tr>\n  </thead>\n  <tbody>\n    <tr>\n      <th>2018-02-27</th>\n      <td>23.53</td>\n      <td>25.88</td>\n      <td>24.16</td>\n      <td>23.53</td>\n      <td>95578.03</td>\n      <td>0.63</td>\n      <td>2.68</td>\n      <td>22.942</td>\n      <td>22.142</td>\n      <td>22.875</td>\n      <td>53782.64</td>\n      <td>46738.65</td>\n      <td>55576.11</td>\n      <td>2.39</td>\n    </tr>\n    <tr>\n      <th>2018-02-26</th>\n      <td>22.80</td>\n      <td>23.78</td>\n      <td>23.53</td>\n      <td>22.80</td>\n      <td>60985.11</td>\n      <td>0.69</td>\n      <td>3.02</td>\n      <td>22.406</td>\n      <td>21.955</td>\n      <td>22.942</td>\n      <td>40827.52</td>\n      <td>42736.34</td>\n      <td>56007.50</td>\n      <td>1.53</td>\n    </tr>\n    <tr>\n      <th>2018-02-23</th>\n      <td>22.88</td>\n      <td>23.37</td>\n      <td>22.82</td>\n      <td>22.71</td>\n      <td>52914.01</td>\n      <td>0.54</td>\n      <td>2.42</td>\n      <td>21.938</td>\n      <td>21.929</td>\n      <td>23.022</td>\n      <td>35119.58</td>\n      <td>41871.97</td>\n      <td>56372.85</td>\n      <td>1.32</td>\n    </tr>\n    <tr>\n      <th>2018-02-22</th>\n      <td>22.25</td>\n      <td>22.76</td>\n      <td>22.28</td>\n      <td>22.02</td>\n      <td>36105.01</td>\n      <td>0.36</td>\n      <td>1.64</td>\n      <td>21.446</td>\n      <td>21.909</td>\n      <td>23.137</td>\n      <td>35397.58</td>\n      <td>39904.78</td>\n      <td>60149.60</td>\n      <td>0.90</td>\n    </tr>\n    <tr>\n      <th>2018-02-14</th>\n      <td>21.49</td>\n      <td>21.99</td>\n      <td>21.92</td>\n      <td>21.48</td>\n      <td>23331.04</td>\n      <td>0.44</td>\n      <td>2.05</td>\n      <td>21.366</td>\n      <td>21.923</td>\n      <td>23.253</td>\n      <td>33590.21</td>\n      <td>42935.74</td>\n      <td>61716.11</td>\n      <td>0.58</td>\n    </tr>\n    <tr>\n      <th>...</th>\n      <td>...</td>\n      <td>...</td>\n      <td>...</td>\n      <td>...</td>\n      <td>...</td>\n      <td>...</td>\n      <td>...</td>\n      <td>...</td>\n      <td>...</td>\n      <td>...</td>\n      <td>...</td>\n      <td>...</td>\n      <td>...</td>\n      <td>...</td>\n    </tr>\n    <tr>\n      <th>2015-03-06</th>\n      <td>13.17</td>\n      <td>14.48</td>\n      <td>14.28</td>\n      <td>13.13</td>\n      <td>179831.72</td>\n      <td>1.12</td>\n      <td>8.51</td>\n      <td>13.112</td>\n      <td>13.112</td>\n      <td>13.112</td>\n      <td>115090.18</td>\n      <td>115090.18</td>\n      <td>115090.18</td>\n      <td>6.16</td>\n    </tr>\n    <tr>\n      <th>2015-03-05</th>\n      <td>12.88</td>\n      <td>13.45</td>\n      <td>13.16</td>\n      <td>12.87</td>\n      <td>93180.39</td>\n      <td>0.26</td>\n      <td>2.02</td>\n      <td>12.820</td>\n      <td>12.820</td>\n      <td>12.820</td>\n      <td>98904.79</td>\n      <td>98904.79</td>\n      <td>98904.79</td>\n      <td>3.19</td>\n    </tr>\n    <tr>\n      <th>2015-03-04</th>\n      <td>12.80</td>\n      <td>12.92</td>\n      <td>12.90</td>\n      <td>12.61</td>\n      <td>67075.44</td>\n      <td>0.20</td>\n      <td>1.57</td>\n      <td>12.707</td>\n      <td>12.707</td>\n      <td>12.707</td>\n      <td>100812.93</td>\n      <td>100812.93</td>\n      <td>100812.93</td>\n      <td>2.30</td>\n    </tr>\n    <tr>\n      <th>2015-03-03</th>\n      <td>12.52</td>\n      <td>13.06</td>\n      <td>12.70</td>\n      <td>12.52</td>\n      <td>139071.61</td>\n      <td>0.18</td>\n      <td>1.44</td>\n      <td>12.610</td>\n      <td>12.610</td>\n      <td>12.610</td>\n      <td>117681.67</td>\n      <td>117681.67</td>\n      <td>117681.67</td>\n      <td>4.76</td>\n    </tr>\n    <tr>\n      <th>2015-03-02</th>\n      <td>12.25</td>\n      <td>12.67</td>\n      <td>12.52</td>\n      <td>12.20</td>\n      <td>96291.73</td>\n      <td>0.32</td>\n      <td>2.62</td>\n      <td>12.520</td>\n      <td>12.520</td>\n      <td>12.520</td>\n      <td>96291.73</td>\n      <td>96291.73</td>\n      <td>96291.73</td>\n      <td>3.30</td>\n    </tr>\n  </tbody>\n</table>\n<p>643 rows × 14 columns</p>\n</div>"
     },
     "execution_count": 2,
     "metadata": {},
     "output_type": "execute_result"
    }
   ],
   "source": [
    "df = pd.read_csv('stock_day.csv')\n",
    "df"
   ],
   "metadata": {
    "collapsed": false,
    "ExecuteTime": {
     "end_time": "2025-06-05T12:33:52.712363400Z",
     "start_time": "2025-06-05T12:33:52.684844500Z"
    }
   },
   "id": "95879ef56bb58a81"
  },
  {
   "cell_type": "markdown",
   "source": [
    "# 基础运算"
   ],
   "metadata": {
    "collapsed": false
   },
   "id": "3bafd0d0657a0d32"
  },
  {
   "cell_type": "code",
   "execution_count": 3,
   "outputs": [
    {
     "ename": "SyntaxError",
     "evalue": "invalid syntax (<ipython-input-3-e4776c49d7d9>, line 6)",
     "output_type": "error",
     "traceback": [
      "\u001B[0;36m  File \u001B[0;32m\"<ipython-input-3-e4776c49d7d9>\"\u001B[0;36m, line \u001B[0;32m6\u001B[0m\n\u001B[0;31m    df.\u001B[0m\n\u001B[0m       ^\u001B[0m\n\u001B[0;31mSyntaxError\u001B[0m\u001B[0;31m:\u001B[0m invalid syntax\n"
     ]
    }
   ],
   "source": [
    "# Series的加减法\n",
    "\n",
    "df.open.add(1) #临时加\n",
    "df.open += 1 #永久加\n",
    "\n",
    "df."
   ],
   "metadata": {
    "collapsed": false,
    "ExecuteTime": {
     "end_time": "2025-06-05T12:33:52.714592900Z",
     "start_time": "2025-06-05T12:33:52.711370700Z"
    }
   },
   "id": "8bfbd8c031357dcb"
  },
  {
   "cell_type": "markdown",
   "source": [
    "# 逻辑运算"
   ],
   "metadata": {
    "collapsed": false
   },
   "id": "760cd81fa16b82fc"
  },
  {
   "cell_type": "code",
   "execution_count": null,
   "outputs": [],
   "source": [
    "df"
   ],
   "metadata": {
    "collapsed": false,
    "ExecuteTime": {
     "end_time": "2025-06-05T12:33:52.732492500Z",
     "start_time": "2025-06-05T12:33:52.717645Z"
    }
   },
   "id": "b491af936e6b3ce5"
  },
  {
   "cell_type": "code",
   "execution_count": null,
   "outputs": [],
   "source": [
    "df.head(5).loc[['2018-02-27', '2018-02-23', '2018-02-22']]"
   ],
   "metadata": {
    "collapsed": false,
    "ExecuteTime": {
     "start_time": "2025-06-05T12:33:52.717645Z"
    }
   },
   "id": "f90359404f459d2d"
  },
  {
   "cell_type": "code",
   "execution_count": null,
   "outputs": [],
   "source": [
    "df.head(5).iloc[[0, 2, 3]]"
   ],
   "metadata": {
    "collapsed": false,
    "ExecuteTime": {
     "start_time": "2025-06-05T12:33:52.717645Z"
    }
   },
   "id": "593524b0d6199cb4"
  },
  {
   "cell_type": "code",
   "execution_count": null,
   "outputs": [],
   "source": [
    "df.head(5)[[True, False, True, True, False]]"
   ],
   "metadata": {
    "collapsed": false,
    "ExecuteTime": {
     "start_time": "2025-06-05T12:33:52.718645600Z"
    }
   },
   "id": "1b247ec186416637"
  },
  {
   "cell_type": "markdown",
   "source": [
    "## 逻辑运算函数"
   ],
   "metadata": {
    "collapsed": false
   },
   "id": "aec7a37d634ad934"
  },
  {
   "cell_type": "code",
   "execution_count": null,
   "outputs": [],
   "source": [
    "#query方法，直接使用表达式\n",
    "df.query('open >= 23 & open <= 25')\n",
    "df[(df.open == 23.53) | (df.open == 25.60)]"
   ],
   "metadata": {
    "collapsed": false,
    "ExecuteTime": {
     "start_time": "2025-06-05T12:33:52.725106200Z"
    }
   },
   "id": "1e87a5e8569ddeca"
  },
  {
   "cell_type": "code",
   "execution_count": null,
   "outputs": [],
   "source": [
    "#isin方法\n",
    "df[df.open.isin([23.80, 25.60])]"
   ],
   "metadata": {
    "collapsed": false,
    "ExecuteTime": {
     "start_time": "2025-06-05T12:33:52.725106200Z"
    }
   },
   "id": "b10628e39b2a8dd9"
  },
  {
   "cell_type": "markdown",
   "source": [
    "# 统计运算"
   ],
   "metadata": {
    "collapsed": false
   },
   "id": "4cb64237918df00e"
  },
  {
   "cell_type": "code",
   "execution_count": null,
   "outputs": [],
   "source": [
    "df"
   ],
   "metadata": {
    "collapsed": false,
    "ExecuteTime": {
     "start_time": "2025-06-05T12:33:52.725106200Z"
    }
   },
   "id": "424dc58f77be825"
  },
  {
   "cell_type": "code",
   "execution_count": null,
   "outputs": [],
   "source": [
    "df.describe()"
   ],
   "metadata": {
    "collapsed": false,
    "ExecuteTime": {
     "start_time": "2025-06-05T12:33:52.725106200Z"
    }
   },
   "id": "ebe46766802d3808"
  },
  {
   "cell_type": "code",
   "execution_count": null,
   "outputs": [],
   "source": [
    "df.info()"
   ],
   "metadata": {
    "collapsed": false,
    "ExecuteTime": {
     "start_time": "2025-06-05T12:33:52.725106200Z"
    }
   },
   "id": "4e63e19c480f864e"
  },
  {
   "cell_type": "code",
   "execution_count": null,
   "outputs": [],
   "source": [
    "df.count(axis=\"columns\")\n",
    "# df.count(axis=\"rows\")"
   ],
   "metadata": {
    "collapsed": false,
    "ExecuteTime": {
     "start_time": "2025-06-05T12:33:52.729493400Z"
    }
   },
   "id": "d22468ce1bdd4116"
  },
  {
   "cell_type": "code",
   "execution_count": null,
   "outputs": [],
   "source": [
    "df.idxmax(axis=\"columns\")"
   ],
   "metadata": {
    "collapsed": false,
    "ExecuteTime": {
     "start_time": "2025-06-05T12:33:52.730492600Z"
    }
   },
   "id": "1ef827242a5fdbbd"
  },
  {
   "cell_type": "code",
   "execution_count": null,
   "outputs": [],
   "source": [
    "df.open.mode()"
   ],
   "metadata": {
    "collapsed": false,
    "ExecuteTime": {
     "start_time": "2025-06-05T12:33:52.730492600Z"
    }
   },
   "id": "c28a4f9e5784b840"
  },
  {
   "cell_type": "markdown",
   "source": [
    "# 累计统计"
   ],
   "metadata": {
    "collapsed": false
   },
   "id": "e949948d2848921a"
  },
  {
   "cell_type": "code",
   "execution_count": null,
   "outputs": [],
   "source": [
    "df.sort_index()"
   ],
   "metadata": {
    "collapsed": false,
    "ExecuteTime": {
     "start_time": "2025-06-05T12:33:52.730492600Z"
    }
   },
   "id": "68d0cad547119abd"
  },
  {
   "cell_type": "code",
   "execution_count": null,
   "outputs": [],
   "source": [
    "df.cumsum()"
   ],
   "metadata": {
    "collapsed": false,
    "ExecuteTime": {
     "start_time": "2025-06-05T12:33:52.730492600Z"
    }
   },
   "id": "80e51a57ed4de273"
  },
  {
   "cell_type": "code",
   "execution_count": null,
   "outputs": [],
   "source": [
    "df.open.cumsum().plot()"
   ],
   "metadata": {
    "collapsed": false,
    "ExecuteTime": {
     "start_time": "2025-06-05T12:33:52.730492600Z"
    }
   },
   "id": "ac28e891e247aced"
  },
  {
   "cell_type": "code",
   "execution_count": null,
   "outputs": [],
   "source": [
    "# 按照列自定义计算\n",
    "df.apply(lambda col: col.max(), axis = 0)\n",
    "df.apply(lambda col: col.min(), axis = 0)\n",
    "\n",
    "#按照行自定义计算\n",
    "df.apply(lambda row: row.max(), axis=1)\n",
    "df.apply(lambda row: row.min(), axis=1)\n",
    "\n",
    "#操作单个元素\n",
    "df.apply(lambda x: x * 2)\n",
    "df.apply(lambda row: row[\"open\"] + row[\"high\"], axis = 1)\n",
    "\n",
    "df[['open', 'high']].apply(lambda x : x + 100)\n",
    "\n",
    "#返回多列结果\n",
    "def complex_return(row):\n",
    "    return pd.Series({\n",
    "        \"open+high\" : row[\"open\"] + row[\"high\"],\n",
    "        \"open-high\" : row[\"open\"] + row[\"high\"]\n",
    "    })\n",
    "\n",
    "df.apply(complex_return, axis = 1)\n",
    "\n",
    "#计算指定列的极值\n",
    "# df[['open', 'high', 'low']].apply(lambda col: col.max() - col.min(), axis = 0)"
   ],
   "metadata": {
    "collapsed": false,
    "ExecuteTime": {
     "start_time": "2025-06-05T12:33:52.730492600Z"
    }
   },
   "id": "55aa60b4dce879c8"
  }
 ],
 "metadata": {
  "kernelspec": {
   "display_name": "Python 3",
   "language": "python",
   "name": "python3"
  },
  "language_info": {
   "codemirror_mode": {
    "name": "ipython",
    "version": 2
   },
   "file_extension": ".py",
   "mimetype": "text/x-python",
   "name": "python",
   "nbconvert_exporter": "python",
   "pygments_lexer": "ipython2",
   "version": "2.7.6"
  }
 },
 "nbformat": 4,
 "nbformat_minor": 5
}
