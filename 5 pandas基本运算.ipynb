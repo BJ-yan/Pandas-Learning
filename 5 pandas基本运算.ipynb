{
 "cells": [
  {
   "cell_type": "code",
   "execution_count": 1,
   "id": "initial_id",
   "metadata": {
    "collapsed": true,
    "ExecuteTime": {
     "end_time": "2025-06-05T06:05:56.314197100Z",
     "start_time": "2025-06-05T06:05:49.799230600Z"
    }
   },
   "outputs": [],
   "source": [
    "import pandas as pd\n",
    "import os\n",
    "\n",
    "os.curdir\n",
    "os.chdir('./pandasData')"
   ]
  },
  {
   "cell_type": "code",
   "execution_count": 3,
   "outputs": [
    {
     "data": {
      "text/plain": "             open   high  close    low     volume  price_change  p_change  \\\n2018-02-27  23.53  25.88  24.16  23.53   95578.03          0.63      2.68   \n2018-02-26  22.80  23.78  23.53  22.80   60985.11          0.69      3.02   \n2018-02-23  22.88  23.37  22.82  22.71   52914.01          0.54      2.42   \n2018-02-22  22.25  22.76  22.28  22.02   36105.01          0.36      1.64   \n2018-02-14  21.49  21.99  21.92  21.48   23331.04          0.44      2.05   \n...           ...    ...    ...    ...        ...           ...       ...   \n2015-03-06  13.17  14.48  14.28  13.13  179831.72          1.12      8.51   \n2015-03-05  12.88  13.45  13.16  12.87   93180.39          0.26      2.02   \n2015-03-04  12.80  12.92  12.90  12.61   67075.44          0.20      1.57   \n2015-03-03  12.52  13.06  12.70  12.52  139071.61          0.18      1.44   \n2015-03-02  12.25  12.67  12.52  12.20   96291.73          0.32      2.62   \n\n               ma5    ma10    ma20      v_ma5     v_ma10     v_ma20  turnover  \n2018-02-27  22.942  22.142  22.875   53782.64   46738.65   55576.11      2.39  \n2018-02-26  22.406  21.955  22.942   40827.52   42736.34   56007.50      1.53  \n2018-02-23  21.938  21.929  23.022   35119.58   41871.97   56372.85      1.32  \n2018-02-22  21.446  21.909  23.137   35397.58   39904.78   60149.60      0.90  \n2018-02-14  21.366  21.923  23.253   33590.21   42935.74   61716.11      0.58  \n...            ...     ...     ...        ...        ...        ...       ...  \n2015-03-06  13.112  13.112  13.112  115090.18  115090.18  115090.18      6.16  \n2015-03-05  12.820  12.820  12.820   98904.79   98904.79   98904.79      3.19  \n2015-03-04  12.707  12.707  12.707  100812.93  100812.93  100812.93      2.30  \n2015-03-03  12.610  12.610  12.610  117681.67  117681.67  117681.67      4.76  \n2015-03-02  12.520  12.520  12.520   96291.73   96291.73   96291.73      3.30  \n\n[643 rows x 14 columns]",
      "text/html": "<div>\n<style scoped>\n    .dataframe tbody tr th:only-of-type {\n        vertical-align: middle;\n    }\n\n    .dataframe tbody tr th {\n        vertical-align: top;\n    }\n\n    .dataframe thead th {\n        text-align: right;\n    }\n</style>\n<table border=\"1\" class=\"dataframe\">\n  <thead>\n    <tr style=\"text-align: right;\">\n      <th></th>\n      <th>open</th>\n      <th>high</th>\n      <th>close</th>\n      <th>low</th>\n      <th>volume</th>\n      <th>price_change</th>\n      <th>p_change</th>\n      <th>ma5</th>\n      <th>ma10</th>\n      <th>ma20</th>\n      <th>v_ma5</th>\n      <th>v_ma10</th>\n      <th>v_ma20</th>\n      <th>turnover</th>\n    </tr>\n  </thead>\n  <tbody>\n    <tr>\n      <th>2018-02-27</th>\n      <td>23.53</td>\n      <td>25.88</td>\n      <td>24.16</td>\n      <td>23.53</td>\n      <td>95578.03</td>\n      <td>0.63</td>\n      <td>2.68</td>\n      <td>22.942</td>\n      <td>22.142</td>\n      <td>22.875</td>\n      <td>53782.64</td>\n      <td>46738.65</td>\n      <td>55576.11</td>\n      <td>2.39</td>\n    </tr>\n    <tr>\n      <th>2018-02-26</th>\n      <td>22.80</td>\n      <td>23.78</td>\n      <td>23.53</td>\n      <td>22.80</td>\n      <td>60985.11</td>\n      <td>0.69</td>\n      <td>3.02</td>\n      <td>22.406</td>\n      <td>21.955</td>\n      <td>22.942</td>\n      <td>40827.52</td>\n      <td>42736.34</td>\n      <td>56007.50</td>\n      <td>1.53</td>\n    </tr>\n    <tr>\n      <th>2018-02-23</th>\n      <td>22.88</td>\n      <td>23.37</td>\n      <td>22.82</td>\n      <td>22.71</td>\n      <td>52914.01</td>\n      <td>0.54</td>\n      <td>2.42</td>\n      <td>21.938</td>\n      <td>21.929</td>\n      <td>23.022</td>\n      <td>35119.58</td>\n      <td>41871.97</td>\n      <td>56372.85</td>\n      <td>1.32</td>\n    </tr>\n    <tr>\n      <th>2018-02-22</th>\n      <td>22.25</td>\n      <td>22.76</td>\n      <td>22.28</td>\n      <td>22.02</td>\n      <td>36105.01</td>\n      <td>0.36</td>\n      <td>1.64</td>\n      <td>21.446</td>\n      <td>21.909</td>\n      <td>23.137</td>\n      <td>35397.58</td>\n      <td>39904.78</td>\n      <td>60149.60</td>\n      <td>0.90</td>\n    </tr>\n    <tr>\n      <th>2018-02-14</th>\n      <td>21.49</td>\n      <td>21.99</td>\n      <td>21.92</td>\n      <td>21.48</td>\n      <td>23331.04</td>\n      <td>0.44</td>\n      <td>2.05</td>\n      <td>21.366</td>\n      <td>21.923</td>\n      <td>23.253</td>\n      <td>33590.21</td>\n      <td>42935.74</td>\n      <td>61716.11</td>\n      <td>0.58</td>\n    </tr>\n    <tr>\n      <th>...</th>\n      <td>...</td>\n      <td>...</td>\n      <td>...</td>\n      <td>...</td>\n      <td>...</td>\n      <td>...</td>\n      <td>...</td>\n      <td>...</td>\n      <td>...</td>\n      <td>...</td>\n      <td>...</td>\n      <td>...</td>\n      <td>...</td>\n      <td>...</td>\n    </tr>\n    <tr>\n      <th>2015-03-06</th>\n      <td>13.17</td>\n      <td>14.48</td>\n      <td>14.28</td>\n      <td>13.13</td>\n      <td>179831.72</td>\n      <td>1.12</td>\n      <td>8.51</td>\n      <td>13.112</td>\n      <td>13.112</td>\n      <td>13.112</td>\n      <td>115090.18</td>\n      <td>115090.18</td>\n      <td>115090.18</td>\n      <td>6.16</td>\n    </tr>\n    <tr>\n      <th>2015-03-05</th>\n      <td>12.88</td>\n      <td>13.45</td>\n      <td>13.16</td>\n      <td>12.87</td>\n      <td>93180.39</td>\n      <td>0.26</td>\n      <td>2.02</td>\n      <td>12.820</td>\n      <td>12.820</td>\n      <td>12.820</td>\n      <td>98904.79</td>\n      <td>98904.79</td>\n      <td>98904.79</td>\n      <td>3.19</td>\n    </tr>\n    <tr>\n      <th>2015-03-04</th>\n      <td>12.80</td>\n      <td>12.92</td>\n      <td>12.90</td>\n      <td>12.61</td>\n      <td>67075.44</td>\n      <td>0.20</td>\n      <td>1.57</td>\n      <td>12.707</td>\n      <td>12.707</td>\n      <td>12.707</td>\n      <td>100812.93</td>\n      <td>100812.93</td>\n      <td>100812.93</td>\n      <td>2.30</td>\n    </tr>\n    <tr>\n      <th>2015-03-03</th>\n      <td>12.52</td>\n      <td>13.06</td>\n      <td>12.70</td>\n      <td>12.52</td>\n      <td>139071.61</td>\n      <td>0.18</td>\n      <td>1.44</td>\n      <td>12.610</td>\n      <td>12.610</td>\n      <td>12.610</td>\n      <td>117681.67</td>\n      <td>117681.67</td>\n      <td>117681.67</td>\n      <td>4.76</td>\n    </tr>\n    <tr>\n      <th>2015-03-02</th>\n      <td>12.25</td>\n      <td>12.67</td>\n      <td>12.52</td>\n      <td>12.20</td>\n      <td>96291.73</td>\n      <td>0.32</td>\n      <td>2.62</td>\n      <td>12.520</td>\n      <td>12.520</td>\n      <td>12.520</td>\n      <td>96291.73</td>\n      <td>96291.73</td>\n      <td>96291.73</td>\n      <td>3.30</td>\n    </tr>\n  </tbody>\n</table>\n<p>643 rows × 14 columns</p>\n</div>"
     },
     "execution_count": 3,
     "metadata": {},
     "output_type": "execute_result"
    }
   ],
   "source": [
    "df = pd.read_csv('stock_day.csv')\n",
    "df"
   ],
   "metadata": {
    "collapsed": false,
    "ExecuteTime": {
     "end_time": "2025-06-05T06:08:09.292141600Z",
     "start_time": "2025-06-05T06:08:09.248990200Z"
    }
   },
   "id": "95879ef56bb58a81"
  },
  {
   "cell_type": "markdown",
   "source": [
    "# 基础运算"
   ],
   "metadata": {
    "collapsed": false
   },
   "id": "3bafd0d0657a0d32"
  },
  {
   "cell_type": "code",
   "execution_count": 13,
   "outputs": [
    {
     "data": {
      "text/plain": "2018-02-27    24.53\n2018-02-26    23.80\n2018-02-23    23.88\n2018-02-22    23.25\n2018-02-14    22.49\n              ...  \n2015-03-06    14.17\n2015-03-05    13.88\n2015-03-04    13.80\n2015-03-03    13.52\n2015-03-02    13.25\nName: open, Length: 643, dtype: float64"
     },
     "execution_count": 13,
     "metadata": {},
     "output_type": "execute_result"
    }
   ],
   "source": [
    "# Series的加减法\n",
    "\n",
    "df.open.add(1) #临时加\n",
    "df.open += 1 #永久加\n",
    "\n",
    "df."
   ],
   "metadata": {
    "collapsed": false,
    "ExecuteTime": {
     "end_time": "2025-06-04T13:31:57.249628800Z",
     "start_time": "2025-06-04T13:31:57.214630300Z"
    }
   },
   "id": "8bfbd8c031357dcb"
  },
  {
   "cell_type": "markdown",
   "source": [
    "# 逻辑运算"
   ],
   "metadata": {
    "collapsed": false
   },
   "id": "760cd81fa16b82fc"
  },
  {
   "cell_type": "code",
   "execution_count": 14,
   "outputs": [
    {
     "data": {
      "text/plain": "             open   high  close    low     volume  price_change  p_change  \\\n2018-02-27  23.53  25.88  24.16  23.53   95578.03          0.63      2.68   \n2018-02-26  22.80  23.78  23.53  22.80   60985.11          0.69      3.02   \n2018-02-23  22.88  23.37  22.82  22.71   52914.01          0.54      2.42   \n2018-02-22  22.25  22.76  22.28  22.02   36105.01          0.36      1.64   \n2018-02-14  21.49  21.99  21.92  21.48   23331.04          0.44      2.05   \n...           ...    ...    ...    ...        ...           ...       ...   \n2015-03-06  13.17  14.48  14.28  13.13  179831.72          1.12      8.51   \n2015-03-05  12.88  13.45  13.16  12.87   93180.39          0.26      2.02   \n2015-03-04  12.80  12.92  12.90  12.61   67075.44          0.20      1.57   \n2015-03-03  12.52  13.06  12.70  12.52  139071.61          0.18      1.44   \n2015-03-02  12.25  12.67  12.52  12.20   96291.73          0.32      2.62   \n\n               ma5    ma10    ma20      v_ma5     v_ma10     v_ma20  turnover  \n2018-02-27  22.942  22.142  22.875   53782.64   46738.65   55576.11      2.39  \n2018-02-26  22.406  21.955  22.942   40827.52   42736.34   56007.50      1.53  \n2018-02-23  21.938  21.929  23.022   35119.58   41871.97   56372.85      1.32  \n2018-02-22  21.446  21.909  23.137   35397.58   39904.78   60149.60      0.90  \n2018-02-14  21.366  21.923  23.253   33590.21   42935.74   61716.11      0.58  \n...            ...     ...     ...        ...        ...        ...       ...  \n2015-03-06  13.112  13.112  13.112  115090.18  115090.18  115090.18      6.16  \n2015-03-05  12.820  12.820  12.820   98904.79   98904.79   98904.79      3.19  \n2015-03-04  12.707  12.707  12.707  100812.93  100812.93  100812.93      2.30  \n2015-03-03  12.610  12.610  12.610  117681.67  117681.67  117681.67      4.76  \n2015-03-02  12.520  12.520  12.520   96291.73   96291.73   96291.73      3.30  \n\n[643 rows x 14 columns]",
      "text/html": "<div>\n<style scoped>\n    .dataframe tbody tr th:only-of-type {\n        vertical-align: middle;\n    }\n\n    .dataframe tbody tr th {\n        vertical-align: top;\n    }\n\n    .dataframe thead th {\n        text-align: right;\n    }\n</style>\n<table border=\"1\" class=\"dataframe\">\n  <thead>\n    <tr style=\"text-align: right;\">\n      <th></th>\n      <th>open</th>\n      <th>high</th>\n      <th>close</th>\n      <th>low</th>\n      <th>volume</th>\n      <th>price_change</th>\n      <th>p_change</th>\n      <th>ma5</th>\n      <th>ma10</th>\n      <th>ma20</th>\n      <th>v_ma5</th>\n      <th>v_ma10</th>\n      <th>v_ma20</th>\n      <th>turnover</th>\n    </tr>\n  </thead>\n  <tbody>\n    <tr>\n      <th>2018-02-27</th>\n      <td>23.53</td>\n      <td>25.88</td>\n      <td>24.16</td>\n      <td>23.53</td>\n      <td>95578.03</td>\n      <td>0.63</td>\n      <td>2.68</td>\n      <td>22.942</td>\n      <td>22.142</td>\n      <td>22.875</td>\n      <td>53782.64</td>\n      <td>46738.65</td>\n      <td>55576.11</td>\n      <td>2.39</td>\n    </tr>\n    <tr>\n      <th>2018-02-26</th>\n      <td>22.80</td>\n      <td>23.78</td>\n      <td>23.53</td>\n      <td>22.80</td>\n      <td>60985.11</td>\n      <td>0.69</td>\n      <td>3.02</td>\n      <td>22.406</td>\n      <td>21.955</td>\n      <td>22.942</td>\n      <td>40827.52</td>\n      <td>42736.34</td>\n      <td>56007.50</td>\n      <td>1.53</td>\n    </tr>\n    <tr>\n      <th>2018-02-23</th>\n      <td>22.88</td>\n      <td>23.37</td>\n      <td>22.82</td>\n      <td>22.71</td>\n      <td>52914.01</td>\n      <td>0.54</td>\n      <td>2.42</td>\n      <td>21.938</td>\n      <td>21.929</td>\n      <td>23.022</td>\n      <td>35119.58</td>\n      <td>41871.97</td>\n      <td>56372.85</td>\n      <td>1.32</td>\n    </tr>\n    <tr>\n      <th>2018-02-22</th>\n      <td>22.25</td>\n      <td>22.76</td>\n      <td>22.28</td>\n      <td>22.02</td>\n      <td>36105.01</td>\n      <td>0.36</td>\n      <td>1.64</td>\n      <td>21.446</td>\n      <td>21.909</td>\n      <td>23.137</td>\n      <td>35397.58</td>\n      <td>39904.78</td>\n      <td>60149.60</td>\n      <td>0.90</td>\n    </tr>\n    <tr>\n      <th>2018-02-14</th>\n      <td>21.49</td>\n      <td>21.99</td>\n      <td>21.92</td>\n      <td>21.48</td>\n      <td>23331.04</td>\n      <td>0.44</td>\n      <td>2.05</td>\n      <td>21.366</td>\n      <td>21.923</td>\n      <td>23.253</td>\n      <td>33590.21</td>\n      <td>42935.74</td>\n      <td>61716.11</td>\n      <td>0.58</td>\n    </tr>\n    <tr>\n      <th>...</th>\n      <td>...</td>\n      <td>...</td>\n      <td>...</td>\n      <td>...</td>\n      <td>...</td>\n      <td>...</td>\n      <td>...</td>\n      <td>...</td>\n      <td>...</td>\n      <td>...</td>\n      <td>...</td>\n      <td>...</td>\n      <td>...</td>\n      <td>...</td>\n    </tr>\n    <tr>\n      <th>2015-03-06</th>\n      <td>13.17</td>\n      <td>14.48</td>\n      <td>14.28</td>\n      <td>13.13</td>\n      <td>179831.72</td>\n      <td>1.12</td>\n      <td>8.51</td>\n      <td>13.112</td>\n      <td>13.112</td>\n      <td>13.112</td>\n      <td>115090.18</td>\n      <td>115090.18</td>\n      <td>115090.18</td>\n      <td>6.16</td>\n    </tr>\n    <tr>\n      <th>2015-03-05</th>\n      <td>12.88</td>\n      <td>13.45</td>\n      <td>13.16</td>\n      <td>12.87</td>\n      <td>93180.39</td>\n      <td>0.26</td>\n      <td>2.02</td>\n      <td>12.820</td>\n      <td>12.820</td>\n      <td>12.820</td>\n      <td>98904.79</td>\n      <td>98904.79</td>\n      <td>98904.79</td>\n      <td>3.19</td>\n    </tr>\n    <tr>\n      <th>2015-03-04</th>\n      <td>12.80</td>\n      <td>12.92</td>\n      <td>12.90</td>\n      <td>12.61</td>\n      <td>67075.44</td>\n      <td>0.20</td>\n      <td>1.57</td>\n      <td>12.707</td>\n      <td>12.707</td>\n      <td>12.707</td>\n      <td>100812.93</td>\n      <td>100812.93</td>\n      <td>100812.93</td>\n      <td>2.30</td>\n    </tr>\n    <tr>\n      <th>2015-03-03</th>\n      <td>12.52</td>\n      <td>13.06</td>\n      <td>12.70</td>\n      <td>12.52</td>\n      <td>139071.61</td>\n      <td>0.18</td>\n      <td>1.44</td>\n      <td>12.610</td>\n      <td>12.610</td>\n      <td>12.610</td>\n      <td>117681.67</td>\n      <td>117681.67</td>\n      <td>117681.67</td>\n      <td>4.76</td>\n    </tr>\n    <tr>\n      <th>2015-03-02</th>\n      <td>12.25</td>\n      <td>12.67</td>\n      <td>12.52</td>\n      <td>12.20</td>\n      <td>96291.73</td>\n      <td>0.32</td>\n      <td>2.62</td>\n      <td>12.520</td>\n      <td>12.520</td>\n      <td>12.520</td>\n      <td>96291.73</td>\n      <td>96291.73</td>\n      <td>96291.73</td>\n      <td>3.30</td>\n    </tr>\n  </tbody>\n</table>\n<p>643 rows × 14 columns</p>\n</div>"
     },
     "execution_count": 14,
     "metadata": {},
     "output_type": "execute_result"
    }
   ],
   "source": [
    "df"
   ],
   "metadata": {
    "collapsed": false,
    "ExecuteTime": {
     "end_time": "2025-06-04T14:51:54.741867400Z",
     "start_time": "2025-06-04T14:51:54.714789100Z"
    }
   },
   "id": "b491af936e6b3ce5"
  },
  {
   "cell_type": "code",
   "execution_count": 15,
   "outputs": [
    {
     "data": {
      "text/plain": "             open   high  close    low    volume  price_change  p_change  \\\n2018-02-27  23.53  25.88  24.16  23.53  95578.03          0.63      2.68   \n2018-02-23  22.88  23.37  22.82  22.71  52914.01          0.54      2.42   \n2018-02-22  22.25  22.76  22.28  22.02  36105.01          0.36      1.64   \n\n               ma5    ma10    ma20     v_ma5    v_ma10    v_ma20  turnover  \n2018-02-27  22.942  22.142  22.875  53782.64  46738.65  55576.11      2.39  \n2018-02-23  21.938  21.929  23.022  35119.58  41871.97  56372.85      1.32  \n2018-02-22  21.446  21.909  23.137  35397.58  39904.78  60149.60      0.90  ",
      "text/html": "<div>\n<style scoped>\n    .dataframe tbody tr th:only-of-type {\n        vertical-align: middle;\n    }\n\n    .dataframe tbody tr th {\n        vertical-align: top;\n    }\n\n    .dataframe thead th {\n        text-align: right;\n    }\n</style>\n<table border=\"1\" class=\"dataframe\">\n  <thead>\n    <tr style=\"text-align: right;\">\n      <th></th>\n      <th>open</th>\n      <th>high</th>\n      <th>close</th>\n      <th>low</th>\n      <th>volume</th>\n      <th>price_change</th>\n      <th>p_change</th>\n      <th>ma5</th>\n      <th>ma10</th>\n      <th>ma20</th>\n      <th>v_ma5</th>\n      <th>v_ma10</th>\n      <th>v_ma20</th>\n      <th>turnover</th>\n    </tr>\n  </thead>\n  <tbody>\n    <tr>\n      <th>2018-02-27</th>\n      <td>23.53</td>\n      <td>25.88</td>\n      <td>24.16</td>\n      <td>23.53</td>\n      <td>95578.03</td>\n      <td>0.63</td>\n      <td>2.68</td>\n      <td>22.942</td>\n      <td>22.142</td>\n      <td>22.875</td>\n      <td>53782.64</td>\n      <td>46738.65</td>\n      <td>55576.11</td>\n      <td>2.39</td>\n    </tr>\n    <tr>\n      <th>2018-02-23</th>\n      <td>22.88</td>\n      <td>23.37</td>\n      <td>22.82</td>\n      <td>22.71</td>\n      <td>52914.01</td>\n      <td>0.54</td>\n      <td>2.42</td>\n      <td>21.938</td>\n      <td>21.929</td>\n      <td>23.022</td>\n      <td>35119.58</td>\n      <td>41871.97</td>\n      <td>56372.85</td>\n      <td>1.32</td>\n    </tr>\n    <tr>\n      <th>2018-02-22</th>\n      <td>22.25</td>\n      <td>22.76</td>\n      <td>22.28</td>\n      <td>22.02</td>\n      <td>36105.01</td>\n      <td>0.36</td>\n      <td>1.64</td>\n      <td>21.446</td>\n      <td>21.909</td>\n      <td>23.137</td>\n      <td>35397.58</td>\n      <td>39904.78</td>\n      <td>60149.60</td>\n      <td>0.90</td>\n    </tr>\n  </tbody>\n</table>\n</div>"
     },
     "execution_count": 15,
     "metadata": {},
     "output_type": "execute_result"
    }
   ],
   "source": [
    "df.head(5).loc[['2018-02-27', '2018-02-23', '2018-02-22']]"
   ],
   "metadata": {
    "collapsed": false,
    "ExecuteTime": {
     "end_time": "2025-06-04T14:53:02.303813800Z",
     "start_time": "2025-06-04T14:53:02.290170500Z"
    }
   },
   "id": "f90359404f459d2d"
  },
  {
   "cell_type": "code",
   "execution_count": 16,
   "outputs": [
    {
     "data": {
      "text/plain": "             open   high  close    low    volume  price_change  p_change  \\\n2018-02-27  23.53  25.88  24.16  23.53  95578.03          0.63      2.68   \n2018-02-23  22.88  23.37  22.82  22.71  52914.01          0.54      2.42   \n2018-02-22  22.25  22.76  22.28  22.02  36105.01          0.36      1.64   \n\n               ma5    ma10    ma20     v_ma5    v_ma10    v_ma20  turnover  \n2018-02-27  22.942  22.142  22.875  53782.64  46738.65  55576.11      2.39  \n2018-02-23  21.938  21.929  23.022  35119.58  41871.97  56372.85      1.32  \n2018-02-22  21.446  21.909  23.137  35397.58  39904.78  60149.60      0.90  ",
      "text/html": "<div>\n<style scoped>\n    .dataframe tbody tr th:only-of-type {\n        vertical-align: middle;\n    }\n\n    .dataframe tbody tr th {\n        vertical-align: top;\n    }\n\n    .dataframe thead th {\n        text-align: right;\n    }\n</style>\n<table border=\"1\" class=\"dataframe\">\n  <thead>\n    <tr style=\"text-align: right;\">\n      <th></th>\n      <th>open</th>\n      <th>high</th>\n      <th>close</th>\n      <th>low</th>\n      <th>volume</th>\n      <th>price_change</th>\n      <th>p_change</th>\n      <th>ma5</th>\n      <th>ma10</th>\n      <th>ma20</th>\n      <th>v_ma5</th>\n      <th>v_ma10</th>\n      <th>v_ma20</th>\n      <th>turnover</th>\n    </tr>\n  </thead>\n  <tbody>\n    <tr>\n      <th>2018-02-27</th>\n      <td>23.53</td>\n      <td>25.88</td>\n      <td>24.16</td>\n      <td>23.53</td>\n      <td>95578.03</td>\n      <td>0.63</td>\n      <td>2.68</td>\n      <td>22.942</td>\n      <td>22.142</td>\n      <td>22.875</td>\n      <td>53782.64</td>\n      <td>46738.65</td>\n      <td>55576.11</td>\n      <td>2.39</td>\n    </tr>\n    <tr>\n      <th>2018-02-23</th>\n      <td>22.88</td>\n      <td>23.37</td>\n      <td>22.82</td>\n      <td>22.71</td>\n      <td>52914.01</td>\n      <td>0.54</td>\n      <td>2.42</td>\n      <td>21.938</td>\n      <td>21.929</td>\n      <td>23.022</td>\n      <td>35119.58</td>\n      <td>41871.97</td>\n      <td>56372.85</td>\n      <td>1.32</td>\n    </tr>\n    <tr>\n      <th>2018-02-22</th>\n      <td>22.25</td>\n      <td>22.76</td>\n      <td>22.28</td>\n      <td>22.02</td>\n      <td>36105.01</td>\n      <td>0.36</td>\n      <td>1.64</td>\n      <td>21.446</td>\n      <td>21.909</td>\n      <td>23.137</td>\n      <td>35397.58</td>\n      <td>39904.78</td>\n      <td>60149.60</td>\n      <td>0.90</td>\n    </tr>\n  </tbody>\n</table>\n</div>"
     },
     "execution_count": 16,
     "metadata": {},
     "output_type": "execute_result"
    }
   ],
   "source": [
    "df.head(5).iloc[[0, 2, 3]]"
   ],
   "metadata": {
    "collapsed": false,
    "ExecuteTime": {
     "end_time": "2025-06-04T14:53:29.393442900Z",
     "start_time": "2025-06-04T14:53:29.369139Z"
    }
   },
   "id": "593524b0d6199cb4"
  },
  {
   "cell_type": "code",
   "execution_count": 18,
   "outputs": [
    {
     "data": {
      "text/plain": "             open   high  close    low    volume  price_change  p_change  \\\n2018-02-27  23.53  25.88  24.16  23.53  95578.03          0.63      2.68   \n2018-02-23  22.88  23.37  22.82  22.71  52914.01          0.54      2.42   \n2018-02-22  22.25  22.76  22.28  22.02  36105.01          0.36      1.64   \n\n               ma5    ma10    ma20     v_ma5    v_ma10    v_ma20  turnover  \n2018-02-27  22.942  22.142  22.875  53782.64  46738.65  55576.11      2.39  \n2018-02-23  21.938  21.929  23.022  35119.58  41871.97  56372.85      1.32  \n2018-02-22  21.446  21.909  23.137  35397.58  39904.78  60149.60      0.90  ",
      "text/html": "<div>\n<style scoped>\n    .dataframe tbody tr th:only-of-type {\n        vertical-align: middle;\n    }\n\n    .dataframe tbody tr th {\n        vertical-align: top;\n    }\n\n    .dataframe thead th {\n        text-align: right;\n    }\n</style>\n<table border=\"1\" class=\"dataframe\">\n  <thead>\n    <tr style=\"text-align: right;\">\n      <th></th>\n      <th>open</th>\n      <th>high</th>\n      <th>close</th>\n      <th>low</th>\n      <th>volume</th>\n      <th>price_change</th>\n      <th>p_change</th>\n      <th>ma5</th>\n      <th>ma10</th>\n      <th>ma20</th>\n      <th>v_ma5</th>\n      <th>v_ma10</th>\n      <th>v_ma20</th>\n      <th>turnover</th>\n    </tr>\n  </thead>\n  <tbody>\n    <tr>\n      <th>2018-02-27</th>\n      <td>23.53</td>\n      <td>25.88</td>\n      <td>24.16</td>\n      <td>23.53</td>\n      <td>95578.03</td>\n      <td>0.63</td>\n      <td>2.68</td>\n      <td>22.942</td>\n      <td>22.142</td>\n      <td>22.875</td>\n      <td>53782.64</td>\n      <td>46738.65</td>\n      <td>55576.11</td>\n      <td>2.39</td>\n    </tr>\n    <tr>\n      <th>2018-02-23</th>\n      <td>22.88</td>\n      <td>23.37</td>\n      <td>22.82</td>\n      <td>22.71</td>\n      <td>52914.01</td>\n      <td>0.54</td>\n      <td>2.42</td>\n      <td>21.938</td>\n      <td>21.929</td>\n      <td>23.022</td>\n      <td>35119.58</td>\n      <td>41871.97</td>\n      <td>56372.85</td>\n      <td>1.32</td>\n    </tr>\n    <tr>\n      <th>2018-02-22</th>\n      <td>22.25</td>\n      <td>22.76</td>\n      <td>22.28</td>\n      <td>22.02</td>\n      <td>36105.01</td>\n      <td>0.36</td>\n      <td>1.64</td>\n      <td>21.446</td>\n      <td>21.909</td>\n      <td>23.137</td>\n      <td>35397.58</td>\n      <td>39904.78</td>\n      <td>60149.60</td>\n      <td>0.90</td>\n    </tr>\n  </tbody>\n</table>\n</div>"
     },
     "execution_count": 18,
     "metadata": {},
     "output_type": "execute_result"
    }
   ],
   "source": [
    "df.head(5)[[True, False, True, True, False]]"
   ],
   "metadata": {
    "collapsed": false,
    "ExecuteTime": {
     "end_time": "2025-06-04T14:54:08.230581900Z",
     "start_time": "2025-06-04T14:54:08.224585100Z"
    }
   },
   "id": "1b247ec186416637"
  },
  {
   "cell_type": "markdown",
   "source": [
    "## 逻辑运算函数"
   ],
   "metadata": {
    "collapsed": false
   },
   "id": "aec7a37d634ad934"
  },
  {
   "cell_type": "code",
   "execution_count": 24,
   "outputs": [
    {
     "data": {
      "text/plain": "             open   high  close    low     volume  price_change  p_change  \\\n2018-02-27  23.53  25.88  24.16  23.53   95578.03          0.63      2.68   \n2017-07-26  23.53  23.92  23.40  22.85  110276.48         -0.30     -1.27   \n2015-12-18  23.53  24.66  23.99  23.43  109230.05          0.65      2.79   \n\n               ma5    ma10    ma20      v_ma5     v_ma10     v_ma20  turnover  \n2018-02-27  22.942  22.142  22.875   53782.64   46738.65   55576.11      2.39  \n2017-07-26  23.200  22.718  22.286  130237.86  140918.73  160464.67      2.76  \n2015-12-18  22.834  22.264  22.163   66728.10   68518.08   68161.18      3.74  ",
      "text/html": "<div>\n<style scoped>\n    .dataframe tbody tr th:only-of-type {\n        vertical-align: middle;\n    }\n\n    .dataframe tbody tr th {\n        vertical-align: top;\n    }\n\n    .dataframe thead th {\n        text-align: right;\n    }\n</style>\n<table border=\"1\" class=\"dataframe\">\n  <thead>\n    <tr style=\"text-align: right;\">\n      <th></th>\n      <th>open</th>\n      <th>high</th>\n      <th>close</th>\n      <th>low</th>\n      <th>volume</th>\n      <th>price_change</th>\n      <th>p_change</th>\n      <th>ma5</th>\n      <th>ma10</th>\n      <th>ma20</th>\n      <th>v_ma5</th>\n      <th>v_ma10</th>\n      <th>v_ma20</th>\n      <th>turnover</th>\n    </tr>\n  </thead>\n  <tbody>\n    <tr>\n      <th>2018-02-27</th>\n      <td>23.53</td>\n      <td>25.88</td>\n      <td>24.16</td>\n      <td>23.53</td>\n      <td>95578.03</td>\n      <td>0.63</td>\n      <td>2.68</td>\n      <td>22.942</td>\n      <td>22.142</td>\n      <td>22.875</td>\n      <td>53782.64</td>\n      <td>46738.65</td>\n      <td>55576.11</td>\n      <td>2.39</td>\n    </tr>\n    <tr>\n      <th>2017-07-26</th>\n      <td>23.53</td>\n      <td>23.92</td>\n      <td>23.40</td>\n      <td>22.85</td>\n      <td>110276.48</td>\n      <td>-0.30</td>\n      <td>-1.27</td>\n      <td>23.200</td>\n      <td>22.718</td>\n      <td>22.286</td>\n      <td>130237.86</td>\n      <td>140918.73</td>\n      <td>160464.67</td>\n      <td>2.76</td>\n    </tr>\n    <tr>\n      <th>2015-12-18</th>\n      <td>23.53</td>\n      <td>24.66</td>\n      <td>23.99</td>\n      <td>23.43</td>\n      <td>109230.05</td>\n      <td>0.65</td>\n      <td>2.79</td>\n      <td>22.834</td>\n      <td>22.264</td>\n      <td>22.163</td>\n      <td>66728.10</td>\n      <td>68518.08</td>\n      <td>68161.18</td>\n      <td>3.74</td>\n    </tr>\n  </tbody>\n</table>\n</div>"
     },
     "execution_count": 24,
     "metadata": {},
     "output_type": "execute_result"
    }
   ],
   "source": [
    "#query方法，直接使用表达式\n",
    "df.query('open >= 23 & open <= 25')\n",
    "df[(df.open == 23.53) | (df.open == 25.60)]"
   ],
   "metadata": {
    "collapsed": false,
    "ExecuteTime": {
     "end_time": "2025-06-04T15:04:46.867777200Z",
     "start_time": "2025-06-04T15:04:46.844300Z"
    }
   },
   "id": "1e87a5e8569ddeca"
  },
  {
   "cell_type": "code",
   "execution_count": null,
   "outputs": [],
   "source": [
    "#isin方法\n",
    "df[df.open.isin([23.80, 25.60])]"
   ],
   "metadata": {
    "collapsed": false,
    "is_executing": true
   },
   "id": "b10628e39b2a8dd9"
  },
  {
   "cell_type": "markdown",
   "source": [
    "# 统计运算"
   ],
   "metadata": {
    "collapsed": false
   },
   "id": "4cb64237918df00e"
  },
  {
   "cell_type": "code",
   "execution_count": 4,
   "outputs": [
    {
     "data": {
      "text/plain": "             open   high  close    low     volume  price_change  p_change  \\\n2018-02-27  23.53  25.88  24.16  23.53   95578.03          0.63      2.68   \n2018-02-26  22.80  23.78  23.53  22.80   60985.11          0.69      3.02   \n2018-02-23  22.88  23.37  22.82  22.71   52914.01          0.54      2.42   \n2018-02-22  22.25  22.76  22.28  22.02   36105.01          0.36      1.64   \n2018-02-14  21.49  21.99  21.92  21.48   23331.04          0.44      2.05   \n...           ...    ...    ...    ...        ...           ...       ...   \n2015-03-06  13.17  14.48  14.28  13.13  179831.72          1.12      8.51   \n2015-03-05  12.88  13.45  13.16  12.87   93180.39          0.26      2.02   \n2015-03-04  12.80  12.92  12.90  12.61   67075.44          0.20      1.57   \n2015-03-03  12.52  13.06  12.70  12.52  139071.61          0.18      1.44   \n2015-03-02  12.25  12.67  12.52  12.20   96291.73          0.32      2.62   \n\n               ma5    ma10    ma20      v_ma5     v_ma10     v_ma20  turnover  \n2018-02-27  22.942  22.142  22.875   53782.64   46738.65   55576.11      2.39  \n2018-02-26  22.406  21.955  22.942   40827.52   42736.34   56007.50      1.53  \n2018-02-23  21.938  21.929  23.022   35119.58   41871.97   56372.85      1.32  \n2018-02-22  21.446  21.909  23.137   35397.58   39904.78   60149.60      0.90  \n2018-02-14  21.366  21.923  23.253   33590.21   42935.74   61716.11      0.58  \n...            ...     ...     ...        ...        ...        ...       ...  \n2015-03-06  13.112  13.112  13.112  115090.18  115090.18  115090.18      6.16  \n2015-03-05  12.820  12.820  12.820   98904.79   98904.79   98904.79      3.19  \n2015-03-04  12.707  12.707  12.707  100812.93  100812.93  100812.93      2.30  \n2015-03-03  12.610  12.610  12.610  117681.67  117681.67  117681.67      4.76  \n2015-03-02  12.520  12.520  12.520   96291.73   96291.73   96291.73      3.30  \n\n[643 rows x 14 columns]",
      "text/html": "<div>\n<style scoped>\n    .dataframe tbody tr th:only-of-type {\n        vertical-align: middle;\n    }\n\n    .dataframe tbody tr th {\n        vertical-align: top;\n    }\n\n    .dataframe thead th {\n        text-align: right;\n    }\n</style>\n<table border=\"1\" class=\"dataframe\">\n  <thead>\n    <tr style=\"text-align: right;\">\n      <th></th>\n      <th>open</th>\n      <th>high</th>\n      <th>close</th>\n      <th>low</th>\n      <th>volume</th>\n      <th>price_change</th>\n      <th>p_change</th>\n      <th>ma5</th>\n      <th>ma10</th>\n      <th>ma20</th>\n      <th>v_ma5</th>\n      <th>v_ma10</th>\n      <th>v_ma20</th>\n      <th>turnover</th>\n    </tr>\n  </thead>\n  <tbody>\n    <tr>\n      <th>2018-02-27</th>\n      <td>23.53</td>\n      <td>25.88</td>\n      <td>24.16</td>\n      <td>23.53</td>\n      <td>95578.03</td>\n      <td>0.63</td>\n      <td>2.68</td>\n      <td>22.942</td>\n      <td>22.142</td>\n      <td>22.875</td>\n      <td>53782.64</td>\n      <td>46738.65</td>\n      <td>55576.11</td>\n      <td>2.39</td>\n    </tr>\n    <tr>\n      <th>2018-02-26</th>\n      <td>22.80</td>\n      <td>23.78</td>\n      <td>23.53</td>\n      <td>22.80</td>\n      <td>60985.11</td>\n      <td>0.69</td>\n      <td>3.02</td>\n      <td>22.406</td>\n      <td>21.955</td>\n      <td>22.942</td>\n      <td>40827.52</td>\n      <td>42736.34</td>\n      <td>56007.50</td>\n      <td>1.53</td>\n    </tr>\n    <tr>\n      <th>2018-02-23</th>\n      <td>22.88</td>\n      <td>23.37</td>\n      <td>22.82</td>\n      <td>22.71</td>\n      <td>52914.01</td>\n      <td>0.54</td>\n      <td>2.42</td>\n      <td>21.938</td>\n      <td>21.929</td>\n      <td>23.022</td>\n      <td>35119.58</td>\n      <td>41871.97</td>\n      <td>56372.85</td>\n      <td>1.32</td>\n    </tr>\n    <tr>\n      <th>2018-02-22</th>\n      <td>22.25</td>\n      <td>22.76</td>\n      <td>22.28</td>\n      <td>22.02</td>\n      <td>36105.01</td>\n      <td>0.36</td>\n      <td>1.64</td>\n      <td>21.446</td>\n      <td>21.909</td>\n      <td>23.137</td>\n      <td>35397.58</td>\n      <td>39904.78</td>\n      <td>60149.60</td>\n      <td>0.90</td>\n    </tr>\n    <tr>\n      <th>2018-02-14</th>\n      <td>21.49</td>\n      <td>21.99</td>\n      <td>21.92</td>\n      <td>21.48</td>\n      <td>23331.04</td>\n      <td>0.44</td>\n      <td>2.05</td>\n      <td>21.366</td>\n      <td>21.923</td>\n      <td>23.253</td>\n      <td>33590.21</td>\n      <td>42935.74</td>\n      <td>61716.11</td>\n      <td>0.58</td>\n    </tr>\n    <tr>\n      <th>...</th>\n      <td>...</td>\n      <td>...</td>\n      <td>...</td>\n      <td>...</td>\n      <td>...</td>\n      <td>...</td>\n      <td>...</td>\n      <td>...</td>\n      <td>...</td>\n      <td>...</td>\n      <td>...</td>\n      <td>...</td>\n      <td>...</td>\n      <td>...</td>\n    </tr>\n    <tr>\n      <th>2015-03-06</th>\n      <td>13.17</td>\n      <td>14.48</td>\n      <td>14.28</td>\n      <td>13.13</td>\n      <td>179831.72</td>\n      <td>1.12</td>\n      <td>8.51</td>\n      <td>13.112</td>\n      <td>13.112</td>\n      <td>13.112</td>\n      <td>115090.18</td>\n      <td>115090.18</td>\n      <td>115090.18</td>\n      <td>6.16</td>\n    </tr>\n    <tr>\n      <th>2015-03-05</th>\n      <td>12.88</td>\n      <td>13.45</td>\n      <td>13.16</td>\n      <td>12.87</td>\n      <td>93180.39</td>\n      <td>0.26</td>\n      <td>2.02</td>\n      <td>12.820</td>\n      <td>12.820</td>\n      <td>12.820</td>\n      <td>98904.79</td>\n      <td>98904.79</td>\n      <td>98904.79</td>\n      <td>3.19</td>\n    </tr>\n    <tr>\n      <th>2015-03-04</th>\n      <td>12.80</td>\n      <td>12.92</td>\n      <td>12.90</td>\n      <td>12.61</td>\n      <td>67075.44</td>\n      <td>0.20</td>\n      <td>1.57</td>\n      <td>12.707</td>\n      <td>12.707</td>\n      <td>12.707</td>\n      <td>100812.93</td>\n      <td>100812.93</td>\n      <td>100812.93</td>\n      <td>2.30</td>\n    </tr>\n    <tr>\n      <th>2015-03-03</th>\n      <td>12.52</td>\n      <td>13.06</td>\n      <td>12.70</td>\n      <td>12.52</td>\n      <td>139071.61</td>\n      <td>0.18</td>\n      <td>1.44</td>\n      <td>12.610</td>\n      <td>12.610</td>\n      <td>12.610</td>\n      <td>117681.67</td>\n      <td>117681.67</td>\n      <td>117681.67</td>\n      <td>4.76</td>\n    </tr>\n    <tr>\n      <th>2015-03-02</th>\n      <td>12.25</td>\n      <td>12.67</td>\n      <td>12.52</td>\n      <td>12.20</td>\n      <td>96291.73</td>\n      <td>0.32</td>\n      <td>2.62</td>\n      <td>12.520</td>\n      <td>12.520</td>\n      <td>12.520</td>\n      <td>96291.73</td>\n      <td>96291.73</td>\n      <td>96291.73</td>\n      <td>3.30</td>\n    </tr>\n  </tbody>\n</table>\n<p>643 rows × 14 columns</p>\n</div>"
     },
     "execution_count": 4,
     "metadata": {},
     "output_type": "execute_result"
    }
   ],
   "source": [
    "df"
   ],
   "metadata": {
    "collapsed": false,
    "ExecuteTime": {
     "end_time": "2025-06-05T06:08:14.786618700Z",
     "start_time": "2025-06-05T06:08:14.762315900Z"
    }
   },
   "id": "424dc58f77be825"
  },
  {
   "cell_type": "code",
   "execution_count": 6,
   "outputs": [
    {
     "data": {
      "text/plain": "             open        high       close         low         volume  \\\ncount  643.000000  643.000000  643.000000  643.000000     643.000000   \nmean    21.272706   21.900513   21.336267   20.771835   99905.519114   \nstd      3.930973    4.077578    3.942806    3.791968   73879.119354   \nmin     12.250000   12.670000   12.360000   12.200000    1158.120000   \n25%     19.000000   19.500000   19.045000   18.525000   48533.210000   \n50%     21.440000   21.970000   21.450000   20.980000   83175.930000   \n75%     23.400000   24.065000   23.415000   22.850000  127580.055000   \nmax     34.990000   36.350000   35.210000   34.010000  501915.410000   \n\n       price_change    p_change         ma5        ma10        ma20  \\\ncount    643.000000  643.000000  643.000000  643.000000  643.000000   \nmean       0.018802    0.190280   21.302362   21.267656   21.200946   \nstd        0.898476    4.079698    3.880640    3.813602    3.686186   \nmin       -3.520000  -10.030000   12.520000   12.520000   12.520000   \n25%       -0.390000   -1.850000   18.990000   19.102000   19.275000   \n50%        0.050000    0.260000   21.504000   21.623000   21.530000   \n75%        0.455000    2.305000   23.318000   23.098500   23.136000   \nmax        3.030000   10.030000   33.696000   32.186000   29.998000   \n\n               v_ma5         v_ma10         v_ma20    turnover  \ncount     643.000000     643.000000     643.000000  643.000000  \nmean   100008.642691  100287.542177  100797.518398    2.936190  \nstd     62761.578326   56759.082060   50101.575639    2.079375  \nmin     10804.740000   19130.510000   23311.000000    0.040000  \n25%     55794.985000   59861.955000   64103.675000    1.360000  \n50%     86133.330000   89234.970000   96291.730000    2.500000  \n75%    127655.655000  124693.255000  124001.015000    3.915000  \nmax    404443.540000  360028.160000  269280.790000   12.560000  ",
      "text/html": "<div>\n<style scoped>\n    .dataframe tbody tr th:only-of-type {\n        vertical-align: middle;\n    }\n\n    .dataframe tbody tr th {\n        vertical-align: top;\n    }\n\n    .dataframe thead th {\n        text-align: right;\n    }\n</style>\n<table border=\"1\" class=\"dataframe\">\n  <thead>\n    <tr style=\"text-align: right;\">\n      <th></th>\n      <th>open</th>\n      <th>high</th>\n      <th>close</th>\n      <th>low</th>\n      <th>volume</th>\n      <th>price_change</th>\n      <th>p_change</th>\n      <th>ma5</th>\n      <th>ma10</th>\n      <th>ma20</th>\n      <th>v_ma5</th>\n      <th>v_ma10</th>\n      <th>v_ma20</th>\n      <th>turnover</th>\n    </tr>\n  </thead>\n  <tbody>\n    <tr>\n      <th>count</th>\n      <td>643.000000</td>\n      <td>643.000000</td>\n      <td>643.000000</td>\n      <td>643.000000</td>\n      <td>643.000000</td>\n      <td>643.000000</td>\n      <td>643.000000</td>\n      <td>643.000000</td>\n      <td>643.000000</td>\n      <td>643.000000</td>\n      <td>643.000000</td>\n      <td>643.000000</td>\n      <td>643.000000</td>\n      <td>643.000000</td>\n    </tr>\n    <tr>\n      <th>mean</th>\n      <td>21.272706</td>\n      <td>21.900513</td>\n      <td>21.336267</td>\n      <td>20.771835</td>\n      <td>99905.519114</td>\n      <td>0.018802</td>\n      <td>0.190280</td>\n      <td>21.302362</td>\n      <td>21.267656</td>\n      <td>21.200946</td>\n      <td>100008.642691</td>\n      <td>100287.542177</td>\n      <td>100797.518398</td>\n      <td>2.936190</td>\n    </tr>\n    <tr>\n      <th>std</th>\n      <td>3.930973</td>\n      <td>4.077578</td>\n      <td>3.942806</td>\n      <td>3.791968</td>\n      <td>73879.119354</td>\n      <td>0.898476</td>\n      <td>4.079698</td>\n      <td>3.880640</td>\n      <td>3.813602</td>\n      <td>3.686186</td>\n      <td>62761.578326</td>\n      <td>56759.082060</td>\n      <td>50101.575639</td>\n      <td>2.079375</td>\n    </tr>\n    <tr>\n      <th>min</th>\n      <td>12.250000</td>\n      <td>12.670000</td>\n      <td>12.360000</td>\n      <td>12.200000</td>\n      <td>1158.120000</td>\n      <td>-3.520000</td>\n      <td>-10.030000</td>\n      <td>12.520000</td>\n      <td>12.520000</td>\n      <td>12.520000</td>\n      <td>10804.740000</td>\n      <td>19130.510000</td>\n      <td>23311.000000</td>\n      <td>0.040000</td>\n    </tr>\n    <tr>\n      <th>25%</th>\n      <td>19.000000</td>\n      <td>19.500000</td>\n      <td>19.045000</td>\n      <td>18.525000</td>\n      <td>48533.210000</td>\n      <td>-0.390000</td>\n      <td>-1.850000</td>\n      <td>18.990000</td>\n      <td>19.102000</td>\n      <td>19.275000</td>\n      <td>55794.985000</td>\n      <td>59861.955000</td>\n      <td>64103.675000</td>\n      <td>1.360000</td>\n    </tr>\n    <tr>\n      <th>50%</th>\n      <td>21.440000</td>\n      <td>21.970000</td>\n      <td>21.450000</td>\n      <td>20.980000</td>\n      <td>83175.930000</td>\n      <td>0.050000</td>\n      <td>0.260000</td>\n      <td>21.504000</td>\n      <td>21.623000</td>\n      <td>21.530000</td>\n      <td>86133.330000</td>\n      <td>89234.970000</td>\n      <td>96291.730000</td>\n      <td>2.500000</td>\n    </tr>\n    <tr>\n      <th>75%</th>\n      <td>23.400000</td>\n      <td>24.065000</td>\n      <td>23.415000</td>\n      <td>22.850000</td>\n      <td>127580.055000</td>\n      <td>0.455000</td>\n      <td>2.305000</td>\n      <td>23.318000</td>\n      <td>23.098500</td>\n      <td>23.136000</td>\n      <td>127655.655000</td>\n      <td>124693.255000</td>\n      <td>124001.015000</td>\n      <td>3.915000</td>\n    </tr>\n    <tr>\n      <th>max</th>\n      <td>34.990000</td>\n      <td>36.350000</td>\n      <td>35.210000</td>\n      <td>34.010000</td>\n      <td>501915.410000</td>\n      <td>3.030000</td>\n      <td>10.030000</td>\n      <td>33.696000</td>\n      <td>32.186000</td>\n      <td>29.998000</td>\n      <td>404443.540000</td>\n      <td>360028.160000</td>\n      <td>269280.790000</td>\n      <td>12.560000</td>\n    </tr>\n  </tbody>\n</table>\n</div>"
     },
     "execution_count": 6,
     "metadata": {},
     "output_type": "execute_result"
    }
   ],
   "source": [
    "df.describe()"
   ],
   "metadata": {
    "collapsed": false,
    "ExecuteTime": {
     "end_time": "2025-06-05T06:09:02.924319700Z",
     "start_time": "2025-06-05T06:09:02.843968900Z"
    }
   },
   "id": "ebe46766802d3808"
  },
  {
   "cell_type": "code",
   "execution_count": 7,
   "outputs": [
    {
     "name": "stdout",
     "output_type": "stream",
     "text": [
      "<class 'pandas.core.frame.DataFrame'>\n",
      "Index: 643 entries, 2018-02-27 to 2015-03-02\n",
      "Data columns (total 14 columns):\n",
      " #   Column        Non-Null Count  Dtype  \n",
      "---  ------        --------------  -----  \n",
      " 0   open          643 non-null    float64\n",
      " 1   high          643 non-null    float64\n",
      " 2   close         643 non-null    float64\n",
      " 3   low           643 non-null    float64\n",
      " 4   volume        643 non-null    float64\n",
      " 5   price_change  643 non-null    float64\n",
      " 6   p_change      643 non-null    float64\n",
      " 7   ma5           643 non-null    float64\n",
      " 8   ma10          643 non-null    float64\n",
      " 9   ma20          643 non-null    float64\n",
      " 10  v_ma5         643 non-null    float64\n",
      " 11  v_ma10        643 non-null    float64\n",
      " 12  v_ma20        643 non-null    float64\n",
      " 13  turnover      643 non-null    float64\n",
      "dtypes: float64(14)\n",
      "memory usage: 75.4+ KB\n"
     ]
    }
   ],
   "source": [
    "df.info()"
   ],
   "metadata": {
    "collapsed": false,
    "ExecuteTime": {
     "end_time": "2025-06-05T06:09:37.574625400Z",
     "start_time": "2025-06-05T06:09:37.510641700Z"
    }
   },
   "id": "4e63e19c480f864e"
  },
  {
   "cell_type": "code",
   "execution_count": 9,
   "outputs": [
    {
     "data": {
      "text/plain": "2018-02-27    14\n2018-02-26    14\n2018-02-23    14\n2018-02-22    14\n2018-02-14    14\n              ..\n2015-03-06    14\n2015-03-05    14\n2015-03-04    14\n2015-03-03    14\n2015-03-02    14\nLength: 643, dtype: int64"
     },
     "execution_count": 9,
     "metadata": {},
     "output_type": "execute_result"
    }
   ],
   "source": [
    "df.count(axis=\"columns\")\n",
    "# df.count(axis=\"rows\")"
   ],
   "metadata": {
    "collapsed": false,
    "ExecuteTime": {
     "end_time": "2025-06-05T06:10:20.704906400Z",
     "start_time": "2025-06-05T06:10:20.680602500Z"
    }
   },
   "id": "d22468ce1bdd4116"
  },
  {
   "cell_type": "code",
   "execution_count": 10,
   "outputs": [
    {
     "data": {
      "text/plain": "2018-02-27    volume\n2018-02-26    volume\n2018-02-23    v_ma20\n2018-02-22    v_ma20\n2018-02-14    v_ma20\n               ...  \n2015-03-06    volume\n2015-03-05     v_ma5\n2015-03-04     v_ma5\n2015-03-03    volume\n2015-03-02    volume\nLength: 643, dtype: object"
     },
     "execution_count": 10,
     "metadata": {},
     "output_type": "execute_result"
    }
   ],
   "source": [
    "df.idxmax(axis=\"columns\")"
   ],
   "metadata": {
    "collapsed": false,
    "ExecuteTime": {
     "end_time": "2025-06-05T06:16:14.471229700Z",
     "start_time": "2025-06-05T06:16:14.435517900Z"
    }
   },
   "id": "1ef827242a5fdbbd"
  },
  {
   "cell_type": "code",
   "execution_count": 12,
   "outputs": [
    {
     "data": {
      "text/plain": "0    20.85\n1    21.30\n2    24.10\ndtype: float64"
     },
     "execution_count": 12,
     "metadata": {},
     "output_type": "execute_result"
    }
   ],
   "source": [
    "df.open.mode()"
   ],
   "metadata": {
    "collapsed": false,
    "ExecuteTime": {
     "end_time": "2025-06-05T06:24:10.276017Z",
     "start_time": "2025-06-05T06:24:10.267583400Z"
    }
   },
   "id": "c28a4f9e5784b840"
  },
  {
   "cell_type": "markdown",
   "source": [
    "# 累计统计"
   ],
   "metadata": {
    "collapsed": false
   },
   "id": "e949948d2848921a"
  },
  {
   "cell_type": "code",
   "execution_count": 17,
   "outputs": [
    {
     "data": {
      "text/plain": "             open   high  close    low     volume  price_change  p_change  \\\n2015-03-02  12.25  12.67  12.52  12.20   96291.73          0.32      2.62   \n2015-03-03  12.52  13.06  12.70  12.52  139071.61          0.18      1.44   \n2015-03-04  12.80  12.92  12.90  12.61   67075.44          0.20      1.57   \n2015-03-05  12.88  13.45  13.16  12.87   93180.39          0.26      2.02   \n2015-03-06  13.17  14.48  14.28  13.13  179831.72          1.12      8.51   \n...           ...    ...    ...    ...        ...           ...       ...   \n2018-02-14  21.49  21.99  21.92  21.48   23331.04          0.44      2.05   \n2018-02-22  22.25  22.76  22.28  22.02   36105.01          0.36      1.64   \n2018-02-23  22.88  23.37  22.82  22.71   52914.01          0.54      2.42   \n2018-02-26  22.80  23.78  23.53  22.80   60985.11          0.69      3.02   \n2018-02-27  23.53  25.88  24.16  23.53   95578.03          0.63      2.68   \n\n               ma5    ma10    ma20      v_ma5     v_ma10     v_ma20  turnover  \n2015-03-02  12.520  12.520  12.520   96291.73   96291.73   96291.73      3.30  \n2015-03-03  12.610  12.610  12.610  117681.67  117681.67  117681.67      4.76  \n2015-03-04  12.707  12.707  12.707  100812.93  100812.93  100812.93      2.30  \n2015-03-05  12.820  12.820  12.820   98904.79   98904.79   98904.79      3.19  \n2015-03-06  13.112  13.112  13.112  115090.18  115090.18  115090.18      6.16  \n...            ...     ...     ...        ...        ...        ...       ...  \n2018-02-14  21.366  21.923  23.253   33590.21   42935.74   61716.11      0.58  \n2018-02-22  21.446  21.909  23.137   35397.58   39904.78   60149.60      0.90  \n2018-02-23  21.938  21.929  23.022   35119.58   41871.97   56372.85      1.32  \n2018-02-26  22.406  21.955  22.942   40827.52   42736.34   56007.50      1.53  \n2018-02-27  22.942  22.142  22.875   53782.64   46738.65   55576.11      2.39  \n\n[643 rows x 14 columns]",
      "text/html": "<div>\n<style scoped>\n    .dataframe tbody tr th:only-of-type {\n        vertical-align: middle;\n    }\n\n    .dataframe tbody tr th {\n        vertical-align: top;\n    }\n\n    .dataframe thead th {\n        text-align: right;\n    }\n</style>\n<table border=\"1\" class=\"dataframe\">\n  <thead>\n    <tr style=\"text-align: right;\">\n      <th></th>\n      <th>open</th>\n      <th>high</th>\n      <th>close</th>\n      <th>low</th>\n      <th>volume</th>\n      <th>price_change</th>\n      <th>p_change</th>\n      <th>ma5</th>\n      <th>ma10</th>\n      <th>ma20</th>\n      <th>v_ma5</th>\n      <th>v_ma10</th>\n      <th>v_ma20</th>\n      <th>turnover</th>\n    </tr>\n  </thead>\n  <tbody>\n    <tr>\n      <th>2015-03-02</th>\n      <td>12.25</td>\n      <td>12.67</td>\n      <td>12.52</td>\n      <td>12.20</td>\n      <td>96291.73</td>\n      <td>0.32</td>\n      <td>2.62</td>\n      <td>12.520</td>\n      <td>12.520</td>\n      <td>12.520</td>\n      <td>96291.73</td>\n      <td>96291.73</td>\n      <td>96291.73</td>\n      <td>3.30</td>\n    </tr>\n    <tr>\n      <th>2015-03-03</th>\n      <td>12.52</td>\n      <td>13.06</td>\n      <td>12.70</td>\n      <td>12.52</td>\n      <td>139071.61</td>\n      <td>0.18</td>\n      <td>1.44</td>\n      <td>12.610</td>\n      <td>12.610</td>\n      <td>12.610</td>\n      <td>117681.67</td>\n      <td>117681.67</td>\n      <td>117681.67</td>\n      <td>4.76</td>\n    </tr>\n    <tr>\n      <th>2015-03-04</th>\n      <td>12.80</td>\n      <td>12.92</td>\n      <td>12.90</td>\n      <td>12.61</td>\n      <td>67075.44</td>\n      <td>0.20</td>\n      <td>1.57</td>\n      <td>12.707</td>\n      <td>12.707</td>\n      <td>12.707</td>\n      <td>100812.93</td>\n      <td>100812.93</td>\n      <td>100812.93</td>\n      <td>2.30</td>\n    </tr>\n    <tr>\n      <th>2015-03-05</th>\n      <td>12.88</td>\n      <td>13.45</td>\n      <td>13.16</td>\n      <td>12.87</td>\n      <td>93180.39</td>\n      <td>0.26</td>\n      <td>2.02</td>\n      <td>12.820</td>\n      <td>12.820</td>\n      <td>12.820</td>\n      <td>98904.79</td>\n      <td>98904.79</td>\n      <td>98904.79</td>\n      <td>3.19</td>\n    </tr>\n    <tr>\n      <th>2015-03-06</th>\n      <td>13.17</td>\n      <td>14.48</td>\n      <td>14.28</td>\n      <td>13.13</td>\n      <td>179831.72</td>\n      <td>1.12</td>\n      <td>8.51</td>\n      <td>13.112</td>\n      <td>13.112</td>\n      <td>13.112</td>\n      <td>115090.18</td>\n      <td>115090.18</td>\n      <td>115090.18</td>\n      <td>6.16</td>\n    </tr>\n    <tr>\n      <th>...</th>\n      <td>...</td>\n      <td>...</td>\n      <td>...</td>\n      <td>...</td>\n      <td>...</td>\n      <td>...</td>\n      <td>...</td>\n      <td>...</td>\n      <td>...</td>\n      <td>...</td>\n      <td>...</td>\n      <td>...</td>\n      <td>...</td>\n      <td>...</td>\n    </tr>\n    <tr>\n      <th>2018-02-14</th>\n      <td>21.49</td>\n      <td>21.99</td>\n      <td>21.92</td>\n      <td>21.48</td>\n      <td>23331.04</td>\n      <td>0.44</td>\n      <td>2.05</td>\n      <td>21.366</td>\n      <td>21.923</td>\n      <td>23.253</td>\n      <td>33590.21</td>\n      <td>42935.74</td>\n      <td>61716.11</td>\n      <td>0.58</td>\n    </tr>\n    <tr>\n      <th>2018-02-22</th>\n      <td>22.25</td>\n      <td>22.76</td>\n      <td>22.28</td>\n      <td>22.02</td>\n      <td>36105.01</td>\n      <td>0.36</td>\n      <td>1.64</td>\n      <td>21.446</td>\n      <td>21.909</td>\n      <td>23.137</td>\n      <td>35397.58</td>\n      <td>39904.78</td>\n      <td>60149.60</td>\n      <td>0.90</td>\n    </tr>\n    <tr>\n      <th>2018-02-23</th>\n      <td>22.88</td>\n      <td>23.37</td>\n      <td>22.82</td>\n      <td>22.71</td>\n      <td>52914.01</td>\n      <td>0.54</td>\n      <td>2.42</td>\n      <td>21.938</td>\n      <td>21.929</td>\n      <td>23.022</td>\n      <td>35119.58</td>\n      <td>41871.97</td>\n      <td>56372.85</td>\n      <td>1.32</td>\n    </tr>\n    <tr>\n      <th>2018-02-26</th>\n      <td>22.80</td>\n      <td>23.78</td>\n      <td>23.53</td>\n      <td>22.80</td>\n      <td>60985.11</td>\n      <td>0.69</td>\n      <td>3.02</td>\n      <td>22.406</td>\n      <td>21.955</td>\n      <td>22.942</td>\n      <td>40827.52</td>\n      <td>42736.34</td>\n      <td>56007.50</td>\n      <td>1.53</td>\n    </tr>\n    <tr>\n      <th>2018-02-27</th>\n      <td>23.53</td>\n      <td>25.88</td>\n      <td>24.16</td>\n      <td>23.53</td>\n      <td>95578.03</td>\n      <td>0.63</td>\n      <td>2.68</td>\n      <td>22.942</td>\n      <td>22.142</td>\n      <td>22.875</td>\n      <td>53782.64</td>\n      <td>46738.65</td>\n      <td>55576.11</td>\n      <td>2.39</td>\n    </tr>\n  </tbody>\n</table>\n<p>643 rows × 14 columns</p>\n</div>"
     },
     "execution_count": 17,
     "metadata": {},
     "output_type": "execute_result"
    }
   ],
   "source": [
    "df.sort_index()"
   ],
   "metadata": {
    "collapsed": false,
    "ExecuteTime": {
     "end_time": "2025-06-05T06:28:54.684481600Z",
     "start_time": "2025-06-05T06:28:54.655217900Z"
    }
   },
   "id": "68d0cad547119abd"
  },
  {
   "cell_type": "code",
   "execution_count": 20,
   "outputs": [
    {
     "data": {
      "text/plain": "                open      high     close       low       volume  price_change  \\\n2018-02-27     23.53     25.88     24.16     23.53     95578.03          0.63   \n2018-02-26     46.33     49.66     47.69     46.33    156563.14          1.32   \n2018-02-23     69.21     73.03     70.51     69.04    209477.15          1.86   \n2018-02-22     91.46     95.79     92.79     91.06    245582.16          2.22   \n2018-02-14    112.95    117.78    114.71    112.54    268913.20          2.66   \n...              ...       ...       ...       ...          ...           ...   \n2015-03-06  13627.90  14029.93  13667.94  13306.09  63843629.62         11.13   \n2015-03-05  13640.78  14043.38  13681.10  13318.96  63936810.01         11.39   \n2015-03-04  13653.58  14056.30  13694.00  13331.57  64003885.45         11.59   \n2015-03-03  13666.10  14069.36  13706.70  13344.09  64142957.06         11.77   \n2015-03-02  13678.35  14082.03  13719.22  13356.29  64239248.79         12.09   \n\n            p_change        ma5       ma10       ma20        v_ma5  \\\n2018-02-27      2.68     22.942     22.142     22.875     53782.64   \n2018-02-26      5.70     45.348     44.097     45.817     94610.16   \n2018-02-23      8.12     67.286     66.026     68.839    129729.74   \n2018-02-22      9.76     88.732     87.935     91.976    165127.32   \n2018-02-14     11.81    110.098    109.858    115.229    198717.53   \n...              ...        ...        ...        ...          ...   \n2015-03-06    114.70  13646.762  13624.446  13581.551  63891866.13   \n2015-03-05    116.72  13659.582  13637.266  13594.371  63990770.92   \n2015-03-04    118.29  13672.289  13649.973  13607.078  64091583.85   \n2015-03-03    119.73  13684.899  13662.583  13619.688  64209265.52   \n2015-03-02    122.35  13697.419  13675.103  13632.208  64305557.25   \n\n                 v_ma10       v_ma20  turnover  \n2018-02-27     46738.65     55576.11      2.39  \n2018-02-26     89474.99    111583.61      3.92  \n2018-02-23    131346.96    167956.46      5.24  \n2018-02-22    171251.74    228106.06      6.14  \n2018-02-14    214187.48    289822.17      6.72  \n...                 ...          ...       ...  \n2015-03-06  64071198.50  64399113.21   1874.42  \n2015-03-05  64170103.29  64498018.00   1877.61  \n2015-03-04  64270916.22  64598830.93   1879.91  \n2015-03-03  64388597.89  64716512.60   1884.67  \n2015-03-02  64484889.62  64812804.33   1887.97  \n\n[643 rows x 14 columns]",
      "text/html": "<div>\n<style scoped>\n    .dataframe tbody tr th:only-of-type {\n        vertical-align: middle;\n    }\n\n    .dataframe tbody tr th {\n        vertical-align: top;\n    }\n\n    .dataframe thead th {\n        text-align: right;\n    }\n</style>\n<table border=\"1\" class=\"dataframe\">\n  <thead>\n    <tr style=\"text-align: right;\">\n      <th></th>\n      <th>open</th>\n      <th>high</th>\n      <th>close</th>\n      <th>low</th>\n      <th>volume</th>\n      <th>price_change</th>\n      <th>p_change</th>\n      <th>ma5</th>\n      <th>ma10</th>\n      <th>ma20</th>\n      <th>v_ma5</th>\n      <th>v_ma10</th>\n      <th>v_ma20</th>\n      <th>turnover</th>\n    </tr>\n  </thead>\n  <tbody>\n    <tr>\n      <th>2018-02-27</th>\n      <td>23.53</td>\n      <td>25.88</td>\n      <td>24.16</td>\n      <td>23.53</td>\n      <td>95578.03</td>\n      <td>0.63</td>\n      <td>2.68</td>\n      <td>22.942</td>\n      <td>22.142</td>\n      <td>22.875</td>\n      <td>53782.64</td>\n      <td>46738.65</td>\n      <td>55576.11</td>\n      <td>2.39</td>\n    </tr>\n    <tr>\n      <th>2018-02-26</th>\n      <td>46.33</td>\n      <td>49.66</td>\n      <td>47.69</td>\n      <td>46.33</td>\n      <td>156563.14</td>\n      <td>1.32</td>\n      <td>5.70</td>\n      <td>45.348</td>\n      <td>44.097</td>\n      <td>45.817</td>\n      <td>94610.16</td>\n      <td>89474.99</td>\n      <td>111583.61</td>\n      <td>3.92</td>\n    </tr>\n    <tr>\n      <th>2018-02-23</th>\n      <td>69.21</td>\n      <td>73.03</td>\n      <td>70.51</td>\n      <td>69.04</td>\n      <td>209477.15</td>\n      <td>1.86</td>\n      <td>8.12</td>\n      <td>67.286</td>\n      <td>66.026</td>\n      <td>68.839</td>\n      <td>129729.74</td>\n      <td>131346.96</td>\n      <td>167956.46</td>\n      <td>5.24</td>\n    </tr>\n    <tr>\n      <th>2018-02-22</th>\n      <td>91.46</td>\n      <td>95.79</td>\n      <td>92.79</td>\n      <td>91.06</td>\n      <td>245582.16</td>\n      <td>2.22</td>\n      <td>9.76</td>\n      <td>88.732</td>\n      <td>87.935</td>\n      <td>91.976</td>\n      <td>165127.32</td>\n      <td>171251.74</td>\n      <td>228106.06</td>\n      <td>6.14</td>\n    </tr>\n    <tr>\n      <th>2018-02-14</th>\n      <td>112.95</td>\n      <td>117.78</td>\n      <td>114.71</td>\n      <td>112.54</td>\n      <td>268913.20</td>\n      <td>2.66</td>\n      <td>11.81</td>\n      <td>110.098</td>\n      <td>109.858</td>\n      <td>115.229</td>\n      <td>198717.53</td>\n      <td>214187.48</td>\n      <td>289822.17</td>\n      <td>6.72</td>\n    </tr>\n    <tr>\n      <th>...</th>\n      <td>...</td>\n      <td>...</td>\n      <td>...</td>\n      <td>...</td>\n      <td>...</td>\n      <td>...</td>\n      <td>...</td>\n      <td>...</td>\n      <td>...</td>\n      <td>...</td>\n      <td>...</td>\n      <td>...</td>\n      <td>...</td>\n      <td>...</td>\n    </tr>\n    <tr>\n      <th>2015-03-06</th>\n      <td>13627.90</td>\n      <td>14029.93</td>\n      <td>13667.94</td>\n      <td>13306.09</td>\n      <td>63843629.62</td>\n      <td>11.13</td>\n      <td>114.70</td>\n      <td>13646.762</td>\n      <td>13624.446</td>\n      <td>13581.551</td>\n      <td>63891866.13</td>\n      <td>64071198.50</td>\n      <td>64399113.21</td>\n      <td>1874.42</td>\n    </tr>\n    <tr>\n      <th>2015-03-05</th>\n      <td>13640.78</td>\n      <td>14043.38</td>\n      <td>13681.10</td>\n      <td>13318.96</td>\n      <td>63936810.01</td>\n      <td>11.39</td>\n      <td>116.72</td>\n      <td>13659.582</td>\n      <td>13637.266</td>\n      <td>13594.371</td>\n      <td>63990770.92</td>\n      <td>64170103.29</td>\n      <td>64498018.00</td>\n      <td>1877.61</td>\n    </tr>\n    <tr>\n      <th>2015-03-04</th>\n      <td>13653.58</td>\n      <td>14056.30</td>\n      <td>13694.00</td>\n      <td>13331.57</td>\n      <td>64003885.45</td>\n      <td>11.59</td>\n      <td>118.29</td>\n      <td>13672.289</td>\n      <td>13649.973</td>\n      <td>13607.078</td>\n      <td>64091583.85</td>\n      <td>64270916.22</td>\n      <td>64598830.93</td>\n      <td>1879.91</td>\n    </tr>\n    <tr>\n      <th>2015-03-03</th>\n      <td>13666.10</td>\n      <td>14069.36</td>\n      <td>13706.70</td>\n      <td>13344.09</td>\n      <td>64142957.06</td>\n      <td>11.77</td>\n      <td>119.73</td>\n      <td>13684.899</td>\n      <td>13662.583</td>\n      <td>13619.688</td>\n      <td>64209265.52</td>\n      <td>64388597.89</td>\n      <td>64716512.60</td>\n      <td>1884.67</td>\n    </tr>\n    <tr>\n      <th>2015-03-02</th>\n      <td>13678.35</td>\n      <td>14082.03</td>\n      <td>13719.22</td>\n      <td>13356.29</td>\n      <td>64239248.79</td>\n      <td>12.09</td>\n      <td>122.35</td>\n      <td>13697.419</td>\n      <td>13675.103</td>\n      <td>13632.208</td>\n      <td>64305557.25</td>\n      <td>64484889.62</td>\n      <td>64812804.33</td>\n      <td>1887.97</td>\n    </tr>\n  </tbody>\n</table>\n<p>643 rows × 14 columns</p>\n</div>"
     },
     "execution_count": 20,
     "metadata": {},
     "output_type": "execute_result"
    }
   ],
   "source": [
    "df.cumsum()"
   ],
   "metadata": {
    "collapsed": false,
    "ExecuteTime": {
     "end_time": "2025-06-05T06:29:13.626662600Z",
     "start_time": "2025-06-05T06:29:13.599384800Z"
    }
   },
   "id": "80e51a57ed4de273"
  },
  {
   "cell_type": "code",
   "execution_count": 21,
   "outputs": [
    {
     "data": {
      "text/plain": "<AxesSubplot:>"
     },
     "execution_count": 21,
     "metadata": {},
     "output_type": "execute_result"
    },
    {
     "data": {
      "text/plain": "<Figure size 432x288 with 1 Axes>",
      "image/png": "[encoded data removed]"
     },
     "metadata": {
      "needs_background": "light"
     },
     "output_type": "display_data"
    }
   ],
   "source": [
    "df.open.cumsum().plot()"
   ],
   "metadata": {
    "collapsed": false,
    "ExecuteTime": {
     "end_time": "2025-06-05T06:30:09.414082300Z",
     "start_time": "2025-06-05T06:30:08.019994900Z"
    }
   },
   "id": "ac28e891e247aced"
  },
  {
   "cell_type": "code",
   "execution_count": 33,
   "outputs": [
    {
     "data": {
      "text/plain": "            open+high  open-high\n2018-02-27      49.41      49.41\n2018-02-26      46.58      46.58\n2018-02-23      46.25      46.25\n2018-02-22      45.01      45.01\n2018-02-14      43.48      43.48\n...               ...        ...\n2015-03-06      27.65      27.65\n2015-03-05      26.33      26.33\n2015-03-04      25.72      25.72\n2015-03-03      25.58      25.58\n2015-03-02      24.92      24.92\n\n[643 rows x 2 columns]",
      "text/html": "<div>\n<style scoped>\n    .dataframe tbody tr th:only-of-type {\n        vertical-align: middle;\n    }\n\n    .dataframe tbody tr th {\n        vertical-align: top;\n    }\n\n    .dataframe thead th {\n        text-align: right;\n    }\n</style>\n<table border=\"1\" class=\"dataframe\">\n  <thead>\n    <tr style=\"text-align: right;\">\n      <th></th>\n      <th>open+high</th>\n      <th>open-high</th>\n    </tr>\n  </thead>\n  <tbody>\n    <tr>\n      <th>2018-02-27</th>\n      <td>49.41</td>\n      <td>49.41</td>\n    </tr>\n    <tr>\n      <th>2018-02-26</th>\n      <td>46.58</td>\n      <td>46.58</td>\n    </tr>\n    <tr>\n      <th>2018-02-23</th>\n      <td>46.25</td>\n      <td>46.25</td>\n    </tr>\n    <tr>\n      <th>2018-02-22</th>\n      <td>45.01</td>\n      <td>45.01</td>\n    </tr>\n    <tr>\n      <th>2018-02-14</th>\n      <td>43.48</td>\n      <td>43.48</td>\n    </tr>\n    <tr>\n      <th>...</th>\n      <td>...</td>\n      <td>...</td>\n    </tr>\n    <tr>\n      <th>2015-03-06</th>\n      <td>27.65</td>\n      <td>27.65</td>\n    </tr>\n    <tr>\n      <th>2015-03-05</th>\n      <td>26.33</td>\n      <td>26.33</td>\n    </tr>\n    <tr>\n      <th>2015-03-04</th>\n      <td>25.72</td>\n      <td>25.72</td>\n    </tr>\n    <tr>\n      <th>2015-03-03</th>\n      <td>25.58</td>\n      <td>25.58</td>\n    </tr>\n    <tr>\n      <th>2015-03-02</th>\n      <td>24.92</td>\n      <td>24.92</td>\n    </tr>\n  </tbody>\n</table>\n<p>643 rows × 2 columns</p>\n</div>"
     },
     "execution_count": 33,
     "metadata": {},
     "output_type": "execute_result"
    }
   ],
   "source": [
    "# 按照列自定义计算\n",
    "df.apply(lambda col: col.max(), axis = 0)\n",
    "df.apply(lambda col: col.min(), axis = 0)\n",
    "\n",
    "#按照行自定义计算\n",
    "df.apply(lambda row: row.max(), axis=1)\n",
    "df.apply(lambda row: row.min(), axis=1)\n",
    "\n",
    "#操作单个元素\n",
    "df.apply(lambda x: x * 2)\n",
    "df.apply(lambda row: row[\"open\"] + row[\"high\"], axis = 1)\n",
    "\n",
    "df[['open', 'high']].apply(lambda x : x + 100)\n",
    "\n",
    "#返回多列结果\n",
    "def complex_return(row):\n",
    "    return pd.Series({\n",
    "        \"open+high\" : row[\"open\"] + row[\"high\"],\n",
    "        \"open-high\" : row[\"open\"] + row[\"high\"]\n",
    "    })\n",
    "\n",
    "df.apply(complex_return, axis = 1)\n",
    "\n",
    "#计算指定列的极值\n",
    "# df[['open', 'high', 'low']].apply(lambda col: col.max() - col.min(), axis = 0)"
   ],
   "metadata": {
    "collapsed": false,
    "ExecuteTime": {
     "end_time": "2025-06-05T06:44:19.083161900Z",
     "start_time": "2025-06-05T06:44:18.921173400Z"
    }
   },
   "id": "55aa60b4dce879c8"
  }
 ],
 "metadata": {
  "kernelspec": {
   "display_name": "Python 3",
   "language": "python",
   "name": "python3"
  },
  "language_info": {
   "codemirror_mode": {
    "name": "ipython",
    "version": 2
   },
   "file_extension": ".py",
   "mimetype": "text/x-python",
   "name": "python",
   "nbconvert_exporter": "python",
   "pygments_lexer": "ipython2",
   "version": "2.7.6"
  }
 },
 "nbformat": 4,
 "nbformat_minor": 5
}
