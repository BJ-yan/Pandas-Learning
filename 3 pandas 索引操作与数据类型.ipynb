{
 "cells": [
  {
   "cell_type": "markdown",
   "source": [
    "# 索引操作"
   ],
   "metadata": {
    "collapsed": false
   },
   "id": "adaada5fd832b46b"
  },
  {
   "cell_type": "code",
   "execution_count": 1,
   "outputs": [],
   "source": [
    "import numpy as np\n",
    "import pandas as pd"
   ],
   "metadata": {
    "collapsed": false,
    "ExecuteTime": {
     "end_time": "2025-05-30T08:06:12.256265800Z",
     "start_time": "2025-05-30T08:06:11.786868Z"
    }
   },
   "id": "2534d0d4c34b22a5"
  },
  {
   "cell_type": "code",
   "execution_count": 3,
   "outputs": [
    {
     "data": {
      "text/plain": "array([[68, 97, 83, 60, 60],\n       [65, 85, 99, 92, 66],\n       [97, 76, 84, 97, 70],\n       [70, 66, 62, 73, 65],\n       [84, 70, 69, 85, 79],\n       [86, 76, 72, 69, 66],\n       [83, 68, 77, 85, 74],\n       [64, 64, 81, 98, 74],\n       [74, 96, 94, 64, 77],\n       [73, 83, 80, 65, 75]])"
     },
     "execution_count": 3,
     "metadata": {},
     "output_type": "execute_result"
    }
   ],
   "source": [
    "score_data = np.random.randint(60, 100, size = (10, 5))\n",
    "score_data"
   ],
   "metadata": {
    "collapsed": false,
    "ExecuteTime": {
     "end_time": "2025-05-30T08:06:41.394636200Z",
     "start_time": "2025-05-30T08:06:41.369836800Z"
    }
   },
   "id": "78037b7c924275f1"
  },
  {
   "cell_type": "code",
   "execution_count": 5,
   "outputs": [
    {
     "name": "stdout",
     "output_type": "stream",
     "text": [
      "      语   外   物   化   生\n",
      "同学0  68  97  83  60  60\n",
      "同学1  65  85  99  92  66\n",
      "同学2  97  76  84  97  70\n",
      "同学3  70  66  62  73  65\n",
      "同学4  84  70  69  85  79\n",
      "同学5  86  76  72  69  66\n",
      "同学6  83  68  77  85  74\n",
      "同学7  64  64  81  98  74\n",
      "同学8  74  96  94  64  77\n",
      "同学9  73  83  80  65  75\n"
     ]
    }
   ],
   "source": [
    "score_df = pd.DataFrame(score_data)\n",
    "\n",
    "col_name = [\"语\", \"外\", \"物\", \"化\", \"生\"]\n",
    "idx_names = ['同学' + str(i) for i in range(score_df.shape[0])]\n",
    "\n",
    "score_df.columns = col_name\n",
    "score_df.index = idx_names\n",
    "print(score_df)"
   ],
   "metadata": {
    "collapsed": false,
    "ExecuteTime": {
     "end_time": "2025-05-30T08:08:50.145859300Z",
     "start_time": "2025-05-30T08:08:50.097620700Z"
    }
   },
   "id": "74d324729bcda106"
  }
 ],
 "metadata": {
  "kernelspec": {
   "display_name": "Python 3",
   "language": "python",
   "name": "python3"
  },
  "language_info": {
   "codemirror_mode": {
    "name": "ipython",
    "version": 2
   },
   "file_extension": ".py",
   "mimetype": "text/x-python",
   "name": "python",
   "nbconvert_exporter": "python",
   "pygments_lexer": "ipython2",
   "version": "2.7.6"
  }
 },
 "nbformat": 4,
 "nbformat_minor": 5
}
