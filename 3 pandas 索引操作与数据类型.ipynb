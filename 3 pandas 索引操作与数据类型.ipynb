{
 "cells": [
  {
   "cell_type": "markdown",
   "source": [
    "# 索引操作"
   ],
   "metadata": {
    "collapsed": false
   },
   "id": "adaada5fd832b46b"
  },
  {
   "cell_type": "code",
   "execution_count": 1,
   "outputs": [],
   "source": [
    "import numpy as np\n",
    "import pandas as pd"
   ],
   "metadata": {
    "collapsed": false,
    "ExecuteTime": {
     "end_time": "2025-06-04T09:52:11.208440Z",
     "start_time": "2025-06-04T09:52:10.770759500Z"
    }
   },
   "id": "2534d0d4c34b22a5"
  },
  {
   "cell_type": "code",
   "execution_count": 2,
   "outputs": [
    {
     "data": {
      "text/plain": "array([[84, 71, 91, 72, 95],\n       [85, 84, 89, 85, 65],\n       [98, 98, 67, 98, 83],\n       [87, 80, 94, 65, 93],\n       [67, 80, 71, 81, 72],\n       [85, 96, 65, 86, 89],\n       [61, 82, 86, 63, 72],\n       [74, 82, 65, 82, 72],\n       [68, 82, 83, 96, 89],\n       [77, 81, 91, 89, 66]])"
     },
     "execution_count": 2,
     "metadata": {},
     "output_type": "execute_result"
    }
   ],
   "source": [
    "score_data = np.random.randint(60, 100, size = (10, 5))\n",
    "score_data"
   ],
   "metadata": {
    "collapsed": false,
    "ExecuteTime": {
     "end_time": "2025-06-04T09:52:13.352491500Z",
     "start_time": "2025-06-04T09:52:13.329179100Z"
    }
   },
   "id": "78037b7c924275f1"
  },
  {
   "cell_type": "code",
   "execution_count": 20,
   "outputs": [
    {
     "name": "stdout",
     "output_type": "stream",
     "text": [
      "      语   外   物   化   生\n",
      "同学0  84  71  91  72  95\n",
      "同学1  85  84  89  85  65\n",
      "同学2  98  98  67  98  83\n",
      "同学3  87  80  94  65  93\n",
      "同学4  67  80  71  81  72\n",
      "同学5  85  96  65  86  89\n",
      "同学6  61  82  86  63  72\n",
      "同学7  74  82  65  82  72\n",
      "同学8  68  82  83  96  89\n",
      "同学9  77  81  91  89  66\n"
     ]
    }
   ],
   "source": [
    "score_df = pd.DataFrame(score_data)\n",
    "\n",
    "col_name = [\"语\", \"外\", \"物\", \"化\", \"生\"]\n",
    "idx_names = ['同学' + str(i) for i in range(score_df.shape[0])]\n",
    "\n",
    "score_df.columns = col_name\n",
    "score_df.index = idx_names\n",
    "print(score_df)"
   ],
   "metadata": {
    "collapsed": false,
    "ExecuteTime": {
     "end_time": "2025-06-04T10:05:56.621004Z",
     "start_time": "2025-06-04T10:05:56.578845300Z"
    }
   },
   "id": "74d324729bcda106"
  },
  {
   "cell_type": "markdown",
   "source": [
    "# 索引还原"
   ],
   "metadata": {
    "collapsed": false
   },
   "id": "2314d742b4851b2b"
  },
  {
   "cell_type": "code",
   "execution_count": 21,
   "outputs": [
    {
     "data": {
      "text/plain": "  index   语   外   物   化   生\n0   同学0  84  71  91  72  95\n1   同学1  85  84  89  85  65\n2   同学2  98  98  67  98  83\n3   同学3  87  80  94  65  93\n4   同学4  67  80  71  81  72\n5   同学5  85  96  65  86  89\n6   同学6  61  82  86  63  72\n7   同学7  74  82  65  82  72\n8   同学8  68  82  83  96  89\n9   同学9  77  81  91  89  66",
      "text/html": "<div>\n<style scoped>\n    .dataframe tbody tr th:only-of-type {\n        vertical-align: middle;\n    }\n\n    .dataframe tbody tr th {\n        vertical-align: top;\n    }\n\n    .dataframe thead th {\n        text-align: right;\n    }\n</style>\n<table border=\"1\" class=\"dataframe\">\n  <thead>\n    <tr style=\"text-align: right;\">\n      <th></th>\n      <th>index</th>\n      <th>语</th>\n      <th>外</th>\n      <th>物</th>\n      <th>化</th>\n      <th>生</th>\n    </tr>\n  </thead>\n  <tbody>\n    <tr>\n      <th>0</th>\n      <td>同学0</td>\n      <td>84</td>\n      <td>71</td>\n      <td>91</td>\n      <td>72</td>\n      <td>95</td>\n    </tr>\n    <tr>\n      <th>1</th>\n      <td>同学1</td>\n      <td>85</td>\n      <td>84</td>\n      <td>89</td>\n      <td>85</td>\n      <td>65</td>\n    </tr>\n    <tr>\n      <th>2</th>\n      <td>同学2</td>\n      <td>98</td>\n      <td>98</td>\n      <td>67</td>\n      <td>98</td>\n      <td>83</td>\n    </tr>\n    <tr>\n      <th>3</th>\n      <td>同学3</td>\n      <td>87</td>\n      <td>80</td>\n      <td>94</td>\n      <td>65</td>\n      <td>93</td>\n    </tr>\n    <tr>\n      <th>4</th>\n      <td>同学4</td>\n      <td>67</td>\n      <td>80</td>\n      <td>71</td>\n      <td>81</td>\n      <td>72</td>\n    </tr>\n    <tr>\n      <th>5</th>\n      <td>同学5</td>\n      <td>85</td>\n      <td>96</td>\n      <td>65</td>\n      <td>86</td>\n      <td>89</td>\n    </tr>\n    <tr>\n      <th>6</th>\n      <td>同学6</td>\n      <td>61</td>\n      <td>82</td>\n      <td>86</td>\n      <td>63</td>\n      <td>72</td>\n    </tr>\n    <tr>\n      <th>7</th>\n      <td>同学7</td>\n      <td>74</td>\n      <td>82</td>\n      <td>65</td>\n      <td>82</td>\n      <td>72</td>\n    </tr>\n    <tr>\n      <th>8</th>\n      <td>同学8</td>\n      <td>68</td>\n      <td>82</td>\n      <td>83</td>\n      <td>96</td>\n      <td>89</td>\n    </tr>\n    <tr>\n      <th>9</th>\n      <td>同学9</td>\n      <td>77</td>\n      <td>81</td>\n      <td>91</td>\n      <td>89</td>\n      <td>66</td>\n    </tr>\n  </tbody>\n</table>\n</div>"
     },
     "execution_count": 21,
     "metadata": {},
     "output_type": "execute_result"
    }
   ],
   "source": [
    "aa = score_df.reset_index(drop = False, inplace= True)\n",
    "score_df"
   ],
   "metadata": {
    "collapsed": false,
    "ExecuteTime": {
     "end_time": "2025-06-04T10:05:59.834197100Z",
     "start_time": "2025-06-04T10:05:59.829237500Z"
    }
   },
   "id": "a8bc00cfd20f23b3"
  },
  {
   "cell_type": "markdown",
   "source": [
    "# 索引设置"
   ],
   "metadata": {
    "collapsed": false
   },
   "id": "910adf8ca9681374"
  },
  {
   "cell_type": "code",
   "execution_count": 26,
   "outputs": [
    {
     "data": {
      "text/plain": "  index   语   外   物   化   生\n0   同学0  84  71  91  72  95\n1   同学1  85  84  89  85  65\n2   同学2  98  98  67  98  83\n3   同学3  87  80  94  65  93\n4   同学4  67  80  71  81  72\n5   同学5  85  96  65  86  89\n6   同学6  61  82  86  63  72\n7   同学7  74  82  65  82  72\n8   同学8  68  82  83  96  89\n9   同学9  77  81  91  89  66",
      "text/html": "<div>\n<style scoped>\n    .dataframe tbody tr th:only-of-type {\n        vertical-align: middle;\n    }\n\n    .dataframe tbody tr th {\n        vertical-align: top;\n    }\n\n    .dataframe thead th {\n        text-align: right;\n    }\n</style>\n<table border=\"1\" class=\"dataframe\">\n  <thead>\n    <tr style=\"text-align: right;\">\n      <th></th>\n      <th>index</th>\n      <th>语</th>\n      <th>外</th>\n      <th>物</th>\n      <th>化</th>\n      <th>生</th>\n    </tr>\n  </thead>\n  <tbody>\n    <tr>\n      <th>0</th>\n      <td>同学0</td>\n      <td>84</td>\n      <td>71</td>\n      <td>91</td>\n      <td>72</td>\n      <td>95</td>\n    </tr>\n    <tr>\n      <th>1</th>\n      <td>同学1</td>\n      <td>85</td>\n      <td>84</td>\n      <td>89</td>\n      <td>85</td>\n      <td>65</td>\n    </tr>\n    <tr>\n      <th>2</th>\n      <td>同学2</td>\n      <td>98</td>\n      <td>98</td>\n      <td>67</td>\n      <td>98</td>\n      <td>83</td>\n    </tr>\n    <tr>\n      <th>3</th>\n      <td>同学3</td>\n      <td>87</td>\n      <td>80</td>\n      <td>94</td>\n      <td>65</td>\n      <td>93</td>\n    </tr>\n    <tr>\n      <th>4</th>\n      <td>同学4</td>\n      <td>67</td>\n      <td>80</td>\n      <td>71</td>\n      <td>81</td>\n      <td>72</td>\n    </tr>\n    <tr>\n      <th>5</th>\n      <td>同学5</td>\n      <td>85</td>\n      <td>96</td>\n      <td>65</td>\n      <td>86</td>\n      <td>89</td>\n    </tr>\n    <tr>\n      <th>6</th>\n      <td>同学6</td>\n      <td>61</td>\n      <td>82</td>\n      <td>86</td>\n      <td>63</td>\n      <td>72</td>\n    </tr>\n    <tr>\n      <th>7</th>\n      <td>同学7</td>\n      <td>74</td>\n      <td>82</td>\n      <td>65</td>\n      <td>82</td>\n      <td>72</td>\n    </tr>\n    <tr>\n      <th>8</th>\n      <td>同学8</td>\n      <td>68</td>\n      <td>82</td>\n      <td>83</td>\n      <td>96</td>\n      <td>89</td>\n    </tr>\n    <tr>\n      <th>9</th>\n      <td>同学9</td>\n      <td>77</td>\n      <td>81</td>\n      <td>91</td>\n      <td>89</td>\n      <td>66</td>\n    </tr>\n  </tbody>\n</table>\n</div>"
     },
     "execution_count": 26,
     "metadata": {},
     "output_type": "execute_result"
    }
   ],
   "source": [
    "score_df.set_index(['index'])\n",
    "score_df"
   ],
   "metadata": {
    "collapsed": false,
    "ExecuteTime": {
     "end_time": "2025-06-04T10:06:47.159380800Z",
     "start_time": "2025-06-04T10:06:47.149956900Z"
    }
   },
   "id": "6ba1e9016573b14b"
  },
  {
   "cell_type": "markdown",
   "source": [
    "# category 类型"
   ],
   "metadata": {
    "collapsed": false
   },
   "id": "7c67d11a26ce14c0"
  },
  {
   "cell_type": "code",
   "execution_count": 27,
   "outputs": [
    {
     "name": "stdout",
     "output_type": "stream",
     "text": [
      "0       red\n",
      "1     green\n",
      "2    yellow\n",
      "dtype: category\n",
      "Categories (3, object): ['green', 'red', 'yellow']\n"
     ]
    }
   ],
   "source": [
    "categories = pd.Series(['red', 'green', 'yellow'], dtype = 'category')\n",
    "print(categories.)"
   ],
   "metadata": {
    "collapsed": false,
    "ExecuteTime": {
     "end_time": "2025-06-04T10:12:42.098878300Z",
     "start_time": "2025-06-04T10:12:42.052253600Z"
    }
   },
   "id": "ebf4ff4e76890c8f"
  }
 ],
 "metadata": {
  "kernelspec": {
   "display_name": "Python 3",
   "language": "python",
   "name": "python3"
  },
  "language_info": {
   "codemirror_mode": {
    "name": "ipython",
    "version": 2
   },
   "file_extension": ".py",
   "mimetype": "text/x-python",
   "name": "python",
   "nbconvert_exporter": "python",
   "pygments_lexer": "ipython2",
   "version": "2.7.6"
  }
 },
 "nbformat": 4,
 "nbformat_minor": 5
}
