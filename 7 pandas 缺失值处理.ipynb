{
 "cells": [
  {
   "cell_type": "code",
   "execution_count": 72,
   "id": "initial_id",
   "metadata": {
    "collapsed": true,
    "ExecuteTime": {
     "end_time": "2025-06-05T13:10:28.804220600Z",
     "start_time": "2025-06-05T13:10:28.742913900Z"
    }
   },
   "outputs": [
    {
     "name": "stdout",
     "output_type": "stream",
     "text": [
      "<class 'pandas.core.frame.DataFrame'>\n",
      "RangeIndex: 1000 entries, 0 to 999\n",
      "Data columns (total 12 columns):\n",
      " #   Column              Non-Null Count  Dtype  \n",
      "---  ------              --------------  -----  \n",
      " 0   Rank                1000 non-null   int64  \n",
      " 1   Title               1000 non-null   object \n",
      " 2   Genre               1000 non-null   object \n",
      " 3   Description         1000 non-null   object \n",
      " 4   Director            1000 non-null   object \n",
      " 5   Actors              1000 non-null   object \n",
      " 6   Year                1000 non-null   int64  \n",
      " 7   Runtime (Minutes)   1000 non-null   int64  \n",
      " 8   Rating              1000 non-null   float64\n",
      " 9   Votes               1000 non-null   int64  \n",
      " 10  Revenue (Millions)  872 non-null    float64\n",
      " 11  Metascore           936 non-null    float64\n",
      "dtypes: float64(3), int64(4), object(5)\n",
      "memory usage: 93.9+ KB\n"
     ]
    }
   ],
   "source": [
    "import numpy as np\n",
    "import pandas as pd\n",
    "import os\n",
    "\n",
    "df = pd.read_csv('pandasData/movie.csv')\n",
    "df.info()"
   ]
  },
  {
   "cell_type": "markdown",
   "source": [
    "# 判断缺失值"
   ],
   "metadata": {
    "collapsed": false
   },
   "id": "b5f281945cedfcde"
  },
  {
   "cell_type": "code",
   "execution_count": null,
   "outputs": [],
   "source": [
    "df.info()"
   ],
   "metadata": {
    "collapsed": false
   },
   "id": "fcf9c4b947c26700"
  },
  {
   "cell_type": "code",
   "execution_count": null,
   "outputs": [],
   "source": [
    "#判断每一列缺失的个数\n",
    "df.isnull()\n",
    "df.notnull()\n",
    "\n",
    "# 查看每列的 缺失值的个数.\n",
    "df.isnull().sum()\n",
    "\n",
    "# 查看每列的 非缺失值的个数.\n",
    "df.notnull().sum()\n",
    "\n",
    "# 判断df中 列值是否不为空. True -> 不为空, False -> 为空\n",
    "pd.notnull(df)\n",
    "\n",
    "#判断df对象中所有元素是否为True\n",
    "np.all(pd.notnull(df) == True)"
   ],
   "metadata": {
    "collapsed": false
   },
   "id": "dcd8c8211b78d38a"
  },
  {
   "cell_type": "code",
   "execution_count": null,
   "outputs": [],
   "source": [
    "df.iloc[0,:].isnull()"
   ],
   "metadata": {
    "collapsed": false
   },
   "id": "29b1d72345dc85a1"
  },
  {
   "cell_type": "markdown",
   "source": [
    "# 处理缺失值 - 删除"
   ],
   "metadata": {
    "collapsed": false
   },
   "id": "e0781873a4dd2f3e"
  },
  {
   "cell_type": "code",
   "execution_count": null,
   "outputs": [],
   "source": [
    "df.isnull().sum()\n",
    "# df.info()"
   ],
   "metadata": {
    "collapsed": false
   },
   "id": "f98bff9f83e7f125"
  },
  {
   "cell_type": "code",
   "execution_count": null,
   "outputs": [],
   "source": [
    "df.dropna(axis = 1, inplace = True)\n",
    "df.info()\n",
    "df.isnull().sum()\n",
    "df"
   ],
   "metadata": {
    "collapsed": false
   },
   "id": "9f669f7b04ca675f"
  },
  {
   "cell_type": "code",
   "execution_count": null,
   "outputs": [],
   "source": [
    "#删除有NAN的行，即按行删除\n",
    "df.dropna(axis = 'rows', inplace = True)\n",
    "df.info()\n",
    "df.isnull().sum()\n",
    "df"
   ],
   "metadata": {
    "collapsed": false
   },
   "id": "f4e14abb5e52b51a"
  },
  {
   "cell_type": "markdown",
   "source": [
    "# 处理缺失值 - 填充"
   ],
   "metadata": {
    "collapsed": false
   },
   "id": "e329823be2f3458b"
  },
  {
   "cell_type": "code",
   "execution_count": null,
   "outputs": [],
   "source": [
    "df.info()"
   ],
   "metadata": {
    "collapsed": false
   },
   "id": "d432baea69104025"
  },
  {
   "cell_type": "code",
   "execution_count": null,
   "outputs": [],
   "source": [
    "df['Revenue (Millions)'].mean()\n",
    "df['Metascore'].mean()"
   ],
   "metadata": {
    "collapsed": false
   },
   "id": "6b1a3aa30a24cb5"
  },
  {
   "cell_type": "code",
   "execution_count": null,
   "outputs": [],
   "source": [
    "for col_name in df.columns:\n",
    "    if df[col_name].isnull().sum() > 0:\n",
    "        df[col_name].fillna(df[col_name].mean(), inplace = True)\n",
    "        \n",
    "df.info()"
   ],
   "metadata": {
    "collapsed": false
   },
   "id": "9aceba4f6121f9ba"
  },
  {
   "cell_type": "code",
   "execution_count": 70,
   "outputs": [
    {
     "data": {
      "text/plain": "     Rank                    Title                     Genre  \\\n0       1  Guardians of the Galaxy   Action,Adventure,Sci-Fi   \n1       2               Prometheus  Adventure,Mystery,Sci-Fi   \n2       3                    Split           Horror,Thriller   \n3       4                     Sing   Animation,Comedy,Family   \n4       5            Suicide Squad  Action,Adventure,Fantasy   \n..    ...                      ...                       ...   \n995   996     Secret in Their Eyes       Crime,Drama,Mystery   \n996   997          Hostel: Part II                    Horror   \n997   998   Step Up 2: The Streets       Drama,Music,Romance   \n998   999             Search Party          Adventure,Comedy   \n999  1000               Nine Lives     Comedy,Family,Fantasy   \n\n                                           Description              Director  \\\n0    A group of intergalactic criminals are forced ...            James Gunn   \n1    Following clues to the origin of mankind, a te...          Ridley Scott   \n2    Three girls are kidnapped by a man with a diag...    M. Night Shyamalan   \n3    In a city of humanoid animals, a hustling thea...  Christophe Lourdelet   \n4    A secret government agency recruits some of th...            David Ayer   \n..                                                 ...                   ...   \n995  A tight-knit team of rising investigators, alo...             Billy Ray   \n996  Three American college students studying abroa...              Eli Roth   \n997  Romantic sparks occur between two dance studen...            Jon M. Chu   \n998  A pair of friends embark on a mission to reuni...        Scot Armstrong   \n999  A stuffy businessman finds himself trapped ins...      Barry Sonnenfeld   \n\n                                                Actors  Year  \\\n0    Chris Pratt, Vin Diesel, Bradley Cooper, Zoe S...  2014   \n1    Noomi Rapace, Logan Marshall-Green, Michael Fa...  2012   \n2    James McAvoy, Anya Taylor-Joy, Haley Lu Richar...  2016   \n3    Matthew McConaughey,Reese Witherspoon, Seth Ma...  2016   \n4    Will Smith, Jared Leto, Margot Robbie, Viola D...  2016   \n..                                                 ...   ...   \n995  Chiwetel Ejiofor, Nicole Kidman, Julia Roberts...  2015   \n996  Lauren German, Heather Matarazzo, Bijou Philli...  2007   \n997  Robert Hoffman, Briana Evigan, Cassie Ventura,...  2008   \n998  Adam Pally, T.J. Miller, Thomas Middleditch,Sh...  2014   \n999  Kevin Spacey, Jennifer Garner, Robbie Amell,Ch...  2016   \n\n     Runtime (Minutes)  Rating   Votes  Revenue (Millions)  Metascore  \n0                  121     8.1  757074              333.13       76.0  \n1                  124     7.0  485820              126.46       65.0  \n2                  117     7.3  157606              138.12       62.0  \n3                  108     7.2   60545              270.32       59.0  \n4                  123     6.2  393727              325.02       40.0  \n..                 ...     ...     ...                 ...        ...  \n995                111     6.2   27585                 NaN       45.0  \n996                 94     5.5   73152               17.54       46.0  \n997                 98     6.2   70699               58.01       50.0  \n998                 93     5.6    4881                 NaN       22.0  \n999                 87     5.3   12435               19.64       11.0  \n\n[1000 rows x 12 columns]",
      "text/html": "<div>\n<style scoped>\n    .dataframe tbody tr th:only-of-type {\n        vertical-align: middle;\n    }\n\n    .dataframe tbody tr th {\n        vertical-align: top;\n    }\n\n    .dataframe thead th {\n        text-align: right;\n    }\n</style>\n<table border=\"1\" class=\"dataframe\">\n  <thead>\n    <tr style=\"text-align: right;\">\n      <th></th>\n      <th>Rank</th>\n      <th>Title</th>\n      <th>Genre</th>\n      <th>Description</th>\n      <th>Director</th>\n      <th>Actors</th>\n      <th>Year</th>\n      <th>Runtime (Minutes)</th>\n      <th>Rating</th>\n      <th>Votes</th>\n      <th>Revenue (Millions)</th>\n      <th>Metascore</th>\n    </tr>\n  </thead>\n  <tbody>\n    <tr>\n      <th>0</th>\n      <td>1</td>\n      <td>Guardians of the Galaxy</td>\n      <td>Action,Adventure,Sci-Fi</td>\n      <td>A group of intergalactic criminals are forced ...</td>\n      <td>James Gunn</td>\n      <td>Chris Pratt, Vin Diesel, Bradley Cooper, Zoe S...</td>\n      <td>2014</td>\n      <td>121</td>\n      <td>8.1</td>\n      <td>757074</td>\n      <td>333.13</td>\n      <td>76.0</td>\n    </tr>\n    <tr>\n      <th>1</th>\n      <td>2</td>\n      <td>Prometheus</td>\n      <td>Adventure,Mystery,Sci-Fi</td>\n      <td>Following clues to the origin of mankind, a te...</td>\n      <td>Ridley Scott</td>\n      <td>Noomi Rapace, Logan Marshall-Green, Michael Fa...</td>\n      <td>2012</td>\n      <td>124</td>\n      <td>7.0</td>\n      <td>485820</td>\n      <td>126.46</td>\n      <td>65.0</td>\n    </tr>\n    <tr>\n      <th>2</th>\n      <td>3</td>\n      <td>Split</td>\n      <td>Horror,Thriller</td>\n      <td>Three girls are kidnapped by a man with a diag...</td>\n      <td>M. Night Shyamalan</td>\n      <td>James McAvoy, Anya Taylor-Joy, Haley Lu Richar...</td>\n      <td>2016</td>\n      <td>117</td>\n      <td>7.3</td>\n      <td>157606</td>\n      <td>138.12</td>\n      <td>62.0</td>\n    </tr>\n    <tr>\n      <th>3</th>\n      <td>4</td>\n      <td>Sing</td>\n      <td>Animation,Comedy,Family</td>\n      <td>In a city of humanoid animals, a hustling thea...</td>\n      <td>Christophe Lourdelet</td>\n      <td>Matthew McConaughey,Reese Witherspoon, Seth Ma...</td>\n      <td>2016</td>\n      <td>108</td>\n      <td>7.2</td>\n      <td>60545</td>\n      <td>270.32</td>\n      <td>59.0</td>\n    </tr>\n    <tr>\n      <th>4</th>\n      <td>5</td>\n      <td>Suicide Squad</td>\n      <td>Action,Adventure,Fantasy</td>\n      <td>A secret government agency recruits some of th...</td>\n      <td>David Ayer</td>\n      <td>Will Smith, Jared Leto, Margot Robbie, Viola D...</td>\n      <td>2016</td>\n      <td>123</td>\n      <td>6.2</td>\n      <td>393727</td>\n      <td>325.02</td>\n      <td>40.0</td>\n    </tr>\n    <tr>\n      <th>...</th>\n      <td>...</td>\n      <td>...</td>\n      <td>...</td>\n      <td>...</td>\n      <td>...</td>\n      <td>...</td>\n      <td>...</td>\n      <td>...</td>\n      <td>...</td>\n      <td>...</td>\n      <td>...</td>\n      <td>...</td>\n    </tr>\n    <tr>\n      <th>995</th>\n      <td>996</td>\n      <td>Secret in Their Eyes</td>\n      <td>Crime,Drama,Mystery</td>\n      <td>A tight-knit team of rising investigators, alo...</td>\n      <td>Billy Ray</td>\n      <td>Chiwetel Ejiofor, Nicole Kidman, Julia Roberts...</td>\n      <td>2015</td>\n      <td>111</td>\n      <td>6.2</td>\n      <td>27585</td>\n      <td>NaN</td>\n      <td>45.0</td>\n    </tr>\n    <tr>\n      <th>996</th>\n      <td>997</td>\n      <td>Hostel: Part II</td>\n      <td>Horror</td>\n      <td>Three American college students studying abroa...</td>\n      <td>Eli Roth</td>\n      <td>Lauren German, Heather Matarazzo, Bijou Philli...</td>\n      <td>2007</td>\n      <td>94</td>\n      <td>5.5</td>\n      <td>73152</td>\n      <td>17.54</td>\n      <td>46.0</td>\n    </tr>\n    <tr>\n      <th>997</th>\n      <td>998</td>\n      <td>Step Up 2: The Streets</td>\n      <td>Drama,Music,Romance</td>\n      <td>Romantic sparks occur between two dance studen...</td>\n      <td>Jon M. Chu</td>\n      <td>Robert Hoffman, Briana Evigan, Cassie Ventura,...</td>\n      <td>2008</td>\n      <td>98</td>\n      <td>6.2</td>\n      <td>70699</td>\n      <td>58.01</td>\n      <td>50.0</td>\n    </tr>\n    <tr>\n      <th>998</th>\n      <td>999</td>\n      <td>Search Party</td>\n      <td>Adventure,Comedy</td>\n      <td>A pair of friends embark on a mission to reuni...</td>\n      <td>Scot Armstrong</td>\n      <td>Adam Pally, T.J. Miller, Thomas Middleditch,Sh...</td>\n      <td>2014</td>\n      <td>93</td>\n      <td>5.6</td>\n      <td>4881</td>\n      <td>NaN</td>\n      <td>22.0</td>\n    </tr>\n    <tr>\n      <th>999</th>\n      <td>1000</td>\n      <td>Nine Lives</td>\n      <td>Comedy,Family,Fantasy</td>\n      <td>A stuffy businessman finds himself trapped ins...</td>\n      <td>Barry Sonnenfeld</td>\n      <td>Kevin Spacey, Jennifer Garner, Robbie Amell,Ch...</td>\n      <td>2016</td>\n      <td>87</td>\n      <td>5.3</td>\n      <td>12435</td>\n      <td>19.64</td>\n      <td>11.0</td>\n    </tr>\n  </tbody>\n</table>\n<p>1000 rows × 12 columns</p>\n</div>"
     },
     "execution_count": 70,
     "metadata": {},
     "output_type": "execute_result"
    }
   ],
   "source": [
    "df"
   ],
   "metadata": {
    "collapsed": false,
    "ExecuteTime": {
     "end_time": "2025-06-05T13:09:51.288023200Z",
     "start_time": "2025-06-05T13:09:51.282025200Z"
    }
   },
   "id": "b5e9376031b2db8e"
  },
  {
   "cell_type": "code",
   "execution_count": 77,
   "outputs": [
    {
     "name": "stdout",
     "output_type": "stream",
     "text": [
      "<class 'pandas.core.frame.DataFrame'>\n",
      "RangeIndex: 1000 entries, 0 to 999\n",
      "Data columns (total 12 columns):\n",
      " #   Column              Non-Null Count  Dtype  \n",
      "---  ------              --------------  -----  \n",
      " 0   Rank                1000 non-null   int64  \n",
      " 1   Title               1000 non-null   object \n",
      " 2   Genre               1000 non-null   object \n",
      " 3   Description         1000 non-null   object \n",
      " 4   Director            1000 non-null   object \n",
      " 5   Actors              1000 non-null   object \n",
      " 6   Year                1000 non-null   int64  \n",
      " 7   Runtime (Minutes)   1000 non-null   int64  \n",
      " 8   Rating              1000 non-null   float64\n",
      " 9   Votes               1000 non-null   int64  \n",
      " 10  Revenue (Millions)  872 non-null    float64\n",
      " 11  Metascore           936 non-null    float64\n",
      "dtypes: float64(3), int64(4), object(5)\n",
      "memory usage: 93.9+ KB\n"
     ]
    },
    {
     "data": {
      "text/plain": "     Rank                    Title                     Genre  \\\n0       1  Guardians of the Galaxy   Action,Adventure,Sci-Fi   \n1       2               Prometheus  Adventure,Mystery,Sci-Fi   \n2       3                    Split           Horror,Thriller   \n3       4                     Sing   Animation,Comedy,Family   \n4       5            Suicide Squad  Action,Adventure,Fantasy   \n..    ...                      ...                       ...   \n995   996     Secret in Their Eyes       Crime,Drama,Mystery   \n996   997          Hostel: Part II                    Horror   \n997   998   Step Up 2: The Streets       Drama,Music,Romance   \n998   999             Search Party          Adventure,Comedy   \n999  1000               Nine Lives     Comedy,Family,Fantasy   \n\n                                           Description              Director  \\\n0    A group of intergalactic criminals are forced ...            James Gunn   \n1    Following clues to the origin of mankind, a te...          Ridley Scott   \n2    Three girls are kidnapped by a man with a diag...    M. Night Shyamalan   \n3    In a city of humanoid animals, a hustling thea...  Christophe Lourdelet   \n4    A secret government agency recruits some of th...            David Ayer   \n..                                                 ...                   ...   \n995  A tight-knit team of rising investigators, alo...             Billy Ray   \n996  Three American college students studying abroa...              Eli Roth   \n997  Romantic sparks occur between two dance studen...            Jon M. Chu   \n998  A pair of friends embark on a mission to reuni...        Scot Armstrong   \n999  A stuffy businessman finds himself trapped ins...      Barry Sonnenfeld   \n\n                                                Actors  Year  \\\n0    Chris Pratt, Vin Diesel, Bradley Cooper, Zoe S...  2014   \n1    Noomi Rapace, Logan Marshall-Green, Michael Fa...  2012   \n2    James McAvoy, Anya Taylor-Joy, Haley Lu Richar...  2016   \n3    Matthew McConaughey,Reese Witherspoon, Seth Ma...  2016   \n4    Will Smith, Jared Leto, Margot Robbie, Viola D...  2016   \n..                                                 ...   ...   \n995  Chiwetel Ejiofor, Nicole Kidman, Julia Roberts...  2015   \n996  Lauren German, Heather Matarazzo, Bijou Philli...  2007   \n997  Robert Hoffman, Briana Evigan, Cassie Ventura,...  2008   \n998  Adam Pally, T.J. Miller, Thomas Middleditch,Sh...  2014   \n999  Kevin Spacey, Jennifer Garner, Robbie Amell,Ch...  2016   \n\n    Runtime (Minutes) Rating   Votes Revenue (Millions) Metascore  \n0                 121    8.1  757074             333.13        76  \n1                 124      7  485820             126.46        65  \n2                 117    7.3  157606             138.12        62  \n3                 108    7.2   60545             270.32        59  \n4                 123    6.2  393727             325.02        40  \n..                ...    ...     ...                ...       ...  \n995               111    6.2   27585              27585        45  \n996                94    5.5   73152              17.54        46  \n997                98    6.2   70699              58.01        50  \n998                93    5.6    4881               4881        22  \n999                87    5.3   12435              19.64        11  \n\n[1000 rows x 12 columns]",
      "text/html": "<div>\n<style scoped>\n    .dataframe tbody tr th:only-of-type {\n        vertical-align: middle;\n    }\n\n    .dataframe tbody tr th {\n        vertical-align: top;\n    }\n\n    .dataframe thead th {\n        text-align: right;\n    }\n</style>\n<table border=\"1\" class=\"dataframe\">\n  <thead>\n    <tr style=\"text-align: right;\">\n      <th></th>\n      <th>Rank</th>\n      <th>Title</th>\n      <th>Genre</th>\n      <th>Description</th>\n      <th>Director</th>\n      <th>Actors</th>\n      <th>Year</th>\n      <th>Runtime (Minutes)</th>\n      <th>Rating</th>\n      <th>Votes</th>\n      <th>Revenue (Millions)</th>\n      <th>Metascore</th>\n    </tr>\n  </thead>\n  <tbody>\n    <tr>\n      <th>0</th>\n      <td>1</td>\n      <td>Guardians of the Galaxy</td>\n      <td>Action,Adventure,Sci-Fi</td>\n      <td>A group of intergalactic criminals are forced ...</td>\n      <td>James Gunn</td>\n      <td>Chris Pratt, Vin Diesel, Bradley Cooper, Zoe S...</td>\n      <td>2014</td>\n      <td>121</td>\n      <td>8.1</td>\n      <td>757074</td>\n      <td>333.13</td>\n      <td>76</td>\n    </tr>\n    <tr>\n      <th>1</th>\n      <td>2</td>\n      <td>Prometheus</td>\n      <td>Adventure,Mystery,Sci-Fi</td>\n      <td>Following clues to the origin of mankind, a te...</td>\n      <td>Ridley Scott</td>\n      <td>Noomi Rapace, Logan Marshall-Green, Michael Fa...</td>\n      <td>2012</td>\n      <td>124</td>\n      <td>7</td>\n      <td>485820</td>\n      <td>126.46</td>\n      <td>65</td>\n    </tr>\n    <tr>\n      <th>2</th>\n      <td>3</td>\n      <td>Split</td>\n      <td>Horror,Thriller</td>\n      <td>Three girls are kidnapped by a man with a diag...</td>\n      <td>M. Night Shyamalan</td>\n      <td>James McAvoy, Anya Taylor-Joy, Haley Lu Richar...</td>\n      <td>2016</td>\n      <td>117</td>\n      <td>7.3</td>\n      <td>157606</td>\n      <td>138.12</td>\n      <td>62</td>\n    </tr>\n    <tr>\n      <th>3</th>\n      <td>4</td>\n      <td>Sing</td>\n      <td>Animation,Comedy,Family</td>\n      <td>In a city of humanoid animals, a hustling thea...</td>\n      <td>Christophe Lourdelet</td>\n      <td>Matthew McConaughey,Reese Witherspoon, Seth Ma...</td>\n      <td>2016</td>\n      <td>108</td>\n      <td>7.2</td>\n      <td>60545</td>\n      <td>270.32</td>\n      <td>59</td>\n    </tr>\n    <tr>\n      <th>4</th>\n      <td>5</td>\n      <td>Suicide Squad</td>\n      <td>Action,Adventure,Fantasy</td>\n      <td>A secret government agency recruits some of th...</td>\n      <td>David Ayer</td>\n      <td>Will Smith, Jared Leto, Margot Robbie, Viola D...</td>\n      <td>2016</td>\n      <td>123</td>\n      <td>6.2</td>\n      <td>393727</td>\n      <td>325.02</td>\n      <td>40</td>\n    </tr>\n    <tr>\n      <th>...</th>\n      <td>...</td>\n      <td>...</td>\n      <td>...</td>\n      <td>...</td>\n      <td>...</td>\n      <td>...</td>\n      <td>...</td>\n      <td>...</td>\n      <td>...</td>\n      <td>...</td>\n      <td>...</td>\n      <td>...</td>\n    </tr>\n    <tr>\n      <th>995</th>\n      <td>996</td>\n      <td>Secret in Their Eyes</td>\n      <td>Crime,Drama,Mystery</td>\n      <td>A tight-knit team of rising investigators, alo...</td>\n      <td>Billy Ray</td>\n      <td>Chiwetel Ejiofor, Nicole Kidman, Julia Roberts...</td>\n      <td>2015</td>\n      <td>111</td>\n      <td>6.2</td>\n      <td>27585</td>\n      <td>27585</td>\n      <td>45</td>\n    </tr>\n    <tr>\n      <th>996</th>\n      <td>997</td>\n      <td>Hostel: Part II</td>\n      <td>Horror</td>\n      <td>Three American college students studying abroa...</td>\n      <td>Eli Roth</td>\n      <td>Lauren German, Heather Matarazzo, Bijou Philli...</td>\n      <td>2007</td>\n      <td>94</td>\n      <td>5.5</td>\n      <td>73152</td>\n      <td>17.54</td>\n      <td>46</td>\n    </tr>\n    <tr>\n      <th>997</th>\n      <td>998</td>\n      <td>Step Up 2: The Streets</td>\n      <td>Drama,Music,Romance</td>\n      <td>Romantic sparks occur between two dance studen...</td>\n      <td>Jon M. Chu</td>\n      <td>Robert Hoffman, Briana Evigan, Cassie Ventura,...</td>\n      <td>2008</td>\n      <td>98</td>\n      <td>6.2</td>\n      <td>70699</td>\n      <td>58.01</td>\n      <td>50</td>\n    </tr>\n    <tr>\n      <th>998</th>\n      <td>999</td>\n      <td>Search Party</td>\n      <td>Adventure,Comedy</td>\n      <td>A pair of friends embark on a mission to reuni...</td>\n      <td>Scot Armstrong</td>\n      <td>Adam Pally, T.J. Miller, Thomas Middleditch,Sh...</td>\n      <td>2014</td>\n      <td>93</td>\n      <td>5.6</td>\n      <td>4881</td>\n      <td>4881</td>\n      <td>22</td>\n    </tr>\n    <tr>\n      <th>999</th>\n      <td>1000</td>\n      <td>Nine Lives</td>\n      <td>Comedy,Family,Fantasy</td>\n      <td>A stuffy businessman finds himself trapped ins...</td>\n      <td>Barry Sonnenfeld</td>\n      <td>Kevin Spacey, Jennifer Garner, Robbie Amell,Ch...</td>\n      <td>2016</td>\n      <td>87</td>\n      <td>5.3</td>\n      <td>12435</td>\n      <td>19.64</td>\n      <td>11</td>\n    </tr>\n  </tbody>\n</table>\n<p>1000 rows × 12 columns</p>\n</div>"
     },
     "execution_count": 77,
     "metadata": {},
     "output_type": "execute_result"
    }
   ],
   "source": [
    "df = pd.read_csv('pandasData/movie.csv')\n",
    "df.info()\n",
    "\n",
    "# 按行修改, 向前填充（使用左侧值）\n",
    "df_filled = df.fillna(method = 'ffill', axis = \"columns\")\n",
    "df_filled\n",
    "        "
   ],
   "metadata": {
    "collapsed": false,
    "ExecuteTime": {
     "end_time": "2025-06-05T13:13:18.792263200Z",
     "start_time": "2025-06-05T13:13:18.678648500Z"
    }
   },
   "id": "5fb54f1dfe5a0fc9"
  },
  {
   "cell_type": "markdown",
   "source": [
    "# 元素级 与 行列级"
   ],
   "metadata": {
    "collapsed": false
   },
   "id": "261a21987056e076"
  },
  {
   "cell_type": "code",
   "execution_count": 91,
   "outputs": [
    {
     "data": {
      "text/plain": "      Rank  Title  Genre  Description  Director  Actors   Year  \\\n0    False  False  False        False     False   False  False   \n1    False  False  False        False     False   False  False   \n2    False  False  False        False     False   False  False   \n3    False  False  False        False     False   False  False   \n4    False  False  False        False     False   False  False   \n..     ...    ...    ...          ...       ...     ...    ...   \n995  False  False  False        False     False   False  False   \n996  False  False  False        False     False   False  False   \n997  False  False  False        False     False   False  False   \n998  False  False  False        False     False   False  False   \n999  False  False  False        False     False   False  False   \n\n     Runtime (Minutes)  Rating  Votes  Revenue (Millions)  Metascore  \n0                False   False  False               False      False  \n1                False   False  False               False      False  \n2                False   False  False               False      False  \n3                False   False  False               False      False  \n4                False   False  False               False      False  \n..                 ...     ...    ...                 ...        ...  \n995              False   False  False                True      False  \n996              False   False  False               False      False  \n997              False   False  False               False      False  \n998              False   False  False                True      False  \n999              False   False  False               False      False  \n\n[1000 rows x 12 columns]",
      "text/html": "<div>\n<style scoped>\n    .dataframe tbody tr th:only-of-type {\n        vertical-align: middle;\n    }\n\n    .dataframe tbody tr th {\n        vertical-align: top;\n    }\n\n    .dataframe thead th {\n        text-align: right;\n    }\n</style>\n<table border=\"1\" class=\"dataframe\">\n  <thead>\n    <tr style=\"text-align: right;\">\n      <th></th>\n      <th>Rank</th>\n      <th>Title</th>\n      <th>Genre</th>\n      <th>Description</th>\n      <th>Director</th>\n      <th>Actors</th>\n      <th>Year</th>\n      <th>Runtime (Minutes)</th>\n      <th>Rating</th>\n      <th>Votes</th>\n      <th>Revenue (Millions)</th>\n      <th>Metascore</th>\n    </tr>\n  </thead>\n  <tbody>\n    <tr>\n      <th>0</th>\n      <td>False</td>\n      <td>False</td>\n      <td>False</td>\n      <td>False</td>\n      <td>False</td>\n      <td>False</td>\n      <td>False</td>\n      <td>False</td>\n      <td>False</td>\n      <td>False</td>\n      <td>False</td>\n      <td>False</td>\n    </tr>\n    <tr>\n      <th>1</th>\n      <td>False</td>\n      <td>False</td>\n      <td>False</td>\n      <td>False</td>\n      <td>False</td>\n      <td>False</td>\n      <td>False</td>\n      <td>False</td>\n      <td>False</td>\n      <td>False</td>\n      <td>False</td>\n      <td>False</td>\n    </tr>\n    <tr>\n      <th>2</th>\n      <td>False</td>\n      <td>False</td>\n      <td>False</td>\n      <td>False</td>\n      <td>False</td>\n      <td>False</td>\n      <td>False</td>\n      <td>False</td>\n      <td>False</td>\n      <td>False</td>\n      <td>False</td>\n      <td>False</td>\n    </tr>\n    <tr>\n      <th>3</th>\n      <td>False</td>\n      <td>False</td>\n      <td>False</td>\n      <td>False</td>\n      <td>False</td>\n      <td>False</td>\n      <td>False</td>\n      <td>False</td>\n      <td>False</td>\n      <td>False</td>\n      <td>False</td>\n      <td>False</td>\n    </tr>\n    <tr>\n      <th>4</th>\n      <td>False</td>\n      <td>False</td>\n      <td>False</td>\n      <td>False</td>\n      <td>False</td>\n      <td>False</td>\n      <td>False</td>\n      <td>False</td>\n      <td>False</td>\n      <td>False</td>\n      <td>False</td>\n      <td>False</td>\n    </tr>\n    <tr>\n      <th>...</th>\n      <td>...</td>\n      <td>...</td>\n      <td>...</td>\n      <td>...</td>\n      <td>...</td>\n      <td>...</td>\n      <td>...</td>\n      <td>...</td>\n      <td>...</td>\n      <td>...</td>\n      <td>...</td>\n      <td>...</td>\n    </tr>\n    <tr>\n      <th>995</th>\n      <td>False</td>\n      <td>False</td>\n      <td>False</td>\n      <td>False</td>\n      <td>False</td>\n      <td>False</td>\n      <td>False</td>\n      <td>False</td>\n      <td>False</td>\n      <td>False</td>\n      <td>True</td>\n      <td>False</td>\n    </tr>\n    <tr>\n      <th>996</th>\n      <td>False</td>\n      <td>False</td>\n      <td>False</td>\n      <td>False</td>\n      <td>False</td>\n      <td>False</td>\n      <td>False</td>\n      <td>False</td>\n      <td>False</td>\n      <td>False</td>\n      <td>False</td>\n      <td>False</td>\n    </tr>\n    <tr>\n      <th>997</th>\n      <td>False</td>\n      <td>False</td>\n      <td>False</td>\n      <td>False</td>\n      <td>False</td>\n      <td>False</td>\n      <td>False</td>\n      <td>False</td>\n      <td>False</td>\n      <td>False</td>\n      <td>False</td>\n      <td>False</td>\n    </tr>\n    <tr>\n      <th>998</th>\n      <td>False</td>\n      <td>False</td>\n      <td>False</td>\n      <td>False</td>\n      <td>False</td>\n      <td>False</td>\n      <td>False</td>\n      <td>False</td>\n      <td>False</td>\n      <td>False</td>\n      <td>True</td>\n      <td>False</td>\n    </tr>\n    <tr>\n      <th>999</th>\n      <td>False</td>\n      <td>False</td>\n      <td>False</td>\n      <td>False</td>\n      <td>False</td>\n      <td>False</td>\n      <td>False</td>\n      <td>False</td>\n      <td>False</td>\n      <td>False</td>\n      <td>False</td>\n      <td>False</td>\n    </tr>\n  </tbody>\n</table>\n<p>1000 rows × 12 columns</p>\n</div>"
     },
     "execution_count": 91,
     "metadata": {},
     "output_type": "execute_result"
    }
   ],
   "source": [
    "#元素级的判空\n",
    "df.isnull()"
   ],
   "metadata": {
    "collapsed": false,
    "ExecuteTime": {
     "end_time": "2025-06-05T13:26:02.177623700Z",
     "start_time": "2025-06-05T13:26:02.149853400Z"
    }
   },
   "id": "66f1568b1f14ea1b"
  },
  {
   "cell_type": "code",
   "execution_count": 93,
   "outputs": [
    {
     "data": {
      "text/plain": "0      False\n1      False\n2      False\n3      False\n4      False\n       ...  \n995     True\n996    False\n997    False\n998     True\n999    False\nLength: 1000, dtype: bool"
     },
     "execution_count": 93,
     "metadata": {},
     "output_type": "execute_result"
    }
   ],
   "source": [
    "\n",
    "# df.isnull().any(axis = \"index\")\n",
    "df.isnull().any(axis = \"columns\")"
   ],
   "metadata": {
    "collapsed": false,
    "ExecuteTime": {
     "end_time": "2025-06-05T13:26:40.326224400Z",
     "start_time": "2025-06-05T13:26:40.303226300Z"
    }
   },
   "id": "a9b5ddab88ca27d5"
  },
  {
   "cell_type": "code",
   "execution_count": 103,
   "outputs": [
    {
     "data": {
      "text/plain": "0     9\n1     7\n2    10\ndtype: int64"
     },
     "execution_count": 103,
     "metadata": {},
     "output_type": "execute_result"
    }
   ],
   "source": [
    "df = pd.DataFrame(data = {\n",
    "    \"date\": [8, 5, 7],\n",
    "    \"date2\": [1, 2, 3]\n",
    "})\n",
    "df.sum(axis = \"columns\")"
   ],
   "metadata": {
    "collapsed": false,
    "ExecuteTime": {
     "end_time": "2025-06-05T13:43:50.790000300Z",
     "start_time": "2025-06-05T13:43:50.783912200Z"
    }
   },
   "id": "48a9f0e935a0289f"
  }
 ],
 "metadata": {
  "kernelspec": {
   "display_name": "Python 3",
   "language": "python",
   "name": "python3"
  },
  "language_info": {
   "codemirror_mode": {
    "name": "ipython",
    "version": 2
   },
   "file_extension": ".py",
   "mimetype": "text/x-python",
   "name": "python",
   "nbconvert_exporter": "python",
   "pygments_lexer": "ipython2",
   "version": "2.7.6"
  }
 },
 "nbformat": 4,
 "nbformat_minor": 5
}
